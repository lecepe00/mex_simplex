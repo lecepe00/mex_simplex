{
 "cells": [
  {
   "cell_type": "markdown",
   "id": "cordless-migration",
   "metadata": {},
   "source": [
    "<img src=\"../images/itam_mcd_logo.png\">\n",
    "\n",
    "# Implementación Método Simplex"
   ]
  },
  {
   "cell_type": "markdown",
   "id": "established-paradise",
   "metadata": {},
   "source": [
    "### Prefacio"
   ]
  },
  {
   "cell_type": "markdown",
   "id": "spread-faculty",
   "metadata": {},
   "source": [
    "En el siguiente reporte se implementará el paquete `mex` creado por los autores de este proyecto, que tiene como función principal resolver problemas de Programación Lineal, usualmente denotados por **LP** (por sus siglas en inglés *Linear Programming*). Se indagará en la formulación matemática del problema a resolver, así como de la metodología utilizada en el *Método Símplex*."
   ]
  },
  {
   "cell_type": "markdown",
   "id": "precious-texture",
   "metadata": {},
   "source": [
    "## 1. Programación lineal\n",
    "La **Programación Lineal** es una sección de una de las ramas de las matemáticas que se ha consolidado a lo largo del Siglo XX con el nombre de Optimización. En general, esta última rama trata de varias técnicas matemáticas que buscan obtener el mayor provecho en sistemas biológicos, económicos, tecnológicos, etc. Dichas técnicas se basaron en la idea de construir un **programa** que ayudase a encontrar la solución *óptima*. Según las caracteríticas de las funciones del problema y de las variables, se tienen diversos tipos de problemas de Programación Matemática; en el caso particular, en donde todas las funciones del problema, objetivo y restricciones son lineales, se tiene un problema de **Programación Lineal**.\n",
    "\n",
    "La Programación Lineal estudia el problema de optimizar (ya sea minimizar o maximizar) una función lineal en la presencia de restricciones de la forma de desigualdades lineales. Unas de las principales ventajas de la Programación Lineal son la habilidad de modelar problemas grandes y complejos, así como la habilidad para resolver tales problemas (inclusive de grande escala) en un intervalo de tiempo razonable mediante el uso del **método símplex** y de computadoras.\n",
    "\n",
    "El auge de la Programación Lineal se dio en fechas previas al fin de la Segunda Guerra Mundial, que fue una época en donde se hizo evidente que era fundamental la planificación y coordinación entre varios proyectos y, más aún, el uso **eficaz de los recursos disponibles**. En este tiempo, la programación lineal se planteó como un modelo matemático desarrollado para tener una mejor planificación en cuanto a gastos y retornos, pero sobretodo para reducir los costos del ejército y aumentar las pérdidas del enemigo. En particular, el auge se da en junio de $1947$ cuando inicia un proyecto de la Fuerza Aérea de los EE.UU conocido como **SCOOP (Scientific Computation of Optimum Programs)**. Como resultado de éste se tuvo el **método símplex**, desarrollado por el matemático George B. Dantzig para el final del verano de dicho año. El interés de la Programación Lineal se difundió muy rápido entre economistas, matemáticos, estadísticos, instituciones gubernamentales, entre otros. \n",
    "\n",
    "\n",
    "![George Dantinzg](../images/progr_lineal_1.png)\n",
    "\n",
    "\n",
    "Los elementos de un problema de Programación Lineal son:\n",
    "\n",
    "+ Función objetivo: usualmente denotada por $f(x)$ con $x \\in \\mathbb{R}^n$, donde se tiene $n$ variables de interés. $f$ tiene como única restricción ser lineal respecto a $x$, esto es:\n",
    "\n",
    "$$ f(x) = c_1x_1 + c_2x_2 + ... + c_nx_n $$\n",
    "\n",
    "Por lo general, $c$ es conocido como el vector de costos.\n",
    "\n",
    "+ Restricciones del tipo de desigualdad, bajo la restricción de que sean lineales respecto a $x$. Esto es para la función $h(x)$ y la cota superior $b$:\n",
    "\n",
    "$$ h(x) = a_1x_1 + a_2x_2 + ... + a_nx_n \\leq b $$\n",
    "\n",
    "Se pueden tener tantas restricciones como sea necesario:\n",
    "\n",
    "$$ h_1(x) = a_{11}x_1 + a_{12}x_2 + ... + a_{1n}x_n \\leq b_1 \n",
    "\\\\\n",
    "h_2(x) = a_{21}x_1 + a_{22}x_2 + ... + a_{2n}x_n \\leq b_2 \n",
    "\\\\\n",
    "\\vdots\n",
    "\\\\\n",
    "h_m(x) = a_{m1}x_1 + a_{m2}x_2 + ... + a_{mn}x_n \\leq b_m $$\n",
    "\n",
    "+ Variables no negativas: se tiene la restricción de que la variable que conforme la solución del problema esté conformada por valores no negativos, esto es:\n",
    "\n",
    "$$ x_1, x_2, ..., x_n \\geq 0$$\n",
    "\n",
    "\n",
    "Así pues, un problema de Programación Lineal tiene la siguiente forma:\n",
    "\n",
    "$$\\min_{x_1,x_2,...,x_n \\in \\mathbb{R}} c_1x_1 + c_2x_2 + ... + c_nx_n $$\n",
    "\n",
    "\n",
    "$$\\text{sujeto a}$$\n",
    "\n",
    "\n",
    "$$ h_1(x) = a_{11}x_1 + a_{12}x_2 + ... + a_{1n}x_n \\leq b_1 $$\n",
    "\n",
    "\n",
    "$$ h_2(x) = a_{21}x_1 + a_{22}x_2 + ... + a_{2n}x_n \\leq b_2 $$\n",
    "\n",
    "\n",
    "$$ \\vdots  $$\n",
    "\n",
    "\n",
    "$$ h_m(x) = a_{m1}x_1 + a_{m2}x_2 + ... + a_{mn}x_n \\leq b_m $$\n",
    "\n",
    "\n",
    "$$ x_1, x_2, ..., x_n \\geq 0 $$\n",
    "\n",
    "\n",
    "Si utilizamos álgebra matricial para representar el problema de una forma más compacta, entonces se tiene la siguiente forma:\n",
    "\n",
    "$$\\min_{x \\in \\mathbb{R}^n} c^Tx $$\n",
    "\n",
    "$$\\text{sujeto a}$$\n",
    "$$ h(x) = Ax \\leq b $$\n",
    "\n",
    "$$ x \\geq 0 $$\n",
    "\n",
    "En donde:\n",
    "\n",
    "$$ x = (x_1, x_2, ..., x_n)^T $$\n",
    "\n",
    "$$ c = (c_1, c_2, ..., c_n)^T $$\n",
    "\n",
    "$$ b = (b_1, b_2, ..., b_m)^T $$\n",
    "\n",
    "$$\n",
    "  A=\n",
    "  \\left[ {\\begin{array}{cc}\n",
    "   a11 & a12 & ... & a1n\\\\\n",
    "   a21 & a22 & ... & a2n\\\\\n",
    "   \\vdots & \\vdots & ... & \\vdots \\\\\n",
    "   am1 & am2 & ... & amn\\\\\n",
    "  \\end{array} } \\right]; A \\in \\mathbb{R}^{m\\text{x}n}\n",
    "$$"
   ]
  },
  {
   "cell_type": "markdown",
   "id": "saving-beatles",
   "metadata": {},
   "source": [
    "## 1. Programación lineal\n",
    "La **Programación Lineal** es una sección de una de las ramas de las matemáticas que se ha consolidado a lo largo del Siglo XX con el nombre de Optimización. En general, esta última rama trata de varias técnicas matemáticas que buscan obtener el mayor provecho en sistemas biológicos, económicos, tecnológicos, etc. Dichas técnicas se basaron en la idea de construir un **programa** que ayudase a encontrar la solución *óptima*. Según las caracteríticas de las funciones del problema y de las variables, se tienen diversos tipos de problemas de Programación Matemática; en el caso particular, en donde todas las funciones del problema, objetivo y restricciones son lineales, se tiene un problema de **Programación Lineal**.\n",
    "\n",
    "La Programación Lineal estudia el problema de optimizar (ya sea minimizar o maximizar) una función lineal en la presencia de restricciones de la forma de desigualdades lineales. Unas de las principales ventajas de la Programación Lineal son la habilidad de modelar problemas grandes y complejos, así como la habilidad para resolver tales problemas (inclusive de grande escala) en un intervalo de tiempo razonable mediante el uso del **método símplex** y de computadoras.\n",
    "\n",
    "El auge de la Programación Lineal se dio en fechas previas al fin de la Segunda Guerra Mundial, que fue una época en donde se hizo evidente que era fundamental la planificación y coordinación entre varios proyectos y, más aún, el uso **eficaz de los recursos disponibles**. En este tiempo, la programación lineal se planteó como un modelo matemático desarrollado para tener una mejor planificación en cuanto a gastos y retornos, pero sobretodo para reducir los costos del ejército y aumentar las pérdidas del enemigo. En particular, el auge se da en junio de $1947$ cuando inicia un proyecto de la Fuerza Aérea de los EE.UU conocido como **SCOOP (Scientific Computation of Optimum Programs)**. Como resultado de éste se tuvo el **método símplex**, desarrollado por el matemático George B. Dantzig para el final del verano de dicho año. El interés de la Programación Lineal se difundió muy rápido entre economistas, matemáticos, estadísticos, instituciones gubernamentales, entre otros. \n",
    "\n",
    "\n",
    "![George Dantinzg](../images/progr_lineal_1.png)\n",
    "\n",
    "\n",
    "Los elementos de un problema de Programación Lineal son:\n",
    "\n",
    "+ Función objetivo: usualmente denotada por $f(x)$ con $x \\in \\mathbb{R}^n$, donde se tiene $n$ variables de interés. $f$ tiene como única restricción ser lineal respecto a $x$, esto es:\n",
    "\n",
    "$$ f(x) = c_1x_1 + c_2x_2 + ... + c_nx_n $$\n",
    "\n",
    "Por lo general, $c$ es conocido como el vector de costos.\n",
    "\n",
    "+ Restricciones del tipo de desigualdad, bajo la restricción de que sean lineales respecto a $x$. Esto es para la función $h(x)$ y la cota superior $b$:\n",
    "\n",
    "$$ h(x) = a_1x_1 + a_2x_2 + ... + a_nx_n \\leq b $$\n",
    "\n",
    "Se pueden tener tantas restricciones como sea necesario:\n",
    "\n",
    "$$ h_1(x) = a_{11}x_1 + a_{12}x_2 + ... + a_{1n}x_n \\leq b_1 \n",
    "\\\\\n",
    "h_2(x) = a_{21}x_1 + a_{22}x_2 + ... + a_{2n}x_n \\leq b_2 $$\n",
    "$$ \\vdots  $$\n",
    "$$ h_m(x) = a_{m1}x_1 + a_{m2}x_2 + ... + a_{mn}x_n \\leq b_m $$\n",
    "\n",
    "+ Variables no negativas: se tiene la restricción de que la variable que conforme la solución del problema esté conformada por valores no negativos, esto es:\n",
    "\n",
    "$$ x_1, x_2, ..., x_n \\geq 0$$\n",
    "\n",
    "\n",
    "Así pues, un problema de Programación Lineal tiene la siguiente forma:\n",
    "\n",
    "$$\\min_{x_1,x_2,...,x_n \\in \\mathbb{R}} c_1x_1 + c_2x_2 + ... + c_nx_n $$\n",
    "\n",
    "$$\\text{sujeto a}$$\n",
    "$$ h_1(x) = a_{11}x_1 + a_{12}x_2 + ... + a_{1n}x_n \\leq b_1 $$\n",
    "$$ h_2(x) = a_{21}x_1 + a_{22}x_2 + ... + a_{2n}x_n \\leq b_2 $$\n",
    "$$ \\vdots  $$\n",
    "$$ h_m(x) = a_{m1}x_1 + a_{m2}x_2 + ... + a_{mn}x_n \\leq b_m $$\n",
    "\n",
    "$$ x_1, x_2, ..., x_n \\geq 0 $$\n",
    "\n",
    "Si utilizamos álgebra matricial para representar el problema de una forma más compacta, entonces se tiene la siguiente forma:\n",
    "\n",
    "$$\\min_{x \\in \\mathbb{R}^n} c^Tx $$\n",
    "\n",
    "$$\\text{sujeto a}$$\n",
    "$$ h(x) = Ax \\leq b $$\n",
    "\n",
    "$$ x \\geq 0 $$\n",
    "\n",
    "En donde:\n",
    "\n",
    "$$ x = (x_1, x_2, ..., x_n)^T $$\n",
    "\n",
    "$$ c = (c_1, c_2, ..., c_n)^T $$\n",
    "\n",
    "$$ b = (b_1, b_2, ..., b_m)^T $$\n",
    "\n",
    "$$\n",
    "  A=\n",
    "  \\left[ {\\begin{array}{cc}\n",
    "   a11 & a12 & ... & a1n\\\\\n",
    "   a21 & a22 & ... & a2n\\\\\n",
    "   \\vdots & \\vdots & ... & \\vdots \\\\\n",
    "   am1 & am2 & ... & amn\\\\\n",
    "  \\end{array} } \\right]; A \\in \\mathbb{R}^{m\\text{x}n}\n",
    "$$"
   ]
  },
  {
   "cell_type": "markdown",
   "id": "solar-aggregate",
   "metadata": {},
   "source": [
    "## 2. Método Símplex\n",
    "\n",
    "El **método símplex** fue creado en el año 1947 por el matemático [George B. Dantzig](https://en.wikipedia.org/wiki/George_Dantzig) con el objetivo de resolver problemas de programación lineal en los que pueden intervenir más de $2$ variables, permitiendo mejorar las respuestas paso a paso y lograr alcanzar la solución óptima de dicho problema.\n",
    "\n",
    "![George Dantinzg](../images/george_dantzing.png)\n",
    "\n",
    "El **método símplex** es un procedimiento iterativo utilizado para resolver un problema de programación lineal (*LP*), que tiene como objetivo la búsqueda de la solución óptima. \n",
    "\n",
    "Para tener una mejor idea intuitiva de cómo funciona el método símplex se revisarán las siguientes definiciones:\n",
    "+ El conjunto factible (posibles soluciones al *LP*) puede representarse por medio de un poliedro convexo. Éste es un resultado aplicable a cualquier *LP*.\n",
    "+ Si un *LP* tiene una solución óptima y finita, entonces dicha solución se encuentra en uno de los **vértices del poliedro convexo**.\n",
    "\n",
    "Intuitivamente, el método inicia en uno de los vértices del problema y verifica si éste es óptimo. Si no lo es, entonces busca un vértice adyacente que mejore el valor de la función objetivo, y así sucesivamente hasta llegar al vértice que no permita una mejora en la función objetivo, siendo ahí donde se encuentra la solución óptima. En la siguiente imagen se representa un gráfico que ayuda a imaginarse esta última descripción.\n",
    "\n",
    "<img src=\"../images/repr_graf_met_simp.png\">\n",
    "\n",
    "Cabe mencionar que el método símplex trabaja bajo el supuesto de que el problema a optimizar se encuentra en su forma estándar, la cual es la siguiente:\n",
    "\n",
    "$$ \\min_{x \\in \\mathbb{R}^n} c^Tx $$\n",
    "\n",
    "$$ \\text{sujeto a} $$\n",
    "$$ Ax = b $$\n",
    "$$ x \\geq 0 $$\n",
    "\n",
    "En donde $ A \\in \\mathbb{R}^{m \\text{x} n}, b \\in \\mathbb{R}^m $.\n",
    "\n",
    "Los pasos para resolver un *LP* utilizando el método símplex son los siguintes:\n",
    "1. El primer paso es transformar el problema a su versión estándar y crear el *tableu*. En caso de que el lector tenga duda sobre cómo realizar este paso sugerimos visitar la siguiente [liga](http://www.phpsimplex.com/teoria_metodo_simplex.htm).\n",
    "1. Determinar la solución básica inicial.\n",
    "1. Mediante la **condición de optimalidad** determinar cuál será la variable de entrada. En caso de que no exista una variable de entrada, entonces se ha llegado a la condición óptima y finaliza el algoritmo. En caso contrario se continúa con el siguiente paso.\n",
    "1. Mediante la **condición de factibilidad** se selecciona la variable de salida.\n",
    "1. Se actualiza el *tableau* mediante las operaciones de Gauss-Jordan y se regresa al paso $3$.\n",
    "\n",
    "A continuación se realizará una explicación más profunda del método símplex basándonos en un ejemplo de pequeña escala, que ayudará (o eso se espera) a entender con mayor facilidad. \n",
    "\n",
    "El ejemplo a explicar se encontró en la [siguiente liga](https://www.plandemejora.com/metodo-simplex-paso-a-paso-ejemplos-maximizar-minimizar/), donde el *LP* a resolver es el siguiente:\n",
    "\n",
    "$$ \\max_{x \\in \\mathbb{R}^2} 3x_1 + 2x_2 $$\n",
    "\n",
    "$$ \\text{sujeto a} $$\n",
    "$$ 2x_1 + 5x_2 \\leq 35 $$\n",
    "$$ -3x_1 + +2x_2 \\geq -18 $$\n",
    "$$ 2x_1 + 4x_2 \\leq 26 $$\n",
    "$$ x_1,x_2 \\geq 0 $$\n",
    "\n",
    "#### 1. Transformar el problema a su versión estándar y crear *tableau*\n",
    "Transformemos el siguiente problema a su versión estándar:\n",
    "\n",
    "$$ \\max_{x \\in \\mathbb{R}^2} 3x_1 + 2x_2 $$\n",
    "\n",
    "$$ \\text{sujeto a} $$\n",
    "$$ 2x_1 + 5x_2 \\leq 35 $$\n",
    "$$ -3x_1 + +2x_2 \\geq -18 $$\n",
    "$$ 2x_1 + 4x_2 \\leq 26 $$\n",
    "$$ x_1,x_2 \\geq 0 $$\n",
    "\n",
    "Versión estándar del problema:\n",
    "\n",
    "$$ \\max_{x \\in \\mathbb{R}^2} 3x_1 + 2x_2 + 0s_1 + 0s_2 + 0s_3 $$\n",
    "\n",
    "$$ \\text{sujeto a}$$\n",
    "$$ 2x_1 + 5x_2 + 1s_1 + 0s_2 +0s_3 = 35 $$\n",
    "$$ 3x_1 - 2x_2 + 0s_1 + 1s_2 +0s_3 = 18 $$\n",
    "$$ 2x_1 + 4x_2 + 0s_1 + 0s_2 +1s_3= 26 $$\n",
    "$$ x_1, x_2, s_1, s_2, s_3 \\geq 0 $$\n",
    "\n",
    "Ahora se crea el *tableau*:\n",
    "\n",
    "<img src=\"../images/simplex_1.png\">\n",
    "\n",
    "#### 2. Determinar la solución básica inicial\n",
    "En este caso en específico la solución básica inical sería:\n",
    "\n",
    "$$ s_1=35, s_2=18, s_3=26 $$\n",
    "\n",
    "que corresponden al conjunto de variables básicas iniciales (es decir, que conforman la *base*) con valores iguales al vector $b$. Las variables que no se encuentran en la base se denominan variables no básicas; en este caso serían $x_1$ y $x_2$, las cuales tienen valor de $0$. Cabe mencionar que en todos los pasos las variables no básicas son iguales a $0$.\n",
    "\n",
    "#### 3. Seleccionar la variable de entrada mediante la condición de optimalidad\n",
    "\n",
    "Busca responder la pregunta ¿la solución actual en nuestro *tableau* actual es óptima o se puede mejorar? Para ello se verifica lo siguiente:\n",
    "+ **Problema de maximización**: verificar que todos los coeficientes del vector de costos reducidos ($c$) son *mayores o iguales* que cero; esto quiere decir que estamos en el punto óptimo y se ha finalizado el problema, pues se ha encontrado una solución óptima.\n",
    "+ **Problema de minimización**: verificar que todos los coeficientes del vector de costos reducidos ($c$) son *menores o iguales* que cero; esto quiere decir que estamos en el punto óptimo y se ha finalizado el problema, pues se ha encontrado una solución óptima.\n",
    "\n",
    "Dado que nuestro ejemplo es un problema de maximización, entonces notamos que uno de los coeficientes del vector de costos ($c$) es *menor* a cero, en específico, el que está asociado a la segunda entrada. Esto implica que no se cumple la condición de optimalidad y aún se puede mejorar el valor de la solución. En la siguiente imagen se muestra este hecho.\n",
    "\n",
    "<img src=\"../images/simplex_2.png\">\n",
    "\n",
    "La **variable de entrada** será una de las variables no básicas que ingresará a la base; es decir, formará parte de las variables básicas y de la solución del problema. Los criterios para determinar la variable de entrada se mencionan a continuación:\n",
    "\n",
    "+ **Problema de maximización**: variable no básica con el coeficiente **más negativo** (o más pequeño) en el vector de costos reducidos.\n",
    "+ **Problema de minimización**: variable no básica con el coeficiente **más positivo** (o más grande) en el vector de costos reducidos.\n",
    "\n",
    "La columna donde está ubicada dicha variable se denominará **columna pivote**.\n",
    "\n",
    "En nuestro ejemplo, notemos que el vector de costos en la primera iteración es:\n",
    "\n",
    "$$ c = (-3,-2,0,0,0) $$\n",
    "\n",
    "Dado que es un problema de maximización, entonces elegimos el valor más pequeño (o, análogamente, el más negativo). Éste corresponde a $-3$, ubicado en la primera posición que hace referencia a la variable $x_1$. La siguiente gráfica brinda un apoyo visual de este proceso:\n",
    "\n",
    "<img src=\"../images/simplex_2_1.png\">\n",
    "\n",
    "#### 4. Seleccionar la variable de salida mediante la condición de factibilidad\n",
    "\n",
    "La condición de factibilidad, ya sea un problema de maximización o minimización, analiza si el problema tiene solución no acotada. Esto se realiza mediante la verificación de que al menos uno de los valores de la columna pivote sea mayor que $0$.\n",
    "\n",
    "Para determinar la **variable de salida** se debe dividir cada elemento de la columna $R$ (que en la primera iteración es igual al vector $b$) entre cada elemento de la columna correspondiente a la variable de entrada (siempre y cuando el divisor sea distinto de cero). Una vez calculado este cociente, la variable de salida corresponde a la posición con el valor más pequeño. Dicha posición hace referencia a una de las variables básicas, por lo que se denotará a este renglón como **renglón pivote**.\n",
    "\n",
    "A la posición que hace intersección entre la **columna pivote** y el **renglón pivote** la denotaremos como **elemento pivote**.\n",
    "\n",
    "En nuestro ejemplo, esto sería realizar lo siguiente:\n",
    "\n",
    "$$ v_{{\\text{exit}}} = R ./ x_1 = (35, 18, 26) ./ (2, 3, 2) = \\left(\\frac{35}{2}, \\frac{18}{3}, \\frac{26}{2}\\right) = (17.5, 6, 13) $$\n",
    "\n",
    "Luego tomamos el mínimo,\n",
    "$$ \\min (v_{{\\text{exit}}}) = 6 $$\n",
    "\n",
    "El cual corresponde a la segunda posición, que hace referencia a la variable $s_2$ del conjunto base.\n",
    "\n",
    "El siguiente gráfico ayuda a entender este proceso:\n",
    "\n",
    "<img src = \"../images/simplex_3.png\">\n",
    "\n",
    "#### 5. Actualización del *tableau* mediante las operaciones de Gauss-Jordan\n",
    "\n",
    "Una vez determinado el elemento pivote se proseguirá a realizar las operaciones de Gauss-Jordan para formar la matriz identidad ($I$), mediante la siguiente forma:\n",
    "+ Renglón pivote: dividir el valor actual de cada entrada entre el elemento pivote, esto hará que el pivote tenga un nuevo valor igual a $1$. Esto es:\n",
    "\n",
    "$$ \\text{Nuevo renglón pivote} = \\frac{\\text{Renglón pivote actual}}{\\text{Elemento pivote}} $$\n",
    "\n",
    "La siguiente imagen representa esta operación:\n",
    "\n",
    "<img src = \"../images/simplex_4.png\">\n",
    "\n",
    "+ Otros renglones: restar del valor actual la multiplicación del elemento del renglón que se encuentra en la columna pivote por el nuevo valor calculado en el renglón pivote. Esto es:\n",
    "\n",
    "$$\\text{Nuevo valor} = \\text{Valor actual} - \\text{Elemento renglón columna pivote}*\\text{Nuevo valor renglón pivote}$$\n",
    "\n",
    "Este último cómputo explicado en palabras puede ser muy complicado, por lo que se apoya con la siguiente imagen que representa estas operaciones para el renglón correspondiente a $s_1$:\n",
    "\n",
    "<img src = \"../images/simplex_4_1.png\">\n",
    "\n",
    "Ahora para el renglón correspondiente a $s_3$:\n",
    "\n",
    "<img src = \"../images/simplex_4_2.png\">\n",
    "\n",
    "Y, por último, para el renglón correspondiente a $Z$:\n",
    "\n",
    "<img src = \"../images/simplex_4_3.png\">\n",
    "\n",
    "Finalmente, la matriz resultante que contiene estos pasos es la siguiente:\n",
    "\n",
    "<img src = \"../images/simplex_4_4.png\">\n",
    "\n",
    "Una vez llegado a este punto se vuelve al paso 3, se verifica la condición de optimalidad y se repite el proceso hasta que no se cumplea esta condición o la de factibilidad."
   ]
  },
  {
   "cell_type": "markdown",
   "id": "stone-belize",
   "metadata": {},
   "source": [
    "## 3. Paquetería `mex`"
   ]
  },
  {
   "cell_type": "markdown",
   "id": "preceding-trouble",
   "metadata": {},
   "source": [
    "<img src = \"../images/mex_simplex_logo.png\">"
   ]
  },
  {
   "cell_type": "markdown",
   "id": "pharmaceutical-negative",
   "metadata": {},
   "source": [
    "`mex` es un paquete desarrollado por los siguientes alumnos de la **Maestría en Ciencia de Datos** impartida por el ITAM:\n",
    "+ Carolina Acosta Tovany\n",
    "+ Leonardo Ceja Pérez\n",
    "+ Cecilia Avilés Robles\n",
    "+ Eduardo Moreno Ortiz\n",
    "\n",
    "Este paquete resuelve problemas de Programación Lineal basándose en el método símplex. En el presente documento se explicarán las principales funciones del paquete y se resolverá un ejercicio de pequeña escala con el fin de ilustrar la funcionalidad del mismo. \n",
    "\n",
    "Para una mayor descripción del paquete se recomienda visitar la documentación presente en la siguiente [liga](https://optimizacion-2-2021-1-gh-classroom.github.io/practica-2-segunda-parte-caroacostatovany/)."
   ]
  },
  {
   "cell_type": "markdown",
   "id": "ready-cooler",
   "metadata": {},
   "source": [
    "Supongamos que se quiere resolver el siguiente problema de Programación Lineal:\n",
    "\n",
    "$$ \\max_{x \\in \\mathbb{R}^2} 3x_1 + 5x_2 $$\n",
    "$$ \\text{sujeto a}  $$\n",
    "$$  x_1 \\leq 4 $$\n",
    "$$  x_2 \\leq 12 $$\n",
    "$$  3x_1 + 2x_2 \\leq 18 $$\n",
    "\n",
    "1. El primer paso es crear el *tableau*; para ello se utilizarán las siguientes funciones:\n",
    "+ `create_matrix`: genera una matriz de ceros de las dimensiones neceasarias para el *tableau*.\n",
    "+ `add_constrain`: agrega las restricciones del problema de tal forma que crea variables sintéticas en el *tableau* de acuerdo a si es una desigualdad del tipo menor o igual que $(\\leq)$, mayor o iqual que $(\\geq)$ o una igualdad (en este último caso no agrega variable sintética).\n",
    "+ `obj`: agrega la función objetivo del problema multiplicado por $-1$ (siempre se agrega un cero al final del argumento)."
   ]
  },
  {
   "cell_type": "code",
   "execution_count": 1,
   "id": "judicial-volunteer",
   "metadata": {},
   "outputs": [],
   "source": [
    "#!pip install Cython"
   ]
  },
  {
   "cell_type": "code",
   "execution_count": 2,
   "id": "blind-shakespeare",
   "metadata": {},
   "outputs": [],
   "source": [
    "#import Cython"
   ]
  },
  {
   "cell_type": "code",
   "execution_count": 3,
   "id": "changing-green",
   "metadata": {},
   "outputs": [],
   "source": [
    "# Instalación del paquete\n",
    "#!pip install --quiet \"git+https://github.com/optimizacion-2-2021-1-gh-classroom/practica-2-segunda-parte-caroacostatovany.git#egg=mex&subdirectory=src\""
   ]
  },
  {
   "cell_type": "code",
   "execution_count": 4,
   "id": "superb-cattle",
   "metadata": {},
   "outputs": [],
   "source": [
    "%precision %.4f\n",
    "from mex.simplex.simplex_networks import create_matrix, find_pivot_col, find_pivot_row, find_negative_col, pivots_col, pivots_row, find_negative_row, pivot\n",
    "from mex.simplex.problem_definition import constrain, add_obj, obj, maxz"
   ]
  },
  {
   "cell_type": "code",
   "execution_count": 5,
   "id": "eight-dinner",
   "metadata": {},
   "outputs": [
    {
     "data": {
      "text/plain": [
       "array([[0., 0., 0., 0., 0., 0., 0.],\n",
       "       [0., 0., 0., 0., 0., 0., 0.],\n",
       "       [0., 0., 0., 0., 0., 0., 0.],\n",
       "       [0., 0., 0., 0., 0., 0., 0.]])"
      ]
     },
     "execution_count": 5,
     "metadata": {},
     "output_type": "execute_result"
    }
   ],
   "source": [
    "problem_matrix = create_matrix(2,3)   # 2 variables and 3 constraints\n",
    "problem_matrix"
   ]
  },
  {
   "cell_type": "code",
   "execution_count": 6,
   "id": "unable-pointer",
   "metadata": {},
   "outputs": [
    {
     "data": {
      "text/plain": [
       "array([[  1.,   0.,   1.,   0.,   0.,   0.,   4.],\n",
       "       [  0.,   2.,   0.,   1.,   0.,   0.,  12.],\n",
       "       [ -3.,  -2.,   0.,   0.,   1.,   0., -18.],\n",
       "       [ -3.,  -5.,   0.,   0.,   0.,   1.,   0.]])"
      ]
     },
     "execution_count": 6,
     "metadata": {},
     "output_type": "execute_result"
    }
   ],
   "source": [
    "constrain(problem_matrix,'1,0,L,4')\n",
    "constrain(problem_matrix,'0,2,L,12')\n",
    "constrain(problem_matrix,'3,2,G,18')\n",
    "obj(problem_matrix,'3,5,0')\n",
    "problem_matrix"
   ]
  },
  {
   "cell_type": "markdown",
   "id": "gentle-uzbekistan",
   "metadata": {},
   "source": [
    "Dado que todas las restricciones son del tipo menor o igual que $(\\leq)$, entonces se agregan tantas variables sintéticas como restricciones. Esto lo podemos ver en la matriz identidad que se encuentra entre las columnas $3-6$ del arreglo `numpy` previo."
   ]
  },
  {
   "cell_type": "markdown",
   "id": "rising-longitude",
   "metadata": {},
   "source": [
    "2. Determinar la solución básica inicial y determinar la variable de entrada mediante la condición de optimalidad: para este paso se utilizan la siguientes funciones:\n",
    "\n",
    "+ `pivots_row`: verifica la condición de optimalidad (coeficientes del vector de costos reducidos son mayores o iguales a cero).\n",
    "+ `find_pivot_row`: encuentra las posiciones de la variable de entrada y salida."
   ]
  },
  {
   "cell_type": "code",
   "execution_count": 7,
   "id": "violent-partnership",
   "metadata": {},
   "outputs": [
    {
     "data": {
      "text/plain": [
       "True"
      ]
     },
     "execution_count": 7,
     "metadata": {},
     "output_type": "execute_result"
    }
   ],
   "source": [
    "pivots_row(problem_matrix)"
   ]
  },
  {
   "cell_type": "markdown",
   "id": "simplified-department",
   "metadata": {},
   "source": [
    "Esto indica que la condición de optimalidad aún no se satisface y la solución puede ser mejorada."
   ]
  },
  {
   "cell_type": "code",
   "execution_count": 8,
   "id": "returning-hebrew",
   "metadata": {},
   "outputs": [
    {
     "name": "stdout",
     "output_type": "stream",
     "text": [
      "Índice del valor más negativo del vector de costos reducido (variable de entrada):  1\n",
      "Índice del valor más pequeño del cociente R entre la columna de la variable de entrada (variable de salida):  1\n"
     ]
    }
   ],
   "source": [
    "index,neg = find_pivot_row(problem_matrix)\n",
    "print('Índice del valor más negativo del vector de costos reducido (variable de entrada): ', index)\n",
    "print('Índice del valor más pequeño del cociente R entre la columna de la variable de entrada (variable de salida): ', index)"
   ]
  },
  {
   "cell_type": "markdown",
   "id": "confirmed-burst",
   "metadata": {},
   "source": [
    "El vector de costos es $(-3,-5)$ (en `python` la enumaración inicia en 0), por lo que la posición $1$ es $-5$, la cual es la más negativa. Por lo que la variable de entrada será $x_2$."
   ]
  },
  {
   "cell_type": "markdown",
   "id": "religious-reverse",
   "metadata": {},
   "source": [
    "Para la variable de entrada se realizan se elige la posición correspondiente al mínimo del siguiente vector:\n",
    "\n",
    "$$ \\Big( 10,000, \\frac{12}{2}, \\frac{-18}{-2} \\Big) = \\Big( 10,000, 6, 9 \\Big)  $$\n",
    "\n",
    "que corresponde a la posición 2, ya que el mínimo es $6$. Dado que en `python` la enumeración inicia en $0$, entonces la posición que regresa el algoritmo es $1=2-1$. Por lo que la variable de salida será $s_2$."
   ]
  },
  {
   "cell_type": "markdown",
   "id": "fitted-officer",
   "metadata": {},
   "source": [
    "5. Actualización del *tableau* mediante las operaciones de Gauss-Jordan: para ello se utiliza la siguiente función:\n",
    "\n",
    "+ `pivot`: realiza las operaciones de Gauss-Jordan para meter una variable no básica al conjunto base y sacar una variable básica del conjunto base. Este proceso se hace para las columnas del *tableau* y después para los renglones del mismo."
   ]
  },
  {
   "cell_type": "code",
   "execution_count": 9,
   "id": "logical-lincoln",
   "metadata": {},
   "outputs": [
    {
     "data": {
      "text/plain": [
       "array([[ 1. ,  0. ,  1. ,  0. ,  0. ,  0. ,  4. ],\n",
       "       [ 0. ,  1. ,  0. ,  0.5,  0. ,  0. ,  6. ],\n",
       "       [-3. ,  0. ,  0. ,  1. ,  1. ,  0. , -6. ],\n",
       "       [-3. ,  0. ,  0. ,  2.5,  0. ,  1. , 30. ]])"
      ]
     },
     "execution_count": 9,
     "metadata": {},
     "output_type": "execute_result"
    }
   ],
   "source": [
    "problem_matrix = pivot(find_pivot_row(problem_matrix)[0], find_pivot_row(problem_matrix)[1], problem_matrix)\n",
    "problem_matrix"
   ]
  },
  {
   "cell_type": "markdown",
   "id": "average-reporter",
   "metadata": {},
   "source": [
    "Con los resultados de los pasos previos se determinó que la variable de salida es $x_2$ y la de entrada es $s_2$ , mostrándose en el *tableau*. La columna asociada a la variable $x_2$ (segunda columna) únicamente toma valor en la posición respectiva y la columna que sale de la base es $s_2$, que se encuentra en la columna $4$, que ahora no es un vector canónico."
   ]
  },
  {
   "cell_type": "markdown",
   "id": "restricted-albania",
   "metadata": {},
   "source": [
    "Todos estos previos pasos se realizan de manera iterativa dentro de la función `maxz`"
   ]
  },
  {
   "cell_type": "code",
   "execution_count": 10,
   "id": "proof-collins",
   "metadata": {},
   "outputs": [
    {
     "data": {
      "text/plain": [
       "{'x1': 4.0, 'x2': 6.0, 'max': 42.0}"
      ]
     },
     "execution_count": 10,
     "metadata": {},
     "output_type": "execute_result"
    }
   ],
   "source": [
    "maxz(problem_matrix)"
   ]
  },
  {
   "cell_type": "markdown",
   "id": "jewish-testing",
   "metadata": {},
   "source": [
    "## 4. Implementación"
   ]
  },
  {
   "cell_type": "markdown",
   "id": "occupied-trial",
   "metadata": {},
   "source": [
    "### Primera implementación"
   ]
  },
  {
   "cell_type": "markdown",
   "id": "informational-animation",
   "metadata": {},
   "source": [
    "De manera análoga, veamos ahora la implementación de nuestro paquete en un dataset de mediana escala."
   ]
  },
  {
   "cell_type": "code",
   "execution_count": 11,
   "id": "aggressive-drama",
   "metadata": {},
   "outputs": [],
   "source": [
    "import os\n",
    "import numpy as np\n",
    "from scipy.optimize import linprog\n",
    "from pytest import approx"
   ]
  },
  {
   "cell_type": "code",
   "execution_count": 12,
   "id": "interpreted-center",
   "metadata": {},
   "outputs": [],
   "source": [
    "from mex.simplex import simplex_networks as mex_sn\n",
    "from mex.simplex import problem_definition as mex_pd\n",
    "from mex.utils import general as mex_g"
   ]
  },
  {
   "cell_type": "code",
   "execution_count": 13,
   "id": "comfortable-channels",
   "metadata": {},
   "outputs": [],
   "source": [
    "c_max_obj = np.array([-52.16, -45.51, -69.09, -84.88, -38.73,\n",
    "              -84.47, -97.50, -61.32, -16.27, -36.42,\n",
    "              -77.24, -36.91, -62.85, -50.77, -81.22,\n",
    "              -66.94, -31.10, -45.05, -37.68, -40.76])\n",
    "\n",
    "A_max_obj = np.array([[90.09, 50.61, 45.03, 16.83, 26.92,\n",
    "                36.29, 51.61, 2.450, 25.15, 30.22,\n",
    "                81.78, 2.444, 34.71, 57.17, 41.14,\n",
    "                92.00, 69.17, 26.77, 38.44, 25.35], \n",
    "               \n",
    "               [69.62, 6.235, 18.95, 4.843, 12.34,\n",
    "                82.56, 83.65, 11.18, 29.91, 34.66,\n",
    "                79.32, 64.11, 95.56, 70.83, 69.77,\n",
    "                93.99, 10.83, 17.88, 78.04, 87.34],\n",
    "               \n",
    "               [27.58, 31.56, 72.90, 95.74, 69.19,\n",
    "                84.21, 58.42, 18.88, 72.27, 85.58,\n",
    "                60.66, 51.78, 46.34, 30.96, 5.505,\n",
    "                11.68, 84.84, 81.16, 3.668, 65.52],\n",
    "               \n",
    "               [28.91, 98.28, 80.47, 78.34, 48.34,\n",
    "                40.00, 92.46, 93.44, 93.79, 46.63,\n",
    "                50.50, 30.32, 71.96, 52.57, 46.29,\n",
    "                67.03, 71.13, 82.94, 4.676, 5.110],\n",
    "               \n",
    "               [10.16, 9.828, 11.24, 53.81, 23.53,\n",
    "                16.98, 94.65, 55.01, 96.43, 5.556,\n",
    "                54.05, 40.95, 35.37, 14.02, 32.04,\n",
    "                71.37, 29.52, 24.35, 71.32, 46.73],\n",
    "               \n",
    "               [70.56, 93.54, 27.93, 95.94, 91.23,\n",
    "                8.491, 78.54, 7.435, 85.27, 32.27,\n",
    "                97.65, 34.44, 97.45, 77.70, 86.22,\n",
    "                3.460, 52.49, 59.86, 6.446, 20.77],\n",
    "               \n",
    "               [30.93, 40.11, 9.917, 22.34, 2.947,\n",
    "                8.553, 85.74, 31.01, 4.919, 12.60,\n",
    "                3.358, 89.39, 50.05, 25.59, 13.33,\n",
    "                75.14, 57.81, 14.29, 88.59, 24.34],\n",
    "               \n",
    "               [7.511, 72.81, 19.49, 55.05, 86.04,\n",
    "                36.84, 7.233, 67.59, 92.62, 24.06,\n",
    "                15.87, 45.52, 75.98, 71.86, 64.45,\n",
    "                15.81, 57.22, 84.86, 28.66, 7.867],\n",
    "               \n",
    "               [62.27, 38.88, 82.58, 84.71, 68.00,\n",
    "                97.57, 36.58, 11.57, 73.91, 75.40,\n",
    "                65.75, 7.540, 52.08, 96.61, 9.278,\n",
    "                60.24, 59.22, 6.214, 63.88, 68.99],\n",
    "               \n",
    "               [73.05, 10.49, 93.23, 91.39, 63.19,\n",
    "                47.53, 20.71, 14.26, 51.71, 71.02,\n",
    "                11.87, 61.36, 97.72, 70.67, 28.40,\n",
    "                73.55, 33.02, 81.46, 67.22, 85.30],\n",
    "               \n",
    "               [93.49, 28.98, 23.75, 48.18, 73.61,\n",
    "                18.85, 15.89, 90.90, 71.75, 80.48,\n",
    "                97.08, 88.23, 86.15, 57.57, 78.16,\n",
    "                40.38, 19.41, 75.39, 54.97, 38.35],\n",
    "               \n",
    "               [84.61, 42.17, 56.76, 23.61, 66.47,\n",
    "                13.86, 36.55, 37.61, 39.77, 2.123,\n",
    "                92.07, 21.21, 85.36, 27.84, 81.87,\n",
    "                34.29, 55.51, 71.08, 81.14, 41.18], \n",
    "               \n",
    "               [66.07, 71.30, 29.57, 3.874, 45.04,\n",
    "                98.19, 92.92, 18.87, 44.20, 17.36,\n",
    "                36.33, 45.50, 17.97, 67.95, 62.03,\n",
    "                32.55, 50.91, 47.08, 85.63, 36.12], \n",
    "               \n",
    "               [63.66, 7.173, 29.93, 31.48, 64.60,\n",
    "                72.68, 2.754, 16.71, 79.55, 4.050,\n",
    "                95.43, 31.18, 61.87, 68.41, 3.567,\n",
    "                21.61, 45.96, 3.881, 40.50, 91.86], \n",
    "               \n",
    "               [67.60, 7.276, 78.37, 96.71, 79.11,\n",
    "                21.35, 78.86, 23.26, 63.76, 43.93,\n",
    "                59.46, 78.19, 70.34, 92.42, 58.98,\n",
    "                95.50, 84.86, 76.11, 13.00, 60.67],\n",
    "               \n",
    "               [12.17, 45.38, 51.97, 93.29, 97.74,\n",
    "                58.34, 71.99, 26.91, 26.85, 74.88,\n",
    "                69.95, 43.51, 8.723, 38.97, 74.16,\n",
    "                81.20, 77.52, 20.84, 46.12, 16.24],\n",
    "               \n",
    "               [85.82, 3.365, 53.87, 41.57, 37.04,\n",
    "                97.64, 16.76, 90.16, 50.49, 76.92,\n",
    "                85.17, 57.76, 29.29, 12.79, 93.86,\n",
    "                59.50, 84.81, 43.91, 6.931, 14.25],\n",
    "               \n",
    "               [72.94, 37.67, 28.00, 33.56, 71.22,\n",
    "                73.32, 33.33, 27.54, 71.75, 61.17,\n",
    "                39.68, 38.85, 79.89, 92.34, 31.80,\n",
    "                10.18, 78.30, 6.469, 41.89, 50.98],\n",
    "               \n",
    "               [80.03, 67.82, 37.00, 51.50, 17.85,\n",
    "                10.91, 26.95, 65.79, 18.51, 84.34,\n",
    "                3.196, 72.33, 48.76, 8.459, 53.13,\n",
    "                18.23, 9.679, 2.543, 48.12, 52.09],\n",
    "               \n",
    "               [28.10, 98.61, 1.938, 94.54, 98.78,\n",
    "                18.29, 26.88, 91.15, 9.967, 5.279,\n",
    "                99.44, 79.94, 82.80, 30.05, 85.13,\n",
    "                8.410, 83.47, 15.45, 46.43, 56.54],\n",
    "               \n",
    "               [92.44, 92.82, 95.87, 78.14, 93.72,\n",
    "                55.82, 92.28, 64.95, 94.39, 91.63,\n",
    "                20.11, 32.16, 10.08, 23.98, 9.257,\n",
    "                71.39, 48.74, 60.76, 96.93, 56.57],\n",
    "               \n",
    "               [22.14, 72.51, 48.51, 98.13, 90.25,\n",
    "                85.24, 1.804, 28.47, 45.93, 36.05,\n",
    "                35.43, 7.104, 70.67, 97.69, 74.87,\n",
    "                39.72, 13.98, 58.00, 2.024, 85.30],\n",
    "               \n",
    "               [72.16, 93.13, 45.85, 76.06, 22.53,\n",
    "                36.16, 81.15, 92.51, 97.12, 67.37,\n",
    "                37.37, 69.21, 72.32, 63.23, 92.90,\n",
    "                61.86, 11.42, 34.15, 49.78, 6.688],\n",
    "               \n",
    "               [58.39, 34.12, 77.96, 5.433, 83.02,\n",
    "                84.14, 59.82, 22.39, 70.75, 19.67,\n",
    "                24.53, 41.00, 56.24, 89.32, 14.63,\n",
    "                77.15, 34.12, 34.28, 55.17, 31.45],\n",
    "               \n",
    "               [20.15, 1.416, 74.34, 23.20, 8.632,\n",
    "                71.47, 32.10, 59.23, 91.44, 37.58,\n",
    "                23.29, 39.11, 19.54, 3.000, 2.319,\n",
    "                43.50, 35.17, 66.78, 40.41, 50.82],\n",
    "               \n",
    "               [54.65, 70.46, 46.30, 66.92, 27.45,\n",
    "                25.48, 81.67, 96.67, 42.57, 43.22,\n",
    "                43.29, 60.58, 19.07, 27.73, 92.63,\n",
    "                60.94, 84.33, 8.800, 78.62, 17.94],\n",
    "               \n",
    "               [83.10, 98.45, 22.09, 36.01, 39.99,\n",
    "                6.380, 28.27, 10.69, 57.29, 63.19,\n",
    "                44.42, 51.00, 15.57, 11.27, 63.56,\n",
    "                17.54, 40.71, 47.53, 27.81, 27.66],\n",
    "               \n",
    "               [22.20, 29.98, 87.02, 25.26, 47.23,\n",
    "                55.22, 83.70, 88.56, 67.82, 6.36,\n",
    "                66.62, 3.853, 47.37, 97.22, 83.37,\n",
    "                89.41, 61.79, 96.26, 91.11, 79.89],\n",
    "               \n",
    "               [6.828, 84.55, 80.55, 86.10, 54.30,\n",
    "                18.86, 80.63, 54.07, 63.94, 89.28,\n",
    "                64.89, 87.44, 13.06, 31.29, 63.10,\n",
    "                75.33, 21.06, 61.33, 1.093, 91.08],\n",
    "               \n",
    "               [85.33, 57.98, 42.51, 53.95, 10.49,  \n",
    "                32.74, 43.28, 51.52, 89.99, 43.97,\n",
    "                46.69, 44.05, 85.91, 19.12, 23.85,\n",
    "                58.82, 71.23, 8.885, 18.81, 87.44]])\n",
    "\n",
    "b_max_obj = np.array([79.72, 68.64, 1.240, 34.53, 43.64, 3.692, 44.21, 94.85, 39.16, 38.43,\n",
    "               57.08, 19.63, 70.07, 32.45, 15.32, 49.46, 54.54, 24.96, 11.98, 1.772,\n",
    "               50.61, 94.20, 97.49, 34.16, 6.26, 70.31, 79.18, 44.51, 53.22, 50.65])\n",
    "b_max_obj = np.array([[x] for x in b_max_obj])\n",
    "c_max_obj = np.array([[x] for x in c_max_obj])"
   ]
  },
  {
   "cell_type": "code",
   "execution_count": 14,
   "id": "floral-density",
   "metadata": {},
   "outputs": [],
   "source": [
    "max_obj = -1*linprog(c_max_obj, A_ub=A_max_obj, b_ub=b_max_obj).fun\n",
    "coeff_obj = linprog(c_max_obj, A_ub=A_max_obj, b_ub=b_max_obj).x"
   ]
  },
  {
   "cell_type": "code",
   "execution_count": 15,
   "id": "artificial-cooling",
   "metadata": {},
   "outputs": [],
   "source": [
    "matrix_max_approx = mex_g.generates_matrix(A_max_obj, b_max_obj, c_max_obj)"
   ]
  },
  {
   "cell_type": "code",
   "execution_count": 16,
   "id": "leading-stanford",
   "metadata": {},
   "outputs": [],
   "source": [
    "problem_approx = mex_pd.maxz(matrix_max_approx)\n",
    "max_approx = problem_approx['max']\n",
    "problem_approx.pop('max')\n",
    "coeff_approx = np.array(list(problem_approx.values()))"
   ]
  },
  {
   "cell_type": "markdown",
   "id": "raising-treasurer",
   "metadata": {},
   "source": [
    "#### Comprobación"
   ]
  },
  {
   "cell_type": "code",
   "execution_count": 17,
   "id": "informed-appearance",
   "metadata": {
    "scrolled": true
   },
   "outputs": [
    {
     "name": "stdout",
     "output_type": "stream",
     "text": [
      "El valor objetivo obtenido con scipy es:  7.6446\n",
      "\n",
      "El valor aproximado obtenido con mex es:  7.6446\n",
      "\n",
      "Los coeficientes objetivos obtenidos con scipy son: \n",
      " [0.     0.     0.     0.     0.     0.     0.     0.     0.     0.\n",
      " 0.     0.     0.     0.     0.0108 0.1011 0.     0.     0.     0.    ]\n",
      "\n",
      "Los coeficientes aproximados obtenidos con mex son: \n",
      " [0.     0.     0.     0.     0.     0.     0.     0.     0.     0.\n",
      " 0.     0.     0.     0.     0.0108 0.1011 0.     0.     0.     0.    ]\n"
     ]
    }
   ],
   "source": [
    "assert max_obj == approx(max_approx), \"El valor aproximado es incorrecto\"\n",
    "assert np.round(coeff_obj,3) == approx(coeff_approx, abs=1e-3), \"El valor de los coeficientes aproximados es incorrecto\"\n",
    "\n",
    "print(\"El valor objetivo obtenido con scipy es: \", np.round(max_obj,4))\n",
    "print(\"\\nEl valor aproximado obtenido con mex es: \", np.round(max_approx,4))\n",
    "print(\"\\nLos coeficientes objetivos obtenidos con scipy son: \\n\", np.round(coeff_obj,4))\n",
    "print(\"\\nLos coeficientes aproximados obtenidos con mex son: \\n\", np.round(coeff_approx,4))"
   ]
  },
  {
   "cell_type": "markdown",
   "id": "foster-passage",
   "metadata": {},
   "source": [
    "### Segunda implementación"
   ]
  },
  {
   "cell_type": "markdown",
   "id": "received-mills",
   "metadata": {},
   "source": [
    "Como segunda implementación se realizará una prueba de nuestro paquete, pero con un problema más grande. Cabe mencionar, que se mantendrá en el mismo tamaño de problema, el cual es problemas de **pequeña escala** (cientos a miles de variables y/o restricciones). \n",
    "\n",
    "Se realiza la prueba con el dataset implementado por el [Netlib](http://www.netlib.org/), quien desarrolla bases de datos, papers y software de índole matemática. En específico, se trabajará con el dataset de problemas de programación lineal disponible en el repositorio [LP](http://netlib.org/lp/data/index.html). Dichos problemas se encuentrán en formato **MPS**, el cual es una manera de almacenar información, en su mayoría todos los problemas de programación lineal comerciales se rigen de este formato. A continuación un esbozo de este formato:\n",
    "\n",
    "<img src=\"../images/mps_format.png\">\n",
    "\n",
    "En particular, se trabajará con el dataset **AGG**."
   ]
  },
  {
   "cell_type": "code",
   "execution_count": 18,
   "id": "alive-abortion",
   "metadata": {},
   "outputs": [],
   "source": [
    "import datetime\n",
    "import pytz\n",
    "import scipy.io as sio\n",
    "\n",
    "# mex\n",
    "from mex.simplex.minimizer_class import Minimizer\n",
    "from mex.simplex.maximizer_class import Maximizer\n",
    "\n",
    "#scipy\n",
    "from scipy.optimize import linprog\n",
    "from pytest import approx"
   ]
  },
  {
   "cell_type": "code",
   "execution_count": 19,
   "id": "structural-pension",
   "metadata": {},
   "outputs": [],
   "source": [
    "mat = sio.loadmat('../data/AGG.mat')"
   ]
  },
  {
   "cell_type": "code",
   "execution_count": 20,
   "id": "continued-blues",
   "metadata": {},
   "outputs": [
    {
     "data": {
      "text/plain": [
       "(488, 615)"
      ]
     },
     "execution_count": 20,
     "metadata": {},
     "output_type": "execute_result"
    }
   ],
   "source": [
    "A = mat['A']\n",
    "b = mat['b']\n",
    "c = mat['c']\n",
    "lbounds = mat['lbounds']\n",
    "ubounds = mat['ubounds']\n",
    "A.shape"
   ]
  },
  {
   "cell_type": "markdown",
   "id": "applicable-wisdom",
   "metadata": {},
   "source": [
    "Las dimensiones del problema son:\n",
    "* $488$ restricciones\n",
    "* $615$ variables\n",
    "\n",
    "A continuación se implementará la prueba del paquete `mex`"
   ]
  },
  {
   "cell_type": "code",
   "execution_count": 21,
   "id": "improving-hearts",
   "metadata": {},
   "outputs": [],
   "source": [
    "A = A.toarray()\n",
    "#b = np.array(b.T.tolist()[0])\n",
    "#c = np.array(c.T.tolist()[0])"
   ]
  },
  {
   "cell_type": "code",
   "execution_count": 22,
   "id": "serial-flower",
   "metadata": {},
   "outputs": [],
   "source": [
    "minim = Minimizer(A, b, c)"
   ]
  },
  {
   "cell_type": "code",
   "execution_count": 23,
   "id": "returning-leader",
   "metadata": {},
   "outputs": [],
   "source": [
    "minim.add_constraints(lbounds,ubounds)"
   ]
  },
  {
   "cell_type": "code",
   "execution_count": 24,
   "id": "vulnerable-cigarette",
   "metadata": {},
   "outputs": [],
   "source": [
    "tableau_obj = minim.matrix"
   ]
  },
  {
   "cell_type": "code",
   "execution_count": 25,
   "id": "stuffed-lloyd",
   "metadata": {},
   "outputs": [
    {
     "name": "stdout",
     "output_type": "stream",
     "text": [
      "Start time:  02:00:37 PM\n",
      "End time:  02:01:55 PM\n"
     ]
    }
   ],
   "source": [
    "print(\"Start time: \", datetime.datetime.now(pytz.timezone('US/Central')).strftime('%I:%M:%S %p'))\n",
    "minim.solve()\n",
    "print(\"End time: \", datetime.datetime.now(pytz.timezone('US/Central')).strftime('%I:%M:%S %p'))"
   ]
  },
  {
   "cell_type": "markdown",
   "id": "essential-blanket",
   "metadata": {},
   "source": [
    "### Valores aproximados"
   ]
  },
  {
   "cell_type": "code",
   "execution_count": 26,
   "id": "functional-deputy",
   "metadata": {},
   "outputs": [],
   "source": [
    "min_approx = minim.get_min()\n",
    "coeff_approx = minim.get_coeff()"
   ]
  },
  {
   "cell_type": "markdown",
   "id": "impressed-anger",
   "metadata": {},
   "source": [
    "### Valores objetivos"
   ]
  },
  {
   "cell_type": "code",
   "execution_count": 27,
   "id": "careful-african",
   "metadata": {},
   "outputs": [],
   "source": [
    "tableau_obj = minim.matrix\n",
    "\n",
    "# Dimensiones originales del problema\n",
    "n_restr = tableau_obj.shape[0]-1\n",
    "n_vars = A.shape[1]\n",
    "\n",
    "# Variables sin restricciones de cotas superiores ni inferiores\n",
    "c_min_obj = tableau_obj[-1,0:n_vars]\n",
    "A_min_obj = tableau_obj[0:n_restr, 0:n_vars]\n",
    "b_min_obj = tableau_obj[0:n_restr, -1]"
   ]
  },
  {
   "cell_type": "code",
   "execution_count": 28,
   "id": "published-dominican",
   "metadata": {},
   "outputs": [
    {
     "name": "stdout",
     "output_type": "stream",
     "text": [
      "Start time:  02:01:55 PM\n",
      "End time:  02:03:10 PM\n"
     ]
    }
   ],
   "source": [
    "print(\"Start time: \", datetime.datetime.now(pytz.timezone('US/Central')).strftime('%I:%M:%S %p'))\n",
    "min_obj = linprog(c_min_obj, A_ub=A_min_obj, b_ub=b_min_obj).fun\n",
    "print(\"End time: \", datetime.datetime.now(pytz.timezone('US/Central')).strftime('%I:%M:%S %p'))"
   ]
  },
  {
   "cell_type": "code",
   "execution_count": 29,
   "id": "australian-crossing",
   "metadata": {},
   "outputs": [],
   "source": [
    "#coeff_obj = linprog(c_min_obj, A_ub=A_min_obj, b_ub=b_min_obj).x"
   ]
  },
  {
   "cell_type": "markdown",
   "id": "tutorial-branch",
   "metadata": {},
   "source": [
    "### Aproximación de resultados"
   ]
  },
  {
   "cell_type": "code",
   "execution_count": 30,
   "id": "sustained-adolescent",
   "metadata": {},
   "outputs": [
    {
     "name": "stdout",
     "output_type": "stream",
     "text": [
      "El valor objetivo obtenido con scipy es:  -2.3584938146300205e+35\n",
      "El valor aproximado obtenido con mex es:  -3.602879999999999e+35\n"
     ]
    }
   ],
   "source": [
    "#assert min_obj == approx(min_approx, rel=1e-1), \"El valor aproximado es incorrecto\"\n",
    "#assert np.round(coeff_obj,3) == approx(coeff_approx, abs=1e+40), \"El valor de los coeficientes aproximados es incorrecto\"\n",
    "\n",
    "print(\"El valor objetivo obtenido con scipy es: \", min_obj)\n",
    "print(\"El valor aproximado obtenido con mex es: \", min_approx)\n",
    "#print(\"Los coeficientes objetivos obtenidos con scipy son: \", coeff_obj)\n",
    "#print(\"Los coeficientes aproximados obtenidos con mex son: \", coeff_approx)"
   ]
  },
  {
   "cell_type": "code",
   "execution_count": null,
   "id": "potential-tokyo",
   "metadata": {},
   "outputs": [],
   "source": []
  },
  {
   "cell_type": "markdown",
   "id": "colonial-antique",
   "metadata": {},
   "source": [
    "## 5.  Comentarios y conclusiones"
   ]
  },
  {
   "cell_type": "markdown",
   "id": "alpha-extreme",
   "metadata": {},
   "source": [
    "En este proyecto se ha estudiado el uso del método símplex para la resolución de problemas de programación lineal (*LP*), por medio del desarrollo y la implementación del paquete `mex`.\n",
    "\n",
    "Como alternativas para la resolución de problemas de programación lineal, similares a los estudiados en este proyecto, se tienen por ejemplo los métodos por puntos interiores, como el método primal-dual de barrera logarítmica, también estudiado en la materia de Optimización Avanzada.  \n",
    "\n",
    "La principal diferencia entre los métodos de puntos interiores y el método símplex es que, como su nombre lo indica, comienzan en un punto interior de la región factible, y en cada iteración se van aproximando a los puntos óptimos en el límite. Cada iteración de los métodos de puntos interiores es costosa de calcular (más costosa de calcular que en el método símplex); sin embargo, para problemas de gran escala no se requieren muchas más iteraciones respecto a un problema de pequeña escala. Cabe aclarar que los métodos de puntos interiores quedan fuera del alcance de este proyecto.\n",
    "\n",
    "Hasta el momento se ha implementado exitosamente el paquete `mex` en problemas de pequeña y mediana escala (de hasta 20 variables y 30 restricciones). Se está trabajando en la ingesta y creación automática de matrices, para implementar el paquete en problemas de gran escala (de cientos o miles de variables y restricciones). Ésta será la última iteración de la implementación del paquete `mex`, a reportarse en la presentación final del proyecto."
   ]
  },
  {
   "cell_type": "markdown",
   "id": "better-zealand",
   "metadata": {},
   "source": [
    "### Referencias\n",
    "\n",
    "- Méndez, Abel. (2021). [Método Símplex Paso a Paso](https://www.plandemejora.com/metodo-simplex-paso-a-paso-ejemplos-maximizar-minimizar/)\n",
    "- Palacios M., Erick. (2021). Libro de Optimización 2021. [4.2. Programación lineal (PL) y método símplex](https://itam-ds.github.io/analisis-numerico-computo-cientifico/IV.optimizacion_en_redes_y_prog_lineal/4.2/Programacion_lineal_y_metodo_simplex.html)\n",
    "- Palacios M., Erick. (2021). Libro de Optimización 2021. [4.3. Ejemplo del método símplex de redes](https://itam-ds.github.io/analisis-numerico-computo-cientifico/IV.optimizacion_en_redes_y_prog_lineal/4.3/Ejemplo_metodo_simplex_de_redes.html) \n",
    "- Palacios M., Erick. (2021). Libro de Optimización 2021. [4.4. Dualidad, lema de Farkas y condiciones de Karush-Kuhn-Tucker (KKT) de optimalidad](https://itam-ds.github.io/analisis-numerico-computo-cientifico/IV.optimizacion_en_redes_y_prog_lineal/4.4/Dualidad_lema_de_Farkas_condiciones_KKT_de_optimalidad.html) \n",
    "- Vázquez Romero, Germán Antonio. (2013). Aplicación de algunas heurísticas al problema de la mochila, p. $9-11$."
   ]
  }
 ],
 "metadata": {
  "kernelspec": {
   "display_name": "Python 3",
   "language": "python",
   "name": "python3"
  },
  "language_info": {
   "codemirror_mode": {
    "name": "ipython",
    "version": 3
   },
   "file_extension": ".py",
   "mimetype": "text/x-python",
   "name": "python",
   "nbconvert_exporter": "python",
   "pygments_lexer": "ipython3",
   "version": "3.7.3"
  }
 },
 "nbformat": 4,
 "nbformat_minor": 5
}
