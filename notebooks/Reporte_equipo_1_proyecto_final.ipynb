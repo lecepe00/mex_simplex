{
 "cells": [
  {
   "cell_type": "markdown",
   "id": "extreme-peter",
   "metadata": {},
   "source": [
    "# Implementación Método Simplex"
   ]
  },
  {
   "cell_type": "markdown",
   "id": "meaning-orleans",
   "metadata": {},
   "source": [
    "### Prefacio"
   ]
  },
  {
   "cell_type": "markdown",
   "id": "secure-arthritis",
   "metadata": {},
   "source": [
    "En el siguiente reporte se implementará el paquete `mex` creado por los autores de este proyecto, que tiene como función principal resolver problemas de Programación Lineal, usualmente denotados por **LP** (por sus siglas en inglés *Linear Programming*). Se indagará en la formulación matemática del problema a resolver, así como de la metodología utilizada en el *Método Símplex*."
   ]
  },
  {
   "cell_type": "markdown",
   "id": "choice-highway",
   "metadata": {},
   "source": [
    "## Introducción"
   ]
  },
  {
   "cell_type": "markdown",
   "id": "steady-avenue",
   "metadata": {},
   "source": [
    "### 1. Método Símplex"
   ]
  },
  {
   "cell_type": "markdown",
   "id": "certain-hebrew",
   "metadata": {},
   "source": [
    "El **método símplex** fue creado en el año $1947$ por el matemático [George Dantzing](https://en.wikipedia.org/wiki/George_Dantzig) con el objetivo de resolver problemas de programación lineal, en los cuales pueden intervenir más de $2$ variables permitiendo mejorar las respuestas paso a paso y permitir alcanzar la solución óptima de dicho problema.\n",
    "\n",
    "![George Dantinzg](../images/george_dantzing.png)\n",
    "\n",
    "\n",
    "La programación lineal se planteó como un modelo matemático desrrolado durante la Segunda Guerra Mundial para tener una mejor planificación en cuanto a gastos y retornos y sobre todo reducir los costos del ejército y aumentar las pérdidas del enemigo.\n",
    "\n",
    "El **método símplex** es un procedimiento iterativo utilizado para resolver problema de programación lineal (*LP*), que tiene como objetivo la búsqueda de la solución óptima. \n",
    "\n",
    "Para tener una mejor idea intuitiva de cómo funciona el método símplex se revisarán las siguientes definiciones:\n",
    "+ El conjunto factible (posibles soluciones al *LP*) puede representarse por medio de un poliedro convexo. Éste es un resultado aplicable a cualquier *LP*.\n",
    "+ Si un *LP* tiene una solución óptima y finita, entonces dicha solución se encuentra en uno de los **vértices del poliedro convexo**.\n",
    "\n",
    "\n",
    "Intuitivamente, el método inicia en uno de los vértices del problema y verifica si éste es óptimo, si no lo es, entonces busca un vértice adyacente que mejore el valor de la función objetivo y así sucesivamente hasta llegar al vértice que no permite una mejora en la función objetivo, es ahí donde se encuentra la solución óptima. En la siguiente imagen se representa un gráfico que ayuda a imaginarse esta última descripción.\n",
    "\n",
    "<img src=\"../images/repr_graf_met_simp.png\">\n",
    "\n",
    "Cabe mencionar, que el método símplex trabaja bajo el supuesto de que el problema a optimizar se encuentra en su forma estándar, la cual es la siguiente:\n",
    "\n",
    "$$\\min_{x \\in \\mathbb{R}^n} c^Tx$$\n",
    "\n",
    "$$\\text{sujeto a}$$\n",
    "$$ Ax = b $$\n",
    "$$ x \\geq 0 $$\n",
    "\n",
    "En donde $A \\in \\mathbb{R}^{m \\text{x} n}, b \\in \\mathbb{R}^m$.\n",
    "\n",
    "Los pasos para resolver un *PL* utilizando el método símplex son los siguintes:\n",
    "1. El primer paso es transformar el problema a su versión estándar. En caso de que el lector tenga duda sobre cómo realizar este paso sugerimos vistar la siguiente [liga](http://www.phpsimplex.com/teoria_metodo_simplex.htm).\n",
    "1. Determinar la solución básica inicial.\n",
    "1. Mediante la **condición de optimalidad** determinar cuál será la variable de entrada. En caso de que no exista una variable de entrada, entonces se ha llegado a la condición óptima y finaliza el algoritmo. En caso contrario se continúa con el siguiente paso.\n",
    "1. Mediante la **condición de factibilidad** se selecciona la variable de slida.\n",
    "1. Se actualiza la matriz mediante las operaciones de Gauss-Jordan y se regresa al paso $3$.\n",
    "\n",
    "A continuación se realizará una expliación más profunda método símplex basándonos de un ejemplo de pequeña escala que ayudará (o eso se espera) a entender con mayor facilidad. El ejemplo a explicar se encontró en la [siguiente liga](https://www.plandemejora.com/metodo-simplex-paso-a-paso-ejemplos-maximizar-minimizar/). \n",
    "El *PL* a resolver es el siguiente:\n",
    "\n",
    "#### 1. Transformar problema a versión estándar\n",
    "Transformemos el siguiente problema a su versión estándar:\n",
    "\n",
    "$$\\min_{x \\in \\mathbb{R}^2} 3x_1 + 2x_2$$\n",
    "\n",
    "$$\\text{sujeto a}$$\n",
    "$$ 2x_1 + 5x_2 \\leq 35 $$\n",
    "$$ -3x_1 + +4x_2 \\geq -18 $$\n",
    "$$ 2x_1 + 4x_2 \\leq 26 $$\n",
    "$$ x_1,x_2 \\geq 0 $$\n",
    "\n",
    "Versión estándar del problema:\n",
    "\n",
    "$$\\min_{x \\in \\mathbb{R}^2} 3x_1 + 2x_2 + 0s_1 + 0s_2 +0s_3$$\n",
    "\n",
    "$$\\text{sujeto a}$$\n",
    "$$ 2x_1 + 5x_2 + 0s_1 + 0s_2 +0s_3 = 35 $$\n",
    "$$ -3x_1 + +4x_2 + 0s_1 + 0s_2 +0s_3 = 26 $$\n",
    "$$ x_1,x_2 \\geq 0 $$\n",
    "\n",
    "\n",
    "\n",
    "#### 2. Determinar la solución básica inicial\n",
    "Se determina\n",
    "\n"
   ]
  },
  {
   "cell_type": "code",
   "execution_count": null,
   "id": "registered-persian",
   "metadata": {},
   "outputs": [],
   "source": []
  }
 ],
 "metadata": {
  "kernelspec": {
   "display_name": "Python 3",
   "language": "python",
   "name": "python3"
  },
  "language_info": {
   "codemirror_mode": {
    "name": "ipython",
    "version": 3
   },
   "file_extension": ".py",
   "mimetype": "text/x-python",
   "name": "python",
   "nbconvert_exporter": "python",
   "pygments_lexer": "ipython3",
   "version": "3.7.3"
  }
 },
 "nbformat": 4,
 "nbformat_minor": 5
}
