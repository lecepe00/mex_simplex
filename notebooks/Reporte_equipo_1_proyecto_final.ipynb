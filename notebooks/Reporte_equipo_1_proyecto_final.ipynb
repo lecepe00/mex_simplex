{
 "cells": [
  {
   "cell_type": "markdown",
   "id": "compound-burton",
   "metadata": {},
   "source": [
    "<img src=\"../images/itam_mcd_logo.png\">\n",
    "\n",
    "# Implementación Método Simplex"
   ]
  },
  {
   "cell_type": "markdown",
   "id": "excited-aluminum",
   "metadata": {},
   "source": [
    "### Prefacio"
   ]
  },
  {
   "cell_type": "markdown",
   "id": "global-chamber",
   "metadata": {},
   "source": [
    "En el siguiente reporte se implementará el paquete `mex` creado por los autores de este proyecto, que tiene como función principal resolver problemas de Programación Lineal, usualmente denotados por **LP** (por sus siglas en inglés *Linear Programming*). Se indagará en la formulación matemática del problema a resolver, así como de la metodología utilizada en el *Método Símplex*."
   ]
  },
  {
   "cell_type": "markdown",
   "id": "bizarre-interstate",
   "metadata": {},
   "source": [
    "## 1. Programación lineal\n",
    "La **Programación Lineal** es una sección de una de las ramas de las matemáticas que se ha consolidado a lo largo del Siglo XX con el nombre de Optimización. En general, esta última rama trata de varias técnicas matemáticas que buscan obtener el mayor provecho en sistemas biológicos, económicos, tecnológicos, ... \n",
    "Dichas técnicas se basaron en la idea de construir un **programa** que ayudase a encontrar la solución *óptima*. Según las caracteríticas de las funciones del problema y de las variables se tienen diversos tipos de problemas de Programación Matemática, en el caso particular, en donde todas las funciones del problema, objetivo  restricciones son lineales se tiene un problema de **Programación Lineal**.\n",
    "\n",
    "La Programación Lineal estudia el problema de optimizar (ya sea minimizar o maximizar) una función lineal en la presencia de restricciones de la forma de desigualdades lineales. Unas de las principales ventajas de la Programación Lineal son la habilidad de modelar problemas grandes y complejos y la habilidad para resolver tales problemas (inclusive de grande escala) en un intervalo de tiempo razonable mediante el uso del **método símplex** y de computadoras.\n",
    "\n",
    "El auge de la Programación Lineal a fechas previas al fin de la Segunda Guerra Mundial que fue una época en donde se hizo evidente que era fundamental la planificación y coordinaciión entre varios proyectos y más aún el uso **eficaz de los recursos disponibles**. En particular, el auge se da en junio de $1947$ cuando inicia un proyecto de la Fuerza Aérea de los EE.UU conocido como **SCOOP (Scientific Computation of Optimun Programs)** , que como resultado se tiene el **método símplex** desarrollado por el matemático George B. Dantzig para el final del verano de dicho año. El interés de la Programación Lineal se difundió muy rápido entre economistas, matemáticos, estadísticos, instituciones gubernamentales, entre otros.\n",
    "\n",
    "![George Dantinzg](../images/progr_lineal_1.png)\n",
    "\n",
    "\n",
    "Los elementos de un problema de Programación Lineal son:\n",
    "+ Función objetivo: usualmente denotada por $f(x)$ con $x \\in \\mathbb{R}^n$, donde se tiene $n$ variables de interés. $f$ tiene como única restricción ser lineal respecto a $x$, esto es:\n",
    "\n",
    "$$ f(x) = c_1x_1 + c_2x_2 + ... + c_nx_n$$\n",
    "\n",
    "Por lo general, $c$ es conocido como el vector de costos.\n",
    "\n",
    "+ Restricciones del tipo de desigualdad, bajo la restricción de que sean lineales respecto a $x$. Esto es para la función $h(x)$ y la cota superior $b$:\n",
    "\n",
    "$$ h(x) = a_1x_1 + a_2x_2 + ... + a_nx_n \\leq b $$\n",
    "\n",
    "Se pueden tener tantas restricciones como sea necesario:\n",
    "\n",
    "$$ h_1(x) = a_{11}x_1 + a_{12}x_2 + ... + a_{1n}x_n \\leq b_1 $$\n",
    "$$ h_2(x) = a_{21}x_1 + a_{22}x_2 + ... + a_{2n}x_n \\leq b_2 $$\n",
    "$$ \\vdots  $$\n",
    "$$ h_m(x) = a_{m1}x_1 + a_{m2}x_2 + ... + a_{mn}x_n \\leq b_m $$\n",
    "\n",
    "+ Variables no negativas: se tiene la restricción de que la variable que conforme la solución del problema esté conformado por valores no negativos, esto es:\n",
    "\n",
    "$$ x_1,x_2, ...,x_n \\geq 0$$\n",
    "\n",
    "\n",
    "Así pues, un problema de Programación Lineal tiene la siguiente forma:\n",
    "\n",
    "$$\\min_{x_1,x_2,...,x_n \\in \\mathbb{R}} c_1x_1 + c_2x_2 + ... + c_nx_n $$\n",
    "\n",
    "$$\\text{sujeto a}$$\n",
    "$$ h_1(x) = a_{11}x_1 + a_{12}x_2 + ... + a_{1n}x_n \\leq b_1 $$\n",
    "$$ h_2(x) = a_{21}x_1 + a_{22}x_2 + ... + a_{2n}x_n \\leq b_2 $$\n",
    "$$ \\vdots  $$\n",
    "$$ h_m(x) = a_{m1}x_1 + a_{m2}x_2 + ... + a_{mn}x_n \\leq b_m $$\n",
    "\n",
    "$$ x_1,x_2, ...,x_n \\geq 0 $$\n",
    "\n",
    "Si utilizamos álgebra matricial para representar el problema de una forma más compacta, entonces se tiene la siguiente forma:\n",
    "\n",
    "$$\\min_{x \\in \\mathbb{R}^n} c^Tx $$\n",
    "\n",
    "$$\\text{sujeto a}$$\n",
    "$$ h(x) = Ax \\leq b $$\n",
    "\n",
    "$$ x \\geq 0 $$\n",
    "\n",
    "En donde:\n",
    "\n",
    "$$ x = (x_1, x_2, ..., x_n)^T $$\n",
    "\n",
    "$$ c = (c_1, c_2, ..., c_n)^T $$\n",
    "\n",
    "$$ b = (b_1, b_2, ..., b_m)^T $$\n",
    "\n",
    "$$\n",
    "  A=\n",
    "  \\left[ {\\begin{array}{cc}\n",
    "   a11 & a12 & ... & a1n\\\\\n",
    "   a21 & a22 & ... & a2n\\\\\n",
    "   \\vdots & \\vdots & ... & \\vdots \\\\\n",
    "   am1 & am2 & ... & amn\\\\\n",
    "  \\end{array} } \\right]; A \\in \\mathbb{R}^{m\\text{x}n}\n",
    "$$\n",
    "\n"
   ]
  },
  {
   "cell_type": "markdown",
   "id": "charitable-fitness",
   "metadata": {},
   "source": [
    "## 2. Método Símplex\n",
    "\n",
    "El **método símplex** fue creado en el año $1947$ por el matemático [George Dantzig](https://en.wikipedia.org/wiki/George_Dantzig) con el objetivo de resolver problemas de programación lineal, en los cuales pueden intervenir más de $2$ variables permitiendo mejorar las respuestas paso a paso y permitir alcanzar la solución óptima de dicho problema.\n",
    "\n",
    "![George Dantinzg](../images/george_dantzing.png)\n",
    "\n",
    "\n",
    "La programación lineal se planteó como un modelo matemático desrrolado durante la Segunda Guerra Mundial para tener una mejor planificación en cuanto a gastos y retornos y sobre todo reducir los costos del ejército y aumentar las pérdidas del enemigo.\n",
    "\n",
    "El **método símplex** es un procedimiento iterativo utilizado para resolver problema de programación lineal (*LP*), que tiene como objetivo la búsqueda de la solución óptima. \n",
    "\n",
    "Para tener una mejor idea intuitiva de cómo funciona el método símplex se revisarán las siguientes definiciones:\n",
    "+ El conjunto factible (posibles soluciones al *LP*) puede representarse por medio de un poliedro convexo. Éste es un resultado aplicable a cualquier *LP*.\n",
    "+ Si un *LP* tiene una solución óptima y finita, entonces dicha solución se encuentra en uno de los **vértices del poliedro convexo**.\n",
    "\n",
    "\n",
    "Intuitivamente, el método inicia en uno de los vértices del problema y verifica si éste es óptimo, si no lo es, entonces busca un vértice adyacente que mejore el valor de la función objetivo y así sucesivamente hasta llegar al vértice que no permite una mejora en la función objetivo, es ahí donde se encuentra la solución óptima. En la siguiente imagen se representa un gráfico que ayuda a imaginarse esta última descripción.\n",
    "\n",
    "<img src=\"../images/repr_graf_met_simp.png\">\n",
    "\n",
    "Cabe mencionar, que el método símplex trabaja bajo el supuesto de que el problema a optimizar se encuentra en su forma estándar, la cual es la siguiente:\n",
    "\n",
    "$$\\min_{x \\in \\mathbb{R}^n} c^Tx$$\n",
    "\n",
    "$$\\text{sujeto a}$$\n",
    "$$ Ax = b $$\n",
    "$$ x \\geq 0 $$\n",
    "\n",
    "En donde $A \\in \\mathbb{R}^{m \\text{x} n}, b \\in \\mathbb{R}^m$.\n",
    "\n",
    "Los pasos para resolver un *PL* utilizando el método símplex son los siguintes:\n",
    "1. El primer paso es transformar el problema a su versión estándar y crear el *tableu*. En caso de que el lector tenga duda sobre cómo realizar este paso sugerimos vistar la siguiente [liga](http://www.phpsimplex.com/teoria_metodo_simplex.htm).\n",
    "1. Determinar la solución básica inicial.\n",
    "1. Mediante la **condición de optimalidad** determinar cuál será la variable de entrada. En caso de que no exista una variable de entrada, entonces se ha llegado a la condición óptima y finaliza el algoritmo. En caso contrario se continúa con el siguiente paso.\n",
    "1. Mediante la **condición de factibilidad** se selecciona la variable de salida.\n",
    "1. Se actualiza el *tableau* mediante las operaciones de Gauss-Jordan y se regresa al paso $3$.\n",
    "\n",
    "A continuación se realizará una expliación más profunda método símplex basándonos de un ejemplo de pequeña escala que ayudará (o eso se espera) a entender con mayor facilidad. \n",
    "\n",
    "El ejemplo a explicar se encontró en la [siguiente liga](https://www.plandemejora.com/metodo-simplex-paso-a-paso-ejemplos-maximizar-minimizar/), donde el *PL* a resolver es el siguiente:\n",
    "\n",
    "$$\\max_{x \\in \\mathbb{R}^2} 3x_1 + 2x_2$$\n",
    "\n",
    "$$\\text{sujeto a}$$\n",
    "$$ 2x_1 + 5x_2 \\leq 35 $$\n",
    "$$ -3x_1 + +2x_2 \\geq -18 $$\n",
    "$$ 2x_1 + 4x_2 \\leq 26 $$\n",
    "$$ x_1,x_2 \\geq 0 $$\n",
    "\n",
    "\n",
    "#### 1. Transformar problema a versión estándar y crear *tableau*\n",
    "Transformemos el siguiente problema a su versión estándar:\n",
    "\n",
    "$$\\max_{x \\in \\mathbb{R}^2} 3x_1 + 2x_2$$\n",
    "\n",
    "$$\\text{sujeto a}$$\n",
    "$$ 2x_1 + 5x_2 \\leq 35 $$\n",
    "$$ -3x_1 + +2x_2 \\geq -18 $$\n",
    "$$ 2x_1 + 4x_2 \\leq 26 $$\n",
    "$$ x_1,x_2 \\geq 0 $$\n",
    "\n",
    "Versión estándar del problema:\n",
    "\n",
    "$$\\max_{x \\in \\mathbb{R}^2} 3x_1 + 2x_2 + 0s_1 + 0s_2 +0s_3$$\n",
    "\n",
    "$$\\text{sujeto a}$$\n",
    "$$ 2x_1 + 5x_2 + 1s_1 + 0s_2 +0s_3 = 35 $$\n",
    "$$ 3x_1 - 2x_2 + 0s_1 + 1s_2 +0s_3 = 18 $$\n",
    "$$ 2x_1 + 4x_2 + 0s_1 + 0s_2 +1s_3= 26 $$\n",
    "$$ x_1,x_2,s_1,s_2,s_3 \\geq 0 $$\n",
    "\n",
    "Ahora se crea el *tableau*:\n",
    "\n",
    "<img src=\"../images/simplex_1.png\">\n",
    "\n",
    "#### 2. Determinar la solución básica inicial\n",
    "En este caso en específico la solución básica inical sería:\n",
    "\n",
    "$$ s_1=35, s_2=18, s_3=26 $$\n",
    "\n",
    "Que corresponden al conjunto de variables básicas iniciales (conforman la *base*)  con valores iguales al vector $b$. Las variables que no se encuentran en la base se denominan variables no básicas y en este caso serían $x_1$ y $x_2$, las cuales tienen valor de $0$. Cabe mencionar que en todos los pasos las variables no básicas son iguales a $0$.\n",
    "\n",
    "#### 3. Seleccionar la variable de entrada mediante la condición de optimalidad\n",
    "\n",
    "Busca responder la pregunta ¿la solución actual en nuestro *tableau* actual es óptima o se puede mejorar? Para ello se verifica lo siguiente:\n",
    "+ **Problema de maximización**: verificar que todos los coeficientes del vector de costos reducidos ($c$) son mayores o iguales que cero, esto quiere decir que estamos en el punto óptimo y se ha finalizado el problema, pues se ha encontrado una solución óptima.\n",
    "+ **Problema de minimización**: verificar que todos los coeficientes del vector de costos reducidos ($c$) son menores o iguales que cero, esto quiere decir que estamos en el punto óptimo y se ha finalizado el problema, pues se ha encontrado una solución óptima.\n",
    "\n",
    "Dado que nuestro ejemplo es un problema de maximización, entonces notamos que uno de los coeficientes del vector de costos ($c$) es menor a cero, en específico, el que está asociado a la segunda entrada. Esto implica que no se cumple la condición de optimalidad y aún se puede mejorar el valor de la solución. En la siguiente imagen se muestra este hecho.\n",
    "\n",
    "<img src=\"../images/simplex_2.png\">\n",
    "\n",
    "La **variable de entrada** será una de las variables no básicas que ingresará a la base, es decir, formará parte de las variables básicas y de la solución del problema. Los criterios para determinar la variable de entrada se mencionan a continuación:\n",
    "\n",
    "+ **Problema de maximización**: variable no básica con el coeficiente **más negativo** (o más pequeño) en el vector de costos reducidos.\n",
    "+ **Problema de minimización**: variable no básica con el coeficiente **más positivo** (o más grande) en el vector de costos reducidos.\n",
    "\n",
    "La columna donde está ubicada dicha variable se denominará **columna pivote**.\n",
    "\n",
    "En nuestro ejemplo, notemos que el vector de costos en la primera iteración es:\n",
    "\n",
    "$$ c = (-3,-2,0,0,0) $$\n",
    "\n",
    "Dado que, es un problema de maximización, entonces elegimos el valor más pequeño o análogamente el más negativo el cual corresponde a $-3$ ubicado en la primera posición que hace referencia a la variable $x_1$. La siguiente vráfica da un apoyo visual de este proceso:\n",
    "\n",
    "<img src=\"../images/simplex_2_1.png\">\n",
    "\n",
    "\n",
    "#### 4. Seleccionar la variable de salida mediante la condición de factibilidad\n",
    "\n",
    "La condición de factibilidad, ya sea un problema de maximización o minimización, analiza si el problema tiene solución no acotada. Esto se realiza mediante la verificación de que al menos uno de los valores de la columna pivote sea mayor que $0$.\n",
    "\n",
    "\n",
    "Para determinar la **variable de salida** se debe dividir cada elemento de la columna $R$ (que en la primera iteración es igual al vector $b$) entre cada elemento de la columna correspondiente a la variable de entrada (siempre y cuando el divisor sea distinto de cero). Una vez calculado este cociente, entonces la variable de salida corresponde a la posición con el valor más pequeño, dicha posición hace referencia a una de las variables básicas, por lo que, se denotará a este renglón como **renglón pivote**.\n",
    "\n",
    "A la posición que hace intersección entre la **columna pivote** y **renglón pivote**, le denotaremos como **elemento pivote**.\n",
    "\n",
    "En nuestro ejemplo sería realizar lo siguiente:\n",
    "\n",
    "$$ v_{{\\text{exit}}} = R ./ x_1 = (35, 18, 26) ./ (2, 3, 2) = \\left(\\frac{35}{2}, \\frac{18}{3}, \\frac{26}{2}\\right) = (17.5, 6, 13) $$\n",
    "\n",
    "Luego tomamos el mínimo,\n",
    "$$ \\min (v_{{\\text{exit}}})  = 6 $$\n",
    "\n",
    "El cual corresponde a la segunda posición, que hace referencia a la variable $s_2$ del conjunto base.\n",
    "\n",
    "El siguiente gráfico ayuda a entender este proceso:\n",
    "\n",
    "\n",
    "<img src = \"../images/simplex_3.png\">\n",
    "\n",
    "\n",
    "#### 5. Actualización del *tableau* mediante las operaciones de Gauss-Jordan\n",
    "\n",
    "Una vez determinado el elemento pivote se proseguirá a realizar las operaciones de Gauss-Jordan para formar la matriz identidad ($I$) mediante la siguiente manera:\n",
    "+ Renglón pivote: dividir el valor acutal de cada entrada entre el elemento pivote, esto hará que el pivote tenga un nuevo valor igual a $1$. Esto es:\n",
    "\n",
    "$$\\text{Nuevo renglón pivote} = \\frac{\\text{Renglón pivote actual}}{\\text{Elemento pivote}}$$\n",
    "\n",
    "La siguiente imagen representa esta operación:\n",
    "\n",
    "<img src = \"../images/simplex_4.png\">\n",
    "\n",
    "+ Otros renglones: restar del valor actual la multiplicación del elemento del renglón que se encuentra en la columna pivote por el nuevo valor calculado en el renglón pivote. Esto es:\n",
    "\n",
    "$$\\text{Nuevo valor} = \\text{Valor actual} - \\text{Elemento renglón columna pivote}*\\text{Nuevo valor renglón pivote}$$\n",
    "\n",
    "Este último cómputo en palabras puede ser muy complicado, por lo que, se apoya con la siguiente imagen que representa estas operaciones para el renglón correspondiente a $s_1$:\n",
    "\n",
    "<img src = \"../images/simplex_4_1.png\">\n",
    "\n",
    "Ahora para el renglón correspondiente a $s_3$:\n",
    "\n",
    "<img src = \"../images/simplex_4_2.png\">\n",
    "\n",
    "Y finalmente para el renglón correspondiente a $Z$:\n",
    "\n",
    "<img src = \"../images/simplex_4_3.png\">\n",
    "\n",
    "Finalmente, la matriz resultante que contiene estos pasos es la siguiente:\n",
    "\n",
    "<img src = \"../images/simplex_4_4.png\">\n",
    "\n",
    "\n",
    "\n",
    "Una vez llegado a este punto se vuelve al paso 3 y se verifica la condición de optimalidad y se repite el proceso hasta que no se cumple esta condición o la de factibilidad.\n"
   ]
  },
  {
   "cell_type": "markdown",
   "id": "demonstrated-acceptance",
   "metadata": {},
   "source": [
    "## 3. Paquetería `mex`"
   ]
  },
  {
   "cell_type": "markdown",
   "id": "loving-genesis",
   "metadata": {},
   "source": [
    "<img src = \"../images/mex_simplex_logo.png\">"
   ]
  },
  {
   "cell_type": "markdown",
   "id": "academic-saturn",
   "metadata": {},
   "source": [
    "`mex` es un paquete desarrollado por los siguientes alumnos de la **Maestría en Ciencia de Datos** impartida por el ITAM:\n",
    "+ Carolina Acosta Tovany\n",
    "+ Leonarco Ceja Péres\n",
    "+ Cecilia Avilés Robles\n",
    "+ Eduardo moreno Ortiz\n",
    "\n",
    "Este paquete resuelve problemas de Programación Lineal basándose en el método símplex. En el presente documento se explicarán las principales funciones del paquete y se resolverá un ejercicio de pequeña escala con el fin de ilustrar la funcionalidad del mismo. \n",
    "\n",
    "Para una mayor descripción del paquete se recomienda visitar la documentación presente en la siguiente [liga](https://optimizacion-2-2021-1-gh-classroom.github.io/practica-2-segunda-parte-caroacostatovany/)."
   ]
  },
  {
   "cell_type": "markdown",
   "id": "naughty-salvation",
   "metadata": {},
   "source": [
    "Supongamos que se quiere resolver el siguiente problema de Programación Lineal:\n",
    "\n",
    "$$ \\max_{x \\in \\mathbb{R}^2} 3x_1 + 5x_2 $$\n",
    "$$ \\text{sujeto a}  $$\n",
    "$$  x_1 \\leq 4 $$\n",
    "$$  x_2 \\leq 12 $$\n",
    "$$  3x_1 + 2x_2 \\leq 18 $$\n",
    "\n",
    "1. El primer paso es crear el *tableau* para ello se utilizarán las siguientes funciones:\n",
    "+ `create_matrix`: genera una matriz de ceros de las dimensiones neceasarias para el tableau.\n",
    "+ `add_constrain`: agrega las restricciones del problema de tal forma que crea variables sintéticas en el tableau de acuerdo a si es una desigualdad del tipo menor o igual que $(\\leq)$, mayor o iqual que $(\\geq)$ o una igualdad (en este último caso no agrega variable sintética).\n",
    "+ `obj`: agrega la función objetivo del problema multiplicado por $-1$ (siempre se agrega un cero al final del argumento)."
   ]
  },
  {
   "cell_type": "code",
   "execution_count": 3,
   "id": "together-inspector",
   "metadata": {},
   "outputs": [],
   "source": [
    "# Instalación del paquete\n",
    "# pip install \"git+https://github.com/optimizacion-2-2021-1-gh-classroom/practica-2-segunda-parte-caroacostatovany.git#egg=mex&subdirectory=src\""
   ]
  },
  {
   "cell_type": "code",
   "execution_count": 74,
   "id": "negative-review",
   "metadata": {},
   "outputs": [],
   "source": [
    "from mex.simplex.simplex_networks import create_matrix, find_pivot_col, find_pivot_row, find_negative_col, pivots_col, pivots_row, find_negative_row, pivot\n",
    "from mex.simplex.problem_definition import constrain, add_obj, obj, maxz"
   ]
  },
  {
   "cell_type": "code",
   "execution_count": 208,
   "id": "equal-chicago",
   "metadata": {},
   "outputs": [
    {
     "data": {
      "text/plain": [
       "array([[0., 0., 0., 0., 0., 0., 0.],\n",
       "       [0., 0., 0., 0., 0., 0., 0.],\n",
       "       [0., 0., 0., 0., 0., 0., 0.],\n",
       "       [0., 0., 0., 0., 0., 0., 0.]])"
      ]
     },
     "execution_count": 208,
     "metadata": {},
     "output_type": "execute_result"
    }
   ],
   "source": [
    "problem_matrix = create_matrix(2,3)   # 2 variables and 3 constraints\n",
    "problem_matrix"
   ]
  },
  {
   "cell_type": "code",
   "execution_count": 209,
   "id": "connected-attention",
   "metadata": {},
   "outputs": [
    {
     "data": {
      "text/plain": [
       "array([[  1.,   0.,   1.,   0.,   0.,   0.,   4.],\n",
       "       [  0.,   2.,   0.,   1.,   0.,   0.,  12.],\n",
       "       [ -3.,  -2.,   0.,   0.,   1.,   0., -18.],\n",
       "       [ -3.,  -5.,   0.,   0.,   0.,   1.,   0.]])"
      ]
     },
     "execution_count": 209,
     "metadata": {},
     "output_type": "execute_result"
    }
   ],
   "source": [
    "constrain(problem_matrix,'1,0,L,4')\n",
    "constrain(problem_matrix,'0,2,L,12')\n",
    "constrain(problem_matrix,'3,2,G,18')\n",
    "obj(problem_matrix,'3,5,0')\n",
    "problem_matrix"
   ]
  },
  {
   "cell_type": "markdown",
   "id": "informational-oxford",
   "metadata": {},
   "source": [
    "Dado que todas las restricciones son del tipo menor o igual que $(\\leq)$, entonces se agregan tantas variables sintéticas como restricciones, esto lo podemos ver en la matriz identidad que se encuentra entre las columnas $3-6$ del arreglo `numpy` previo."
   ]
  },
  {
   "cell_type": "markdown",
   "id": "involved-accordance",
   "metadata": {},
   "source": [
    "2. Determinar la solución básica inicial y determinar la variable de entrada mediante la condición de optimalidad: para este paso se utilizan la siguientes funciones:\n",
    "\n",
    "+ `pivots_row`: verifica la condición de optimalidad (coeficientes del vector de costos reducidos son mayores o iguales a cero).\n",
    "+ `find_pivot_row`: encuentra las posiciones de la variable de entrada y salida."
   ]
  },
  {
   "cell_type": "code",
   "execution_count": 212,
   "id": "persistent-balance",
   "metadata": {},
   "outputs": [
    {
     "data": {
      "text/plain": [
       "True"
      ]
     },
     "execution_count": 212,
     "metadata": {},
     "output_type": "execute_result"
    }
   ],
   "source": [
    "pivots_row(problem_matrix)"
   ]
  },
  {
   "cell_type": "markdown",
   "id": "constant-istanbul",
   "metadata": {},
   "source": [
    "Esto indica que la condición de optimalidad aún no se satisface y la solución puede ser mejorada."
   ]
  },
  {
   "cell_type": "code",
   "execution_count": 211,
   "id": "economic-liberty",
   "metadata": {},
   "outputs": [
    {
     "name": "stdout",
     "output_type": "stream",
     "text": [
      "Índice el índice del valor más negativo del vector de costos reducido (variable de entrada):  1\n",
      "Índice el índice del valor más pequeño del cociente R entre la columna de la variable de entrada (variable de salida):  1\n"
     ]
    }
   ],
   "source": [
    "index,neg = find_pivot_row(problem_matrix)\n",
    "print('Índice el índice del valor más negativo del vector de costos reducido (variable de entrada): ', index)\n",
    "print('Índice el índice del valor más pequeño del cociente R entre la columna de la variable de entrada (variable de salida): ', index)"
   ]
  },
  {
   "cell_type": "markdown",
   "id": "canadian-privacy",
   "metadata": {},
   "source": [
    "El vector de costos es $(-3,-5)$ (en `python` la enumaración inicia en 0), por lo que la posición $1$ es $-5$, la cual es la más negativa. Por lo que la variable de entrada será $x_2$."
   ]
  },
  {
   "cell_type": "markdown",
   "id": "affecting-custody",
   "metadata": {},
   "source": [
    "Para la variable de entrada se realizan se elige la posición correspondiente al mínimo del siguiente vector:\n",
    "\n",
    "$$ \\Big( 10,000, \\frac{12}{2}, \\frac{-18}{-2} \\Big) = \\Big( 10,000, 6, 9)  $$\n",
    "\n",
    "Que corresponde a la posición 2, ya que el mínimo es $6$. Dado que en `python` la enumeración inicia en $0$, entonces la posición que regresa el algoritmo es $1=2-1$. Por lo que la variable de salida será $s_2$."
   ]
  },
  {
   "cell_type": "markdown",
   "id": "obvious-methodology",
   "metadata": {},
   "source": [
    "5. Actualización del *tableau* meidante las operaciones de Gauss-Jordan: para ello se utiliza la siguiente función:\n",
    "\n",
    "+ pivot: realiza las operaciones de Gauss-Jordan para meter una variable no básica al conjunto base y sacar una variable básica del conjunto base. Este proceso se hace para las columnas del tableau y después para los renglones del mismo."
   ]
  },
  {
   "cell_type": "code",
   "execution_count": 205,
   "id": "printable-control",
   "metadata": {},
   "outputs": [
    {
     "data": {
      "text/plain": [
       "array([[ 1. ,  0. ,  1. ,  0. ,  0. ,  0. ,  4. ],\n",
       "       [ 0. ,  1. ,  0. ,  0.5,  0. ,  0. ,  6. ],\n",
       "       [-3. ,  0. ,  0. ,  1. ,  1. ,  0. , -6. ],\n",
       "       [-3. ,  0. ,  0. ,  2.5,  0. ,  1. , 30. ]])"
      ]
     },
     "execution_count": 205,
     "metadata": {},
     "output_type": "execute_result"
    }
   ],
   "source": [
    "problem_matrix=pivot(find_pivot_row(problem_matrix)[0], find_pivot_row(problem_matrix)[1], problem_matrix)\n",
    "problem_matrix"
   ]
  },
  {
   "cell_type": "markdown",
   "id": "later-digit",
   "metadata": {},
   "source": [
    "Con los resultados de los pasos previos se determinó que la variable de salida es $x_2$ y de entrada es $s_2$ y se muestra en el *tableau*, ya que, la columna asociada a la variable $x_2$ (segunda columna) únicamente toma valor en la posición respectiva y la columna que sale de la base es $s_2$, que se encuentra en la columna $4$, que ahora no es un vector canónico."
   ]
  },
  {
   "cell_type": "markdown",
   "id": "steady-attribute",
   "metadata": {},
   "source": [
    "Todos estos previos pasos se realizan de manera iterativa dentro de la función `maxz`"
   ]
  },
  {
   "cell_type": "code",
   "execution_count": 213,
   "id": "native-supervisor",
   "metadata": {},
   "outputs": [
    {
     "data": {
      "text/plain": [
       "{'x1': 4.0, 'x2': 6.0, 'max': 42.0}"
      ]
     },
     "execution_count": 213,
     "metadata": {},
     "output_type": "execute_result"
    }
   ],
   "source": [
    "maxz(problem_matrix)"
   ]
  },
  {
   "cell_type": "markdown",
   "id": "stuck-activation",
   "metadata": {},
   "source": [
    "### Referencias\n",
    "+ Vázquez Romero, Germán Antonio. $(2013)$. APLICACIÓN DE ALGUNAS HEURÍSTICAS AL PROBLEMA DE LA MOCHILA, p. $9-11$.\n",
    "+ Método Simplex Paso a Paso. Mendez Abel, Plan de Mejora, https://www.plandemejora.com/metodo-simplex-paso-a-paso-ejemplos-maximizar-minimizar/\n",
    "+ Citar el libro de Erick (no se como citarlo porque no es un libro impreso con editorial y todo ese show, pero tampoco una revista de ciencia :S)"
   ]
  },
  {
   "cell_type": "code",
   "execution_count": null,
   "id": "fossil-cricket",
   "metadata": {},
   "outputs": [],
   "source": []
  }
 ],
 "metadata": {
  "kernelspec": {
   "display_name": "Python 3",
   "language": "python",
   "name": "python3"
  },
  "language_info": {
   "codemirror_mode": {
    "name": "ipython",
    "version": 3
   },
   "file_extension": ".py",
   "mimetype": "text/x-python",
   "name": "python",
   "nbconvert_exporter": "python",
   "pygments_lexer": "ipython3",
   "version": "3.8.5"
  }
 },
 "nbformat": 4,
 "nbformat_minor": 5
}
