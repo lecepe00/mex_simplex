{
 "cells": [
  {
   "cell_type": "code",
   "execution_count": 1,
   "metadata": {},
   "outputs": [
    {
     "name": "stdout",
     "output_type": "stream",
     "text": [
      "Found existing installation: mex 1.0\n",
      "Uninstalling mex-1.0:\n",
      "  Successfully uninstalled mex-1.0\n"
     ]
    }
   ],
   "source": [
    "!pip uninstall mex -y"
   ]
  },
  {
   "cell_type": "code",
   "execution_count": 2,
   "metadata": {},
   "outputs": [
    {
     "name": "stdout",
     "output_type": "stream",
     "text": [
      "\u001b[33mWARNING: You are using pip version 20.2.1; however, version 21.1.1 is available.\n",
      "You should consider upgrading via the '/usr/bin/python3 -m pip install --upgrade pip' command.\u001b[0m\n"
     ]
    }
   ],
   "source": [
    "!pip install --quiet \"git+https://github.com/lecepe00/mex_simplex.git#egg=mex&subdirectory=src\""
   ]
  },
  {
   "cell_type": "code",
   "execution_count": 3,
   "metadata": {},
   "outputs": [],
   "source": [
    "import timeit\n",
    "import numpy as np\n",
    "import scipy.io as sio\n",
    "\n",
    "#scipy\n",
    "from scipy.optimize import linprog\n",
    "from pytest import approx\n",
    "\n",
    "#mex\n",
    "from mex.simplex import simplex_networks as mex_sn\n",
    "from mex.simplex import problem_definition as mex_pd\n",
    "from mex.utils import general as mex_g\n",
    "from mex.simplex.minimizer_class import Minimizer\n",
    "from mex.simplex.maximizer_class import Maximizer"
   ]
  },
  {
   "cell_type": "markdown",
   "metadata": {},
   "source": [
    "## Lectura de datos"
   ]
  },
  {
   "cell_type": "code",
   "execution_count": 4,
   "metadata": {},
   "outputs": [],
   "source": [
    "mat = sio.loadmat('../data/AGG.mat')      \n",
    "#mat = sio.loadmat('../data/AGG2.mat')     \n",
    "#mat = sio.loadmat('../data/SHIP04L.mat') \n",
    "#mat = sio.loadmat('../data/QAP8.mat')\n",
    "#mat = sio.loadmat('../data/QAP15.mat')\n",
    "#mat = sio.loadmat('../data/TRUSS.mat')"
   ]
  },
  {
   "cell_type": "code",
   "execution_count": 5,
   "metadata": {},
   "outputs": [
    {
     "data": {
      "text/plain": [
       "(488, 615)"
      ]
     },
     "execution_count": 5,
     "metadata": {},
     "output_type": "execute_result"
    }
   ],
   "source": [
    "A = mat['A']\n",
    "b = mat['b']\n",
    "c = mat['c']\n",
    "lbounds = mat['lbounds']\n",
    "ubounds = mat['ubounds']\n",
    "A.shape"
   ]
  },
  {
   "cell_type": "markdown",
   "metadata": {},
   "source": [
    "## Prueba de paquete `mex`"
   ]
  },
  {
   "cell_type": "code",
   "execution_count": 6,
   "metadata": {},
   "outputs": [],
   "source": [
    "A = A.toarray()"
   ]
  },
  {
   "cell_type": "code",
   "execution_count": 7,
   "metadata": {},
   "outputs": [],
   "source": [
    "minim = Minimizer(A, b, c)"
   ]
  },
  {
   "cell_type": "code",
   "execution_count": 8,
   "metadata": {},
   "outputs": [],
   "source": [
    "minim.add_constraints(lbounds,ubounds)"
   ]
  },
  {
   "cell_type": "code",
   "execution_count": 9,
   "metadata": {},
   "outputs": [
    {
     "data": {
      "text/plain": [
       "(1719, 2335)"
      ]
     },
     "execution_count": 9,
     "metadata": {},
     "output_type": "execute_result"
    }
   ],
   "source": [
    "minim.matrix.shape"
   ]
  },
  {
   "cell_type": "code",
   "execution_count": 10,
   "metadata": {},
   "outputs": [
    {
     "name": "stdout",
     "output_type": "stream",
     "text": [
      "55.37603930000478\n"
     ]
    }
   ],
   "source": [
    "start_time = timeit.default_timer()\n",
    "minim.solve()\n",
    "print(timeit.default_timer() - start_time)"
   ]
  },
  {
   "cell_type": "markdown",
   "metadata": {},
   "source": [
    "**Valores aproximados**"
   ]
  },
  {
   "cell_type": "code",
   "execution_count": 11,
   "metadata": {},
   "outputs": [],
   "source": [
    "min_approx = minim.get_min()"
   ]
  },
  {
   "cell_type": "code",
   "execution_count": 12,
   "metadata": {},
   "outputs": [],
   "source": [
    "coeff_approx = minim.get_coeff()"
   ]
  },
  {
   "cell_type": "markdown",
   "metadata": {},
   "source": [
    "**Valores objetivo**"
   ]
  },
  {
   "cell_type": "code",
   "execution_count": 13,
   "metadata": {},
   "outputs": [],
   "source": [
    "tableau_obj = minim.matrix"
   ]
  },
  {
   "cell_type": "code",
   "execution_count": 14,
   "metadata": {},
   "outputs": [],
   "source": [
    "n_restr = tableau_obj.shape[0]-1\n",
    "n_vars = A.shape[1]"
   ]
  },
  {
   "cell_type": "code",
   "execution_count": 15,
   "metadata": {},
   "outputs": [],
   "source": [
    "c_min_obj = tableau_obj[-1,0:n_vars]"
   ]
  },
  {
   "cell_type": "code",
   "execution_count": 16,
   "metadata": {},
   "outputs": [],
   "source": [
    "A_min_obj = tableau_obj[0:n_restr, 0:n_vars]"
   ]
  },
  {
   "cell_type": "code",
   "execution_count": 17,
   "metadata": {},
   "outputs": [],
   "source": [
    "b_min_obj = tableau_obj[0:n_restr, -1]"
   ]
  },
  {
   "cell_type": "code",
   "execution_count": 18,
   "metadata": {},
   "outputs": [
    {
     "name": "stdout",
     "output_type": "stream",
     "text": [
      "68.74175789999572\n"
     ]
    }
   ],
   "source": [
    "start_time = timeit.default_timer()\n",
    "min_obj = linprog(c_min_obj, A_ub=A_min_obj, b_ub=b_min_obj).fun\n",
    "print(timeit.default_timer() - start_time)"
   ]
  },
  {
   "cell_type": "code",
   "execution_count": 20,
   "metadata": {},
   "outputs": [],
   "source": [
    "coeff_obj = linprog(c, A_ub=A, b_ub=b).x"
   ]
  },
  {
   "cell_type": "markdown",
   "metadata": {},
   "source": [
    "**Comprobación**"
   ]
  },
  {
   "cell_type": "code",
   "execution_count": 21,
   "metadata": {},
   "outputs": [
    {
     "name": "stdout",
     "output_type": "stream",
     "text": [
      "El valor objetivo obtenido con scipy es: -3.6e+35\n",
      "El valor aproximado obtenido con mex es: -3.6e+35\n"
     ]
    }
   ],
   "source": [
    "assert min_obj == approx(min_approx, rel=1e-1), \"El valor aproximado es incorrecto\"\n",
    "#assert np.round(coeff_obj,3) == approx(coeff_approx, abs=1e+40), \"El valor de los coeficientes aproximados es incorrecto\"\n",
    "\n",
    "print(\"El valor objetivo obtenido con scipy es: {0:.2g}\".format(min_obj))\n",
    "print(\"El valor aproximado obtenido con mex es: {0:.2g}\".format(min_approx))"
   ]
  },
  {
   "cell_type": "markdown",
   "metadata": {},
   "source": [
    "## Prueba parquete `mex` con compilación a C"
   ]
  },
  {
   "cell_type": "code",
   "execution_count": 22,
   "metadata": {},
   "outputs": [],
   "source": [
    "#mex_c\n",
    "from mex.mex_c import general_c as mex_c_g\n",
    "from mex.mex_c import simplex_networks_c as mex_c_sn\n",
    "from mex.mex_c import problem_definition_c as mex_c_pd\n",
    "from mex.mex_c.minimizer_class_c import Minimizer_c\n",
    "from mex.mex_c.maximizer_class_c import Maximizer_c"
   ]
  },
  {
   "cell_type": "code",
   "execution_count": 23,
   "metadata": {},
   "outputs": [],
   "source": [
    "minim_c = Minimizer_c(A,b,c)"
   ]
  },
  {
   "cell_type": "code",
   "execution_count": 24,
   "metadata": {},
   "outputs": [],
   "source": [
    "minim_c.add_constraints(lbounds,ubounds)"
   ]
  },
  {
   "cell_type": "code",
   "execution_count": 25,
   "metadata": {},
   "outputs": [
    {
     "data": {
      "text/plain": [
       "(1719, 2335)"
      ]
     },
     "execution_count": 25,
     "metadata": {},
     "output_type": "execute_result"
    }
   ],
   "source": [
    "minim_c.matrix.shape"
   ]
  },
  {
   "cell_type": "code",
   "execution_count": 26,
   "metadata": {},
   "outputs": [
    {
     "name": "stdout",
     "output_type": "stream",
     "text": [
      "36.772218600002816\n"
     ]
    }
   ],
   "source": [
    "start_time = timeit.default_timer()\n",
    "minim_c.solve()\n",
    "print(timeit.default_timer() - start_time)"
   ]
  },
  {
   "cell_type": "markdown",
   "metadata": {},
   "source": [
    "**Valores aproximados**"
   ]
  },
  {
   "cell_type": "code",
   "execution_count": 27,
   "metadata": {},
   "outputs": [],
   "source": [
    "min_approx_c = minim_c.get_min()\n",
    "coeff_approx_c = minim_c.get_coeff()"
   ]
  },
  {
   "cell_type": "markdown",
   "metadata": {},
   "source": [
    "**Comprobación**"
   ]
  },
  {
   "cell_type": "code",
   "execution_count": 28,
   "metadata": {},
   "outputs": [
    {
     "name": "stdout",
     "output_type": "stream",
     "text": [
      "El valor objetivo obtenido con scipy es: -3.6e+35\n",
      "El valor aproximado obtenido con mex es: -3.6e+35\n"
     ]
    }
   ],
   "source": [
    "assert min_obj == approx(min_approx_c, rel=1e-1), \"El valor aproximado es incorrecto\"\n",
    "#assert np.round(coeff_obj,5) == approx(coeff_approx_c, abs=1e+8), \"El valor de los coeficientes aproximados es incorrecto\"\n",
    "\n",
    "print(\"El valor objetivo obtenido con scipy es: {0:.2g}\".format(min_obj))\n",
    "print(\"El valor aproximado obtenido con mex es: {0:.2g}\".format(min_approx_c))"
   ]
  },
  {
   "cell_type": "code",
   "execution_count": 14,
   "metadata": {},
   "outputs": [],
   "source": []
  }
 ],
 "metadata": {
  "kernelspec": {
   "display_name": "Python 3",
   "language": "python",
   "name": "python3"
  },
  "kubeflow_notebook": {
   "autosnapshot": false,
   "docker_image": "",
   "experiment": {
    "id": "",
    "name": ""
   },
   "experiment_name": "",
   "katib_metadata": {
    "algorithm": {
     "algorithmName": "grid"
    },
    "maxFailedTrialCount": 3,
    "maxTrialCount": 12,
    "objective": {
     "objectiveMetricName": "",
     "type": "minimize"
    },
    "parallelTrialCount": 3,
    "parameters": []
   },
   "katib_run": false,
   "pipeline_description": "",
   "pipeline_name": "",
   "snapshot_volumes": false,
   "steps_defaults": [],
   "volume_access_mode": "rwm",
   "volumes": []
  },
  "language_info": {
   "codemirror_mode": {
    "name": "ipython",
    "version": 3
   },
   "file_extension": ".py",
   "mimetype": "text/x-python",
   "name": "python",
   "nbconvert_exporter": "python",
   "pygments_lexer": "ipython3",
   "version": "3.7.3"
  }
 },
 "nbformat": 4,
 "nbformat_minor": 5
}
