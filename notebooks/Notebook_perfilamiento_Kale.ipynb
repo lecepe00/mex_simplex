{
 "cells": [
  {
   "cell_type": "markdown",
   "metadata": {
    "tags": []
   },
   "source": [
    "## Perfilamiento con Kale:"
   ]
  },
  {
   "cell_type": "code",
   "execution_count": 1,
   "metadata": {
    "tags": [
     "imports"
    ]
   },
   "outputs": [],
   "source": [
    "#np.set_printoptions(threshold=sys.maxsize)\n",
    "import os\n",
    "import sys\n",
    "import pytz\n",
    "import timeit\n",
    "import datetime\n",
    "import numpy as np\n",
    "import scipy\n",
    "import scipy.io as sio\n",
    "import time\n",
    "\n",
    "#scipy\n",
    "from scipy.optimize import linprog\n",
    "from pytest import approx\n",
    "\n",
    "#mex\n",
    "from mex.simplex import simplex_networks as mex_sn\n",
    "from mex.simplex import problem_definition as mex_pd\n",
    "from mex.utils import general as mex_g\n",
    "from mex.simplex.minimizer_class import Minimizer\n",
    "from mex.simplex.maximizer_class import Maximizer\n",
    "\n",
    "#mex_c\n",
    "#from mex.mex_c import general_c as mex_c_g\n",
    "#from mex.mex_c import simplex_networks_c as mex_c_sn\n",
    "#from mex.mex_c import problem_definition_c as mex_c_pd\n",
    "#from mex.mex_c.minimizer_class_c import Minimizer_c\n",
    "#from mex.mex_c.maximizer_class_c import Maximizer_c\n",
    "#from mex.mex_c import *"
   ]
  },
  {
   "cell_type": "markdown",
   "metadata": {
    "tags": []
   },
   "source": [
    "## Características de la instancia"
   ]
  },
  {
   "cell_type": "markdown",
   "metadata": {
    "tags": []
   },
   "source": [
    "Utilizamos una instancia `m5.2xlarge` que entra en el programa de AWS Educate y que hemos ocupado en prácticas anteriores. Esta instancia tiene las siguientes características:"
   ]
  },
  {
   "cell_type": "code",
   "execution_count": 2,
   "metadata": {
    "tags": [
     "skip"
    ]
   },
   "outputs": [
    {
     "name": "stdout",
     "output_type": "stream",
     "text": [
      "Architecture:        x86_64\n",
      "CPU op-mode(s):      32-bit, 64-bit\n",
      "Byte Order:          Little Endian\n",
      "CPU(s):              8\n",
      "On-line CPU(s) list: 0-7\n",
      "Thread(s) per core:  2\n",
      "Core(s) per socket:  4\n",
      "Socket(s):           1\n",
      "NUMA node(s):        1\n",
      "Vendor ID:           GenuineIntel\n",
      "CPU family:          6\n",
      "Model:               85\n",
      "Model name:          Intel(R) Xeon(R) Platinum 8175M CPU @ 2.50GHz\n",
      "Stepping:            4\n",
      "CPU MHz:             3099.345\n",
      "BogoMIPS:            5000.00\n",
      "Hypervisor vendor:   KVM\n",
      "Virtualization type: full\n",
      "L1d cache:           32K\n",
      "L1i cache:           32K\n",
      "L2 cache:            1024K\n",
      "L3 cache:            33792K\n",
      "NUMA node0 CPU(s):   0-7\n",
      "Flags:               fpu vme de pse tsc msr pae mce cx8 apic sep mtrr pge mca cmov pat pse36 clflush mmx fxsr sse sse2 ss ht syscall nx pdpe1gb rdtscp lm constant_tsc rep_good nopl xtopology nonstop_tsc cpuid aperfmperf tsc_known_freq pni pclmulqdq ssse3 fma cx16 pcid sse4_1 sse4_2 x2apic movbe popcnt tsc_deadline_timer aes xsave avx f16c rdrand hypervisor lahf_lm abm 3dnowprefetch invpcid_single pti fsgsbase tsc_adjust bmi1 hle avx2 smep bmi2 erms invpcid rtm mpx avx512f avx512dq rdseed adx smap clflushopt clwb avx512cd avx512bw avx512vl xsaveopt xsavec xgetbv1 xsaves ida arat pku ospke\n"
     ]
    }
   ],
   "source": [
    "%%bash\n",
    "lscpu"
   ]
  },
  {
   "cell_type": "markdown",
   "metadata": {
    "tags": []
   },
   "source": [
    "### Cargamos los datos:"
   ]
  },
  {
   "cell_type": "code",
   "execution_count": 2,
   "metadata": {
    "tags": [
     "block:cargar_datos"
    ]
   },
   "outputs": [],
   "source": [
    "mat = sio.loadmat('../data/AGG.mat')"
   ]
  },
  {
   "cell_type": "markdown",
   "metadata": {
    "tags": []
   },
   "source": [
    "# Perfilamiento de paquete `mex`"
   ]
  },
  {
   "cell_type": "markdown",
   "metadata": {
    "tags": []
   },
   "source": [
    "## Sin compilación a C"
   ]
  },
  {
   "cell_type": "code",
   "execution_count": 22,
   "metadata": {
    "tags": [
     "block:definir_valores_mex",
     "prev:cargar_datos"
    ]
   },
   "outputs": [],
   "source": [
    "A1_aprox = mat['A']\n",
    "b_aprox = mat['b']\n",
    "c_aprox = mat['c']\n",
    "lbounds = mat['lbounds']\n",
    "ubounds = mat['ubounds']\n",
    "#A.shape"
   ]
  },
  {
   "cell_type": "code",
   "execution_count": 23,
   "metadata": {
    "tags": [
     "block:generar_matriz_mex",
     "prev:definir_valores_mex"
    ]
   },
   "outputs": [],
   "source": [
    "A_aprox = A1_aprox.toarray()"
   ]
  },
  {
   "cell_type": "code",
   "execution_count": 24,
   "metadata": {
    "tags": [
     "block:llamar_clase_mex",
     "prev:generar_matriz_mex"
    ]
   },
   "outputs": [],
   "source": [
    "minim = Minimizer(A_aprox, b_aprox, c_aprox)"
   ]
  },
  {
   "cell_type": "code",
   "execution_count": 25,
   "metadata": {
    "tags": [
     "block:agregar_restricciones_mex",
     "prev:llamar_clase_mex"
    ]
   },
   "outputs": [],
   "source": [
    "minim.add_constraints(lbounds,ubounds)\n",
    "#minim.matrix.shape"
   ]
  },
  {
   "cell_type": "code",
   "execution_count": 26,
   "metadata": {
    "tags": [
     "block:perfilar_codigo_mex",
     "prev:agregar_restricciones_mex"
    ]
   },
   "outputs": [
    {
     "name": "stdout",
     "output_type": "stream",
     "text": [
      "Todo el proceso tomó 77.25020213400057 segundos\n"
     ]
    }
   ],
   "source": [
    "start_time = timeit.default_timer()\n",
    "minim.solve()\n",
    "secs_mex = timeit.default_timer() - start_time\n",
    "print(\"Todo el proceso tomó\",secs_mex,\"segundos\" )"
   ]
  },
  {
   "cell_type": "markdown",
   "metadata": {
    "tags": []
   },
   "source": [
    "## Con compilación a C"
   ]
  },
  {
   "cell_type": "code",
   "execution_count": 40,
   "metadata": {
    "tags": [
     "skip"
    ]
   },
   "outputs": [],
   "source": [
    "minim_c = Minimizer_c(A_aprox,b_aprox,c_aprox)"
   ]
  },
  {
   "cell_type": "code",
   "execution_count": 41,
   "metadata": {
    "tags": [
     "skip"
    ]
   },
   "outputs": [],
   "source": [
    "minim_c.add_constraints(lbounds,ubounds)\n",
    "#minim_c.matrix.shape"
   ]
  },
  {
   "cell_type": "code",
   "execution_count": 42,
   "metadata": {
    "tags": [
     "skip"
    ]
   },
   "outputs": [
    {
     "name": "stdout",
     "output_type": "stream",
     "text": [
      "Todo el proceso tomó 78.09592265399988 segundos\n"
     ]
    }
   ],
   "source": [
    "start_time_c = timeit.default_timer()\n",
    "minim_c.solve()\n",
    "secs_mex_c = timeit.default_timer() - start_time_c\n",
    "print(\"Todo el proceso tomó\",secs_mex_c,\"segundos\" )"
   ]
  },
  {
   "cell_type": "markdown",
   "metadata": {
    "tags": []
   },
   "source": [
    "# Perfilamiento de paquete `scipy`"
   ]
  },
  {
   "cell_type": "code",
   "execution_count": 11,
   "metadata": {
    "tags": [
     "block:definir_valores_scipy"
    ]
   },
   "outputs": [
    {
     "data": {
      "text/plain": [
       "(488, 615)"
      ]
     },
     "execution_count": 11,
     "metadata": {},
     "output_type": "execute_result"
    }
   ],
   "source": [
    "A2 = mat['A']\n",
    "b_scipy = mat['b']\n",
    "c_scipy = mat['c']\n",
    "lbounds_scipy = mat['lbounds']\n",
    "ubounds_scipy = mat['ubounds']\n",
    "A2.shape"
   ]
  },
  {
   "cell_type": "code",
   "execution_count": 12,
   "metadata": {
    "tags": [
     "block:genera_matriz_scipy",
     "prev:definir_valores_scipy"
    ]
   },
   "outputs": [],
   "source": [
    "A_scipy = A2.toarray()"
   ]
  },
  {
   "cell_type": "code",
   "execution_count": 13,
   "metadata": {
    "tags": [
     "block:llamar_clase_scipy",
     "prev:genera_matriz_scipy"
    ]
   },
   "outputs": [],
   "source": [
    "minim_scipy = Minimizer(A_scipy, b_scipy, c_scipy)"
   ]
  },
  {
   "cell_type": "code",
   "execution_count": 14,
   "metadata": {
    "tags": [
     "block:agregar_restricciones_scipy",
     "prev:llamar_clase_scipy"
    ]
   },
   "outputs": [],
   "source": [
    "minim_scipy.add_constraints(lbounds_scipy,ubounds_scipy)\n",
    "#minim_scipy.matrix.shape"
   ]
  },
  {
   "cell_type": "code",
   "execution_count": 15,
   "metadata": {
    "tags": [
     "block:tableau_scipy",
     "prev:agregar_restricciones_scipy"
    ]
   },
   "outputs": [],
   "source": [
    "tableau_obj = minim_scipy.matrix"
   ]
  },
  {
   "cell_type": "code",
   "execution_count": 16,
   "metadata": {
    "tags": [
     "block:restricciones_scipy",
     "prev:tableau_scipy"
    ]
   },
   "outputs": [],
   "source": [
    "n_restr = tableau_obj.shape[0]-1\n",
    "n_vars = A_scipy.shape[1]"
   ]
  },
  {
   "cell_type": "code",
   "execution_count": 17,
   "metadata": {
    "tags": [
     "block:matriz_scipy",
     "prev:restricciones_scipy"
    ]
   },
   "outputs": [],
   "source": [
    "c_min_obj = tableau_obj[-1,0:n_vars]\n",
    "A_min_obj = tableau_obj[0:n_restr, 0:n_vars]\n",
    "b_min_obj = tableau_obj[0:n_restr, -1]"
   ]
  },
  {
   "cell_type": "code",
   "execution_count": 18,
   "metadata": {
    "tags": [
     "block:perfilar_scipy",
     "prev:matriz_scipy"
    ]
   },
   "outputs": [
    {
     "name": "stdout",
     "output_type": "stream",
     "text": [
      "Todo el proceso tomó 302.67399678400034 segundos\n"
     ]
    }
   ],
   "source": [
    "start_time_scipy = timeit.default_timer()\n",
    "linprog(c_min_obj, A_ub=A_min_obj, b_ub=b_min_obj).fun\n",
    "secs_scipy = timeit.default_timer() - start_time_scipy\n",
    "print(\"Todo el proceso tomó\",secs_scipy,\"segundos\" )"
   ]
  },
  {
   "cell_type": "markdown",
   "metadata": {
    "tags": []
   },
   "source": [
    "## Diferencia de tiempos entre `mex` y `scipy`:"
   ]
  },
  {
   "cell_type": "code",
   "execution_count": 44,
   "metadata": {
    "tags": [
     "block:diff_tiempos",
     "prev:perfilar_codigo_mex",
     "prev:perfilar_scipy"
    ]
   },
   "outputs": [
    {
     "name": "stdout",
     "output_type": "stream",
     "text": [
      "El paquete mex necesito -225.42 segundos menos que el paquete scipy para la ejecución!\n"
     ]
    }
   ],
   "source": [
    "secs_diff = secs_mex - secs_scipy\n",
    "print(\"El paquete mex necesito {:.2f}\".format(secs_diff),\"segundos menos que el paquete scipy para la ejecución!\")"
   ]
  }
 ],
 "metadata": {
  "kernelspec": {
   "display_name": "Python 3",
   "language": "python",
   "name": "python3"
  },
  "kubeflow_notebook": {
   "autosnapshot": false,
   "docker_image": "caroacostatovany/optimizacion-practica-final:0.1",
   "experiment": {
    "id": "",
    "name": ""
   },
   "experiment_name": "",
   "katib_metadata": {
    "algorithm": {
     "algorithmName": "grid"
    },
    "maxFailedTrialCount": 3,
    "maxTrialCount": 12,
    "objective": {
     "objectiveMetricName": "",
     "type": "minimize"
    },
    "parallelTrialCount": 3,
    "parameters": []
   },
   "katib_run": false,
   "pipeline_description": "perfilamiento-mex",
   "pipeline_name": "perfilamiento-mex",
   "snapshot_volumes": false,
   "steps_defaults": [],
   "volume_access_mode": "rwm",
   "volumes": [
    {
     "annotations": [],
     "mount_point": "/shared_volume/",
     "name": "hostpath-pvc",
     "size": 1,
     "size_type": "Gi",
     "snapshot": false,
     "snapshot_name": "",
     "type": "pvc"
    }
   ]
  },
  "language_info": {
   "codemirror_mode": {
    "name": "ipython",
    "version": 3
   },
   "file_extension": ".py",
   "mimetype": "text/x-python",
   "name": "python",
   "nbconvert_exporter": "python",
   "pygments_lexer": "ipython3",
   "version": "3.6.9"
  }
 },
 "nbformat": 4,
 "nbformat_minor": 4
}
