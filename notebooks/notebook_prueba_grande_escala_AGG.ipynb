{
 "cells": [
  {
   "cell_type": "code",
   "execution_count": 1,
   "metadata": {},
   "outputs": [
    {
     "name": "stdout",
     "output_type": "stream",
     "text": [
      "Found existing installation: mex 0.3\n",
      "Uninstalling mex-0.3:\n",
      "  Successfully uninstalled mex-0.3\n"
     ]
    }
   ],
   "source": [
    "!pip uninstall mex -y"
   ]
  },
  {
   "cell_type": "code",
   "execution_count": 2,
   "metadata": {},
   "outputs": [
    {
     "name": "stdout",
     "output_type": "stream",
     "text": [
      "\u001b[33mWARNING: You are using pip version 20.2.1; however, version 21.1.1 is available.\n",
      "You should consider upgrading via the '/usr/bin/python3 -m pip install --upgrade pip' command.\u001b[0m\n"
     ]
    }
   ],
   "source": [
    "!pip install --quiet \"git+https://github.com/optimizacion-2-2021-1-gh-classroom/practica-2-segunda-parte-caroacostatovany.git#egg=mex&subdirectory=src\""
   ]
  },
  {
   "cell_type": "code",
   "execution_count": 3,
   "metadata": {},
   "outputs": [],
   "source": [
    "#np.set_printoptions(threshold=sys.maxsize)\n",
    "import os\n",
    "import sys\n",
    "import pytz\n",
    "import timeit\n",
    "import datetime\n",
    "import numpy as np\n",
    "import scipy.io as sio\n",
    "\n",
    "#scipy\n",
    "from scipy.optimize import linprog\n",
    "from pytest import approx\n",
    "\n",
    "#mex\n",
    "from mex.simplex import simplex_networks as mex_sn\n",
    "from mex.simplex import problem_definition as mex_pd\n",
    "from mex.utils import general as mex_g\n",
    "from mex.simplex.minimizer_class import Minimizer\n",
    "from mex.simplex.maximizer_class import Maximizer"
   ]
  },
  {
   "cell_type": "markdown",
   "metadata": {},
   "source": [
    "## Características de la instancia"
   ]
  },
  {
   "cell_type": "markdown",
   "metadata": {},
   "source": [
    "Utilizamos una instancia m5.2xlarge que entra en el programa de AWS Educate y que hemos ocupado en prácticas anteriores. Esta instancia tiene las siguientes características:"
   ]
  },
  {
   "cell_type": "code",
   "execution_count": 4,
   "metadata": {},
   "outputs": [
    {
     "name": "stdout",
     "output_type": "stream",
     "text": [
      "Architecture:                    x86_64\n",
      "CPU op-mode(s):                  32-bit, 64-bit\n",
      "Byte Order:                      Little Endian\n",
      "Address sizes:                   46 bits physical, 48 bits virtual\n",
      "CPU(s):                          8\n",
      "On-line CPU(s) list:             0-7\n",
      "Thread(s) per core:              2\n",
      "Core(s) per socket:              4\n",
      "Socket(s):                       1\n",
      "NUMA node(s):                    1\n",
      "Vendor ID:                       GenuineIntel\n",
      "CPU family:                      6\n",
      "Model:                           85\n",
      "Model name:                      Intel(R) Xeon(R) Platinum 8175M CPU @ 2.50GHz\n",
      "Stepping:                        4\n",
      "CPU MHz:                         3117.771\n",
      "BogoMIPS:                        5000.00\n",
      "Hypervisor vendor:               KVM\n",
      "Virtualization type:             full\n",
      "L1d cache:                       128 KiB\n",
      "L1i cache:                       128 KiB\n",
      "L2 cache:                        4 MiB\n",
      "L3 cache:                        33 MiB\n",
      "NUMA node0 CPU(s):               0-7\n",
      "Vulnerability Itlb multihit:     KVM: Vulnerable\n",
      "Vulnerability L1tf:              Mitigation; PTE Inversion\n",
      "Vulnerability Mds:               Vulnerable: Clear CPU buffers attempted, no microcode; SMT Host state unknown\n",
      "Vulnerability Meltdown:          Mitigation; PTI\n",
      "Vulnerability Spec store bypass: Vulnerable\n",
      "Vulnerability Spectre v1:        Mitigation; usercopy/swapgs barriers and __user pointer sanitization\n",
      "Vulnerability Spectre v2:        Mitigation; Full generic retpoline, STIBP disabled, RSB filling\n",
      "Vulnerability Srbds:             Not affected\n",
      "Vulnerability Tsx async abort:   Vulnerable: Clear CPU buffers attempted, no microcode; SMT Host state unknown\n",
      "Flags:                           fpu vme de pse tsc msr pae mce cx8 apic sep mtrr pge mca cmov pat pse36 clflush mmx fxsr sse sse2 ss ht syscall nx pdpe1gb rdtscp lm constant_tsc rep_good nopl xtopology nonstop_tsc cpuid aperfmperf tsc_known_freq pni pclmulqdq ssse3 fma cx16 pcid sse4_1 sse4_2 x2apic movbe popcnt tsc_deadline_timer aes xsave avx f16c rdrand hypervisor lahf_lm abm 3dnowprefetch invpcid_single pti fsgsbase tsc_adjust bmi1 hle avx2 smep bmi2 erms invpcid rtm mpx avx512f avx512dq rdseed adx smap clflushopt clwb avx512cd avx512bw avx512vl xsaveopt xsavec xgetbv1 xsaves ida arat pku ospke\n"
     ]
    }
   ],
   "source": [
    "%%bash\n",
    "lscpu"
   ]
  },
  {
   "cell_type": "code",
   "execution_count": 4,
   "metadata": {},
   "outputs": [],
   "source": [
    "mat = sio.loadmat('../data/AGG.mat')      #Start time:  09:52:51 PM  End time:  09:52:54 PM\n",
    "#mat = sio.loadmat('../data/DEGEN3.mat')   #Start time:  10:27:30 PM  End time:  10:30:58 PM\n",
    "#mat = sio.loadmat('../data/SHIP04L.mat')  #Start time:  09:21:59 PM  End time:  09:21:59 PM\n",
    "#mat = sio.loadmat('../data/AGG2.mat')     #Start time:  09:53:47 PM  End time:  09:53:53 PM\n",
    "#mat = sio.loadmat('../data/QAP8.mat')     #Start time:  10:11:35 PM  End time:  10:11:36 PM\n",
    "#mat = sio.loadmat('../data/QAP15.mat')    #Start time:  10:15:30 PM  End time:  10:15:50 PM\n",
    "#mat = sio.loadmat('../data/TRUSS.mat')    #Start time:  10:24:53 PM  End time:  10:24:54 PM"
   ]
  },
  {
   "cell_type": "code",
   "execution_count": 5,
   "metadata": {},
   "outputs": [
    {
     "data": {
      "text/plain": [
       "(488, 615)"
      ]
     },
     "execution_count": 5,
     "metadata": {},
     "output_type": "execute_result"
    }
   ],
   "source": [
    "A = mat['A']\n",
    "b = mat['b']\n",
    "c = mat['c']\n",
    "lbounds = mat['lbounds']\n",
    "ubounds = mat['ubounds']\n",
    "A.shape"
   ]
  },
  {
   "cell_type": "markdown",
   "metadata": {},
   "source": [
    "# Prueba de paquetería `mex`"
   ]
  },
  {
   "cell_type": "code",
   "execution_count": 6,
   "metadata": {},
   "outputs": [],
   "source": [
    "A = A.toarray()\n",
    "#b = np.array(b.T.tolist()[0])\n",
    "#c = np.array(c.T.tolist()[0])"
   ]
  },
  {
   "cell_type": "code",
   "execution_count": 7,
   "metadata": {},
   "outputs": [],
   "source": [
    "minim = Minimizer(A, b, c)"
   ]
  },
  {
   "cell_type": "code",
   "execution_count": 8,
   "metadata": {},
   "outputs": [],
   "source": [
    "minim.add_constraints(lbounds,ubounds)"
   ]
  },
  {
   "cell_type": "code",
   "execution_count": 10,
   "metadata": {},
   "outputs": [
    {
     "data": {
      "text/plain": [
       "(1719, 2335)"
      ]
     },
     "execution_count": 10,
     "metadata": {},
     "output_type": "execute_result"
    }
   ],
   "source": [
    "minim.matrix.shape"
   ]
  },
  {
   "cell_type": "code",
   "execution_count": 11,
   "metadata": {},
   "outputs": [
    {
     "name": "stdout",
     "output_type": "stream",
     "text": [
      "Start time:  09:44:59 PM\n",
      "End time:  09:47:49 PM\n"
     ]
    }
   ],
   "source": [
    "print(\"Start time: \", datetime.datetime.now(pytz.timezone('US/Central')).strftime('%I:%M:%S %p'))\n",
    "minim.solve()\n",
    "print(\"End time: \", datetime.datetime.now(pytz.timezone('US/Central')).strftime('%I:%M:%S %p'))"
   ]
  },
  {
   "cell_type": "markdown",
   "metadata": {},
   "source": [
    "**Valores aproximados**"
   ]
  },
  {
   "cell_type": "code",
   "execution_count": 35,
   "metadata": {},
   "outputs": [],
   "source": [
    "min_approx = minim.get_min()"
   ]
  },
  {
   "cell_type": "code",
   "execution_count": 36,
   "metadata": {},
   "outputs": [],
   "source": [
    "coeff_approx = minim.get_coeff()"
   ]
  },
  {
   "cell_type": "code",
   "execution_count": 12,
   "metadata": {},
   "outputs": [],
   "source": [
    "#coeff_approx"
   ]
  },
  {
   "cell_type": "markdown",
   "metadata": {},
   "source": [
    "**Valores objetivo**"
   ]
  },
  {
   "cell_type": "code",
   "execution_count": 15,
   "metadata": {},
   "outputs": [],
   "source": [
    "tableau_obj = minim.matrix"
   ]
  },
  {
   "cell_type": "code",
   "execution_count": 16,
   "metadata": {},
   "outputs": [],
   "source": [
    "n_restr = tableau_obj.shape[0]-1\n",
    "n_vars = A.shape[1]"
   ]
  },
  {
   "cell_type": "code",
   "execution_count": 17,
   "metadata": {},
   "outputs": [],
   "source": [
    "c_min_obj = tableau_obj[-1,0:n_vars]"
   ]
  },
  {
   "cell_type": "code",
   "execution_count": 18,
   "metadata": {},
   "outputs": [],
   "source": [
    "A_min_obj = tableau_obj[0:n_restr, 0:n_vars]"
   ]
  },
  {
   "cell_type": "code",
   "execution_count": 19,
   "metadata": {},
   "outputs": [],
   "source": [
    "b_min_obj = tableau_obj[0:n_restr, -1]"
   ]
  },
  {
   "cell_type": "code",
   "execution_count": 23,
   "metadata": {},
   "outputs": [
    {
     "name": "stdout",
     "output_type": "stream",
     "text": [
      "Start time:  09:51:40 PM\n",
      "End time:  09:54:44 PM\n"
     ]
    }
   ],
   "source": [
    "print(\"Start time: \", datetime.datetime.now(pytz.timezone('US/Central')).strftime('%I:%M:%S %p'))\n",
    "min_obj = linprog(c_min_obj, A_ub=A_min_obj, b_ub=b_min_obj).fun\n",
    "print(\"End time: \", datetime.datetime.now(pytz.timezone('US/Central')).strftime('%I:%M:%S %p'))"
   ]
  },
  {
   "cell_type": "code",
   "execution_count": 26,
   "metadata": {},
   "outputs": [],
   "source": [
    "coeff_obj = linprog(c, A_ub=A, b_ub=b).x"
   ]
  },
  {
   "cell_type": "markdown",
   "metadata": {},
   "source": [
    "**Comprobación**"
   ]
  },
  {
   "cell_type": "code",
   "execution_count": 45,
   "metadata": {},
   "outputs": [
    {
     "name": "stdout",
     "output_type": "stream",
     "text": [
      "El valor objetivo obtenido con scipy es:  -3.553890952290583e+35\n",
      "El valor aproximado obtenido con mex es:  -3.602879999999999e+35\n"
     ]
    }
   ],
   "source": [
    "assert min_obj == approx(min_approx, rel=1e-1), \"El valor aproximado es incorrecto\"\n",
    "#assert np.round(coeff_obj,3) == approx(coeff_approx, abs=1e+40), \"El valor de los coeficientes aproximados es incorrecto\"\n",
    "\n",
    "print(\"El valor objetivo obtenido con scipy es: \", min_obj)\n",
    "print(\"El valor aproximado obtenido con mex es: \", min_approx)\n",
    "#print(\"Los coeficientes objetivos obtenidos con scipy son: \", coeff_obj)\n",
    "#print(\"Los coeficientes aproximados obtenidos con mex son: \", coeff_approx)"
   ]
  },
  {
   "cell_type": "markdown",
   "metadata": {},
   "source": [
    "## Prueba compilación a C"
   ]
  },
  {
   "cell_type": "code",
   "execution_count": 5,
   "metadata": {},
   "outputs": [],
   "source": [
    "#mex_c\n",
    "os.chdir(\"..\")\n",
    "from src.mex_c import general_c as mex_c_g\n",
    "from src.mex_c import simplex_networks_c as mex_c_sn\n",
    "from src.mex_c import problem_definition_c as mex_c_pd\n",
    "from src.mex_c.minimizer_class_c import Minimizer_c\n",
    "from src.mex_c.maximizer_class_c import Maximizer_c\n",
    "os.chdir(\"notebooks\")"
   ]
  },
  {
   "cell_type": "code",
   "execution_count": 6,
   "metadata": {},
   "outputs": [],
   "source": [
    "minim_c = Minimizer_c(A,b,c)"
   ]
  },
  {
   "cell_type": "code",
   "execution_count": 7,
   "metadata": {},
   "outputs": [
    {
     "data": {
      "text/plain": [
       "(489, 1105)"
      ]
     },
     "execution_count": 7,
     "metadata": {},
     "output_type": "execute_result"
    }
   ],
   "source": [
    "minim_c.matrix.shape"
   ]
  },
  {
   "cell_type": "code",
   "execution_count": 8,
   "metadata": {},
   "outputs": [
    {
     "name": "stdout",
     "output_type": "stream",
     "text": [
      "Start time:  11:07:29 PM\n",
      "End time:  11:07:32 PM\n"
     ]
    }
   ],
   "source": [
    "print(\"Start time: \", datetime.datetime.now(pytz.timezone('US/Central')).strftime('%I:%M:%S %p'))\n",
    "minim_c.solve()\n",
    "print(\"End time: \", datetime.datetime.now(pytz.timezone('US/Central')).strftime('%I:%M:%S %p'))"
   ]
  },
  {
   "cell_type": "markdown",
   "metadata": {},
   "source": [
    "**Valores aproximados**"
   ]
  },
  {
   "cell_type": "code",
   "execution_count": 9,
   "metadata": {},
   "outputs": [],
   "source": [
    "min_approx_c = minim_c.get_min()\n",
    "coeff_approx_c = minim_c.get_coeff()"
   ]
  },
  {
   "cell_type": "code",
   "execution_count": 21,
   "metadata": {},
   "outputs": [],
   "source": [
    "#coeff_approx_c"
   ]
  },
  {
   "cell_type": "markdown",
   "metadata": {},
   "source": [
    "**Comprobación**"
   ]
  },
  {
   "cell_type": "code",
   "execution_count": 13,
   "metadata": {},
   "outputs": [
    {
     "name": "stdout",
     "output_type": "stream",
     "text": [
      "El valor objetivo obtenido con scipy es:  -81917191.67681439\n",
      "El valor aproximado obtenido con mex es:  -81917193.41974491\n"
     ]
    }
   ],
   "source": [
    "assert min_obj == approx(min_approx_c, abs=1e+5), \"El valor aproximado es incorrecto\"\n",
    "#assert np.round(coeff_obj,5) == approx(coeff_approx_c, abs=1e+8), \"El valor de los coeficientes aproximados es incorrecto\"\n",
    "\n",
    "print(\"El valor objetivo obtenido con scipy es: \", min_obj)\n",
    "print(\"El valor aproximado obtenido con mex es: \", min_approx_c)\n",
    "#print(\"Los coeficientes objetivos obtenidos con scipy son: \", coeff_obj)\n",
    "#print(\"Los coeficientes aproximados obtenidos con mex son: \", coeff_approx)"
   ]
  },
  {
   "cell_type": "code",
   "execution_count": 14,
   "metadata": {},
   "outputs": [],
   "source": []
  }
 ],
 "metadata": {
  "kernelspec": {
   "display_name": "Python 3",
   "language": "python",
   "name": "python3"
  },
  "language_info": {
   "codemirror_mode": {
    "name": "ipython",
    "version": 3
   },
   "file_extension": ".py",
   "mimetype": "text/x-python",
   "name": "python",
   "nbconvert_exporter": "python",
   "pygments_lexer": "ipython3",
   "version": "3.7.3"
  }
 },
 "nbformat": 4,
 "nbformat_minor": 5
}
