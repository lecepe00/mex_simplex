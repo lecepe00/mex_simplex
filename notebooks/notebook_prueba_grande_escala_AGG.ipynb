{
 "cells": [
  {
   "cell_type": "code",
   "execution_count": 1,
   "id": "refined-passion",
   "metadata": {},
   "outputs": [
    {
     "name": "stdout",
     "output_type": "stream",
     "text": [
      "Found existing installation: mex 0.3\n",
      "Uninstalling mex-0.3:\n",
      "  Successfully uninstalled mex-0.3\n"
     ]
    }
   ],
   "source": [
    "!pip uninstall mex -y"
   ]
  },
  {
   "cell_type": "code",
   "execution_count": 2,
   "id": "stupid-cambodia",
   "metadata": {},
   "outputs": [],
   "source": [
    "!pip install --quiet \"git+https://github.com/optimizacion-2-2021-1-gh-classroom/practica-2-segunda-parte-caroacostatovany.git#egg=mex&subdirectory=src\""
   ]
  },
  {
   "cell_type": "code",
   "execution_count": 3,
   "id": "specialized-calvin",
   "metadata": {},
   "outputs": [],
   "source": [
    "#np.set_printoptions(threshold=sys.maxsize)\n",
    "import os\n",
    "import sys\n",
    "import pytz\n",
    "import timeit\n",
    "import datetime\n",
    "import numpy as np\n",
    "import scipy.io as sio\n",
    "\n",
    "#scipy\n",
    "from scipy.optimize import linprog\n",
    "from pytest import approx\n",
    "\n",
    "#mex\n",
    "from mex.simplex import simplex_networks as mex_sn\n",
    "from mex.simplex import problem_definition as mex_pd\n",
    "from mex.utils import general as mex_g\n",
    "from mex.simplex.minimizer_class import Minimizer\n",
    "from mex.simplex.maximizer_class import Maximizer"
   ]
  },
  {
   "cell_type": "markdown",
   "id": "internal-decline",
   "metadata": {},
   "source": [
    "## Características de la instancia"
   ]
  },
  {
   "cell_type": "code",
   "execution_count": 16,
   "id": "changing-recovery",
   "metadata": {},
   "outputs": [
    {
     "name": "stdout",
     "output_type": "stream",
     "text": [
      "Architecture:                    x86_64\n",
      "CPU op-mode(s):                  32-bit, 64-bit\n",
      "Byte Order:                      Little Endian\n",
      "Address sizes:                   46 bits physical, 48 bits virtual\n",
      "CPU(s):                          8\n",
      "On-line CPU(s) list:             0-7\n",
      "Thread(s) per core:              2\n",
      "Core(s) per socket:              4\n",
      "Socket(s):                       1\n",
      "NUMA node(s):                    1\n",
      "Vendor ID:                       GenuineIntel\n",
      "CPU family:                      6\n",
      "Model:                           85\n",
      "Model name:                      Intel(R) Xeon(R) Platinum 8259CL CPU @ 2.50GHz\n",
      "Stepping:                        7\n",
      "CPU MHz:                         3104.861\n",
      "BogoMIPS:                        4999.98\n",
      "Hypervisor vendor:               KVM\n",
      "Virtualization type:             full\n",
      "L1d cache:                       128 KiB\n",
      "L1i cache:                       128 KiB\n",
      "L2 cache:                        4 MiB\n",
      "L3 cache:                        35.8 MiB\n",
      "NUMA node0 CPU(s):               0-7\n",
      "Vulnerability Itlb multihit:     KVM: Vulnerable\n",
      "Vulnerability L1tf:              Mitigation; PTE Inversion\n",
      "Vulnerability Mds:               Vulnerable: Clear CPU buffers attempted, no microcode; SMT Host state unknown\n",
      "Vulnerability Meltdown:          Mitigation; PTI\n",
      "Vulnerability Spec store bypass: Vulnerable\n",
      "Vulnerability Spectre v1:        Mitigation; usercopy/swapgs barriers and __user pointer sanitization\n",
      "Vulnerability Spectre v2:        Mitigation; Full generic retpoline, STIBP disabled, RSB filling\n",
      "Vulnerability Srbds:             Not affected\n",
      "Vulnerability Tsx async abort:   Not affected\n",
      "Flags:                           fpu vme de pse tsc msr pae mce cx8 apic sep mtrr pge mca cmov pat pse36 clflush mmx fxsr sse sse2 ss ht syscall nx pdpe1gb rdtscp lm constant_tsc rep_good nopl xtopology nonstop_tsc cpuid aperfmperf tsc_known_freq pni pclmulqdq ssse3 fma cx16 pcid sse4_1 sse4_2 x2apic movbe popcnt tsc_deadline_timer aes xsave avx f16c rdrand hypervisor lahf_lm abm 3dnowprefetch invpcid_single pti fsgsbase tsc_adjust bmi1 avx2 smep bmi2 erms invpcid mpx avx512f avx512dq rdseed adx smap clflushopt clwb avx512cd avx512bw avx512vl xsaveopt xsavec xgetbv1 xsaves ida arat pku ospke\n"
     ]
    }
   ],
   "source": [
    "%%bash\n",
    "lscpu"
   ]
  },
  {
   "cell_type": "code",
   "execution_count": 164,
   "id": "hungarian-consciousness",
   "metadata": {},
   "outputs": [],
   "source": [
    "mat = sio.loadmat('../data/DEGEN3.mat')   #Start time:  10:27:30 PM  End time:  10:30:58 PM\n",
    "#mat = sio.loadmat('../data/SHIP04L.mat')  #Start time:  09:21:59 PM  End time:  09:21:59 PM\n",
    "#mat = sio.loadmat('../data/AGG.mat')      #Start time:  09:52:51 PM  End time:  09:52:54 PM\n",
    "#mat = sio.loadmat('../data/AGG2.mat')     #Start time:  09:53:47 PM  End time:  09:53:53 PM\n",
    "#mat = sio.loadmat('../data/QAP8.mat')     #Start time:  10:11:35 PM  End time:  10:11:36 PM\n",
    "#mat = sio.loadmat('../data/QAP15.mat')    #Start time:  10:15:30 PM  End time:  10:15:50 PM\n",
    "#mat = sio.loadmat('../data/TRUSS.mat')    #Start time:  10:24:53 PM  End time:  10:24:54 PM"
   ]
  },
  {
   "cell_type": "code",
   "execution_count": 165,
   "id": "fourth-charlotte",
   "metadata": {},
   "outputs": [
    {
     "data": {
      "text/plain": [
       "(1503, 2604)"
      ]
     },
     "execution_count": 165,
     "metadata": {},
     "output_type": "execute_result"
    }
   ],
   "source": [
    "A = mat['A']\n",
    "b = mat['b']\n",
    "c = mat['c']\n",
    "lbounds = mat['lbounds']\n",
    "ubounds = mat['ubounds']\n",
    "A.shape"
   ]
  },
  {
   "cell_type": "markdown",
   "id": "subjective-breed",
   "metadata": {},
   "source": [
    "# Prueba de paquetería `mex`"
   ]
  },
  {
   "cell_type": "code",
   "execution_count": 166,
   "id": "informed-ferry",
   "metadata": {},
   "outputs": [],
   "source": [
    "A = A.toarray()\n",
    "b = np.array(b.T.tolist()[0])\n",
    "c = np.array(c.T.tolist()[0])\n",
    "\n",
    "minim = Minimizer(A,b,c)"
   ]
  },
  {
   "cell_type": "code",
   "execution_count": 167,
   "id": "sufficient-internet",
   "metadata": {},
   "outputs": [
    {
     "data": {
      "text/plain": [
       "(1504, 4109)"
      ]
     },
     "execution_count": 167,
     "metadata": {},
     "output_type": "execute_result"
    }
   ],
   "source": [
    "minim.matrix.shape"
   ]
  },
  {
   "cell_type": "code",
   "execution_count": 168,
   "id": "impressive-timeline",
   "metadata": {},
   "outputs": [
    {
     "name": "stdout",
     "output_type": "stream",
     "text": [
      "Start time:  10:27:30 PM\n",
      "End time:  10:30:58 PM\n"
     ]
    }
   ],
   "source": [
    "print(\"Start time: \", datetime.datetime.now(pytz.timezone('US/Central')).strftime('%I:%M:%S %p'))\n",
    "minim.solve()\n",
    "print(\"End time: \", datetime.datetime.now(pytz.timezone('US/Central')).strftime('%I:%M:%S %p'))"
   ]
  },
  {
   "cell_type": "markdown",
   "id": "coated-binding",
   "metadata": {},
   "source": [
    "**Valores aproximados**"
   ]
  },
  {
   "cell_type": "code",
   "execution_count": 169,
   "id": "pursuant-theorem",
   "metadata": {},
   "outputs": [],
   "source": [
    "min_approx = minim.get_min()"
   ]
  },
  {
   "cell_type": "code",
   "execution_count": 170,
   "id": "returning-feature",
   "metadata": {},
   "outputs": [],
   "source": [
    "coeff_approx = minim.get_coeff()"
   ]
  },
  {
   "cell_type": "code",
   "execution_count": 171,
   "id": "dedicated-crisis",
   "metadata": {},
   "outputs": [
    {
     "data": {
      "text/plain": [
       "array([   0. ,    0. , 1409.1, ...,    0. ,    0. ,    0. ])"
      ]
     },
     "execution_count": 171,
     "metadata": {},
     "output_type": "execute_result"
    }
   ],
   "source": [
    "coeff_approx"
   ]
  },
  {
   "cell_type": "markdown",
   "id": "familiar-straight",
   "metadata": {},
   "source": [
    "**Valores objetivo**"
   ]
  },
  {
   "cell_type": "code",
   "execution_count": 172,
   "id": "oriented-accessory",
   "metadata": {},
   "outputs": [],
   "source": [
    "min_obj = linprog(c, A_ub=A, b_ub=b).fun"
   ]
  },
  {
   "cell_type": "code",
   "execution_count": 173,
   "id": "optional-percentage",
   "metadata": {},
   "outputs": [],
   "source": [
    "coeff_obj = linprog(c, A_ub=A, b_ub=b).x"
   ]
  },
  {
   "cell_type": "code",
   "execution_count": 174,
   "id": "available-official",
   "metadata": {},
   "outputs": [
    {
     "data": {
      "text/plain": [
       "array([8.42195637e-02, 2.53827824e-09, 2.80069124e-09, ...,\n",
       "       1.03070294e-09, 6.17118328e-02, 9.04065930e-10])"
      ]
     },
     "execution_count": 174,
     "metadata": {},
     "output_type": "execute_result"
    }
   ],
   "source": [
    "coeff_obj"
   ]
  },
  {
   "cell_type": "markdown",
   "id": "presidential-instrument",
   "metadata": {},
   "source": [
    "**Comprobación**"
   ]
  },
  {
   "cell_type": "code",
   "execution_count": 181,
   "id": "supposed-beaver",
   "metadata": {},
   "outputs": [
    {
     "name": "stdout",
     "output_type": "stream",
     "text": [
      "El valor objetivo obtenido con scipy es:  -1100.610006327479\n",
      "El valor aproximado obtenido con mex es:  -1409.1000000000006\n"
     ]
    }
   ],
   "source": [
    "assert min_obj == approx(min_approx, abs=1e+5), \"El valor aproximado es incorrecto\"\n",
    "#assert np.round(coeff_obj,3) == approx(coeff_approx, abs=1e+5), \"El valor de los coeficientes aproximados es incorrecto\"\n",
    "\n",
    "print(\"El valor objetivo obtenido con scipy es: \", min_obj)\n",
    "print(\"El valor aproximado obtenido con mex es: \", min_approx)\n",
    "#print(\"Los coeficientes objetivos obtenidos con scipy son: \", coeff_obj)\n",
    "#print(\"Los coeficientes aproximados obtenidos con mex son: \", coeff_approx)"
   ]
  },
  {
   "cell_type": "code",
   "execution_count": null,
   "id": "rocky-garage",
   "metadata": {},
   "outputs": [],
   "source": []
  }
 ],
 "metadata": {
  "kernelspec": {
   "display_name": "Python 3",
   "language": "python",
   "name": "python3"
  },
  "language_info": {
   "codemirror_mode": {
    "name": "ipython",
    "version": 3
   },
   "file_extension": ".py",
   "mimetype": "text/x-python",
   "name": "python",
   "nbconvert_exporter": "python",
   "pygments_lexer": "ipython3",
   "version": "3.8.5"
  }
 },
 "nbformat": 4,
 "nbformat_minor": 5
}
