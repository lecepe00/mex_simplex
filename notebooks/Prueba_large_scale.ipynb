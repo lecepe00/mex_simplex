{
 "cells": [
  {
   "cell_type": "code",
   "execution_count": 40,
   "id": "listed-witness",
   "metadata": {},
   "outputs": [],
   "source": [
    "#pip install \"git+https://github.com/optimizacion-2-2021-1-gh-classroom/practica-2-segunda-parte-caroacostatovany.git#egg=mex&subdirectory=src\""
   ]
  },
  {
   "cell_type": "code",
   "execution_count": 38,
   "id": "subtle-jewelry",
   "metadata": {},
   "outputs": [],
   "source": [
    "#pip uninstall mex -y"
   ]
  },
  {
   "cell_type": "code",
   "execution_count": 2,
   "id": "greek-cutting",
   "metadata": {},
   "outputs": [],
   "source": [
    "import numpy as np\n",
    "import timeit"
   ]
  },
  {
   "cell_type": "code",
   "execution_count": 3,
   "id": "seasonal-visiting",
   "metadata": {},
   "outputs": [],
   "source": [
    "import scipy.io as sio"
   ]
  },
  {
   "cell_type": "code",
   "execution_count": 4,
   "id": "exempt-projector",
   "metadata": {},
   "outputs": [],
   "source": [
    "mat = sio.loadmat('../data/AFIRO.mat')\n",
    "#mat = sio.loadmat('../data/80BAU3B.mat')"
   ]
  },
  {
   "cell_type": "code",
   "execution_count": 5,
   "id": "assumed-reverse",
   "metadata": {},
   "outputs": [
    {
     "data": {
      "text/plain": [
       "(27, 51)"
      ]
     },
     "execution_count": 5,
     "metadata": {},
     "output_type": "execute_result"
    }
   ],
   "source": [
    "A=mat['A']\n",
    "A.shape"
   ]
  },
  {
   "cell_type": "code",
   "execution_count": 6,
   "id": "sophisticated-constant",
   "metadata": {},
   "outputs": [
    {
     "data": {
      "text/plain": [
       "27"
      ]
     },
     "execution_count": 6,
     "metadata": {},
     "output_type": "execute_result"
    }
   ],
   "source": [
    "b=mat['b']\n",
    "len(b)"
   ]
  },
  {
   "cell_type": "code",
   "execution_count": 7,
   "id": "seasonal-valve",
   "metadata": {},
   "outputs": [
    {
     "data": {
      "text/plain": [
       "51"
      ]
     },
     "execution_count": 7,
     "metadata": {},
     "output_type": "execute_result"
    }
   ],
   "source": [
    "c=mat['c']\n",
    "len(c)"
   ]
  },
  {
   "cell_type": "code",
   "execution_count": 8,
   "id": "applicable-mason",
   "metadata": {},
   "outputs": [
    {
     "name": "stdout",
     "output_type": "stream",
     "text": [
      "51\n",
      "51\n"
     ]
    }
   ],
   "source": [
    "lbounds=mat['lbounds']\n",
    "ubounds=mat['ubounds']\n",
    "print(len(lbounds))\n",
    "print(len(ubounds))"
   ]
  },
  {
   "cell_type": "code",
   "execution_count": 23,
   "id": "environmental-respondent",
   "metadata": {},
   "outputs": [],
   "source": [
    "def generates_matrix(A, b, blow, bupp, c, compr = True):\n",
    "    \"\"\"\n",
    "    Genera la matriz bajo el supuesto de que se tiene ya capturado los datos de entrada. Genera el problema del tipo:\n",
    "    `\n",
    "    Al tipo\n",
    "    Ax <= b\n",
    "    Concantenando renglones de A y juntando los limites de las restricciones (multiplicando por -1 donde sea necesario)\n",
    "    \"\"\"\n",
    "    \n",
    "    if compr:\n",
    "        A = A.todense()\n",
    "        A = np.array(A)\n",
    "    \n",
    "    n_restr, n_vars = A.shape\n",
    "\n",
    "    # Concatenar A con matrices identidades de variables sinteticas de forma rbind\n",
    "    identidad_vars_sint = np.eye(n_vars, n_vars)\n",
    "    c = c.T\n",
    "    A_new = np.concatenate((A, identidad_vars_sint, -identidad_vars_sint, c), axis=0)\n",
    "\n",
    "    # Concatenar variables coeficientes sinteticas\n",
    "    A_sint = np.eye(n_restr + 2*n_vars + 1, n_restr + 2*n_vars + 1)\n",
    "    A_sint[0:n_restr,:] = A_sint[0:n_restr,:]*0\n",
    "    \n",
    "    # Concatenar A_new con A_sint de formca rbind\n",
    "    A_new = np.c_[A_new, A_sint]\n",
    "    \n",
    "    # Juntar cotas de restricciones\n",
    "    b_new = np.concatenate((b, bupp, -blow, np.array([[0]])), axis=0)\n",
    "    \n",
    "    # Concatenar A_new, b_new de forma cbind\n",
    "    A_new = np.c_[A_new, b_new]\n",
    "    \n",
    "    return A_new"
   ]
  },
  {
   "cell_type": "markdown",
   "id": "statewide-queensland",
   "metadata": {},
   "source": [
    "# Prueba de paquetería `mex`"
   ]
  },
  {
   "cell_type": "code",
   "execution_count": 24,
   "id": "automatic-equity",
   "metadata": {},
   "outputs": [],
   "source": [
    "from mex.simplex.simplex_networks import create_matrix, pivots_col, pivots_row, \\\n",
    "find_negative_col, find_negative_row, find_pivot_col, find_pivot_row, pivot\n",
    "\n",
    "from mex.simplex.problem_definition import add_cons, \\\n",
    "constrain, add_obj, obj, maxz, minz"
   ]
  },
  {
   "cell_type": "code",
   "execution_count": 25,
   "id": "colonial-powder",
   "metadata": {},
   "outputs": [
    {
     "data": {
      "text/plain": [
       "array([[0., 0., 0., 0., 0., 0., 0., 0., 0., 0., 0.],\n",
       "       [0., 0., 0., 0., 0., 0., 0., 0., 0., 0., 0.],\n",
       "       [0., 0., 0., 0., 0., 0., 0., 0., 0., 0., 0.],\n",
       "       [0., 0., 0., 0., 0., 0., 0., 0., 0., 0., 0.],\n",
       "       [0., 0., 0., 0., 0., 0., 0., 0., 0., 0., 0.],\n",
       "       [0., 0., 0., 0., 0., 0., 0., 0., 0., 0., 0.],\n",
       "       [0., 0., 0., 0., 0., 0., 0., 0., 0., 0., 0.],\n",
       "       [0., 0., 0., 0., 0., 0., 0., 0., 0., 0., 0.]])"
      ]
     },
     "execution_count": 25,
     "metadata": {},
     "output_type": "execute_result"
    }
   ],
   "source": [
    "matrix_min_approx = create_matrix(2,7)\n",
    "matrix_min_approx"
   ]
  },
  {
   "cell_type": "code",
   "execution_count": 26,
   "id": "bridal-evaluation",
   "metadata": {},
   "outputs": [
    {
     "data": {
      "text/plain": [
       "array([[ 1.,  1.,  0.,  0.,  0.,  0.,  0.,  0.,  0.,  0.,  6.],\n",
       "       [-1.,  2.,  0.,  0.,  0.,  0.,  0.,  0.,  0.,  0.,  6.],\n",
       "       [ 4.,  3.,  0.,  0.,  0.,  0.,  0.,  0.,  0.,  0.,  6.],\n",
       "       [-1., -0.,  0.,  0.,  0.,  1.,  0.,  0.,  0.,  0., -0.],\n",
       "       [-0., -1.,  0.,  0.,  0.,  0.,  1.,  0.,  0.,  0., -0.],\n",
       "       [ 1.,  0.,  0.,  0.,  0.,  0.,  0.,  1.,  0.,  0., 18.],\n",
       "       [ 0.,  1.,  0.,  0.,  0.,  0.,  0.,  0.,  1.,  0., 18.],\n",
       "       [ 1.,  3.,  0.,  0.,  0.,  0.,  0.,  0.,  0.,  1.,  0.]])"
      ]
     },
     "execution_count": 26,
     "metadata": {},
     "output_type": "execute_result"
    }
   ],
   "source": [
    "constrain(matrix_min_approx,'1,1,E,6')\n",
    "constrain(matrix_min_approx,'-1,2,E,6')\n",
    "constrain(matrix_min_approx,'4,3,E,6')\n",
    "constrain(matrix_min_approx,'1,0,G,0')\n",
    "constrain(matrix_min_approx,'0,1,G,0')\n",
    "constrain(matrix_min_approx,'1,0,L,18')\n",
    "constrain(matrix_min_approx,'0,1,L,18')\n",
    "obj(matrix_min_approx,'-1,-3,0')\n",
    "matrix_min_approx"
   ]
  },
  {
   "cell_type": "code",
   "execution_count": 27,
   "id": "spatial-lighting",
   "metadata": {},
   "outputs": [],
   "source": [
    "A_prueba = np.array([[1,1], [-1,2], [4,3]])\n",
    "b_prueba = np.array([[6,6,6]]).T\n",
    "c_prueba = np.array([[1,3]]).T\n",
    "blow_prueba = np.array([[0,0]]).T\n",
    "bupp_prueba = np.array([[18,18]]).T"
   ]
  },
  {
   "cell_type": "code",
   "execution_count": 28,
   "id": "impossible-recipe",
   "metadata": {},
   "outputs": [
    {
     "data": {
      "text/plain": [
       "array([[ 1.,  1.,  0.,  0.,  0.,  0.,  0.,  0.,  0.,  0.,  6.],\n",
       "       [-1.,  2.,  0.,  0.,  0.,  0.,  0.,  0.,  0.,  0.,  6.],\n",
       "       [ 4.,  3.,  0.,  0.,  0.,  0.,  0.,  0.,  0.,  0.,  6.],\n",
       "       [ 1.,  0.,  0.,  0.,  0.,  1.,  0.,  0.,  0.,  0., 18.],\n",
       "       [ 0.,  1.,  0.,  0.,  0.,  0.,  1.,  0.,  0.,  0., 18.],\n",
       "       [-1., -0.,  0.,  0.,  0.,  0.,  0.,  1.,  0.,  0.,  0.],\n",
       "       [-0., -1.,  0.,  0.,  0.,  0.,  0.,  0.,  1.,  0.,  0.],\n",
       "       [ 1.,  3.,  0.,  0.,  0.,  0.,  0.,  0.,  0.,  1.,  0.]])"
      ]
     },
     "execution_count": 28,
     "metadata": {},
     "output_type": "execute_result"
    }
   ],
   "source": [
    "generates_matrix(A_prueba, b_prueba, blow_prueba, bupp_prueba, c_prueba, False)"
   ]
  },
  {
   "cell_type": "markdown",
   "id": "promising-celtic",
   "metadata": {},
   "source": [
    "### Prueba del paquete `mex`"
   ]
  },
  {
   "cell_type": "code",
   "execution_count": 29,
   "id": "patient-pipeline",
   "metadata": {},
   "outputs": [],
   "source": [
    "mat = sio.loadmat('../data/AFIRO.mat')\n",
    "#mat = sio.loadmat('../data/80BAU3B.mat')"
   ]
  },
  {
   "cell_type": "code",
   "execution_count": 30,
   "id": "familiar-listing",
   "metadata": {},
   "outputs": [],
   "source": [
    "A = mat['A']\n",
    "b = mat['b']\n",
    "lbounds = mat['lbounds']\n",
    "ubounds = mat['ubounds']\n",
    "c = mat['c']"
   ]
  },
  {
   "cell_type": "code",
   "execution_count": 31,
   "id": "phantom-contents",
   "metadata": {},
   "outputs": [
    {
     "name": "stdout",
     "output_type": "stream",
     "text": [
      "(27, 51)\n"
     ]
    }
   ],
   "source": [
    "print(A.shape)"
   ]
  },
  {
   "cell_type": "code",
   "execution_count": 32,
   "id": "spanish-needle",
   "metadata": {},
   "outputs": [],
   "source": [
    "tableau = generates_matrix(A, b, lbounds, ubounds, c)"
   ]
  },
  {
   "cell_type": "markdown",
   "id": "analyzed-swing",
   "metadata": {},
   "source": [
    "Comenzó a correr a las $3:48:00$"
   ]
  },
  {
   "cell_type": "code",
   "execution_count": 33,
   "id": "increasing-coffee",
   "metadata": {},
   "outputs": [
    {
     "ename": "TypeError",
     "evalue": "'NoneType' object is not subscriptable",
     "output_type": "error",
     "traceback": [
      "\u001b[0;31m---------------------------------------------------------------------------\u001b[0m",
      "\u001b[0;31mTypeError\u001b[0m                                 Traceback (most recent call last)",
      "\u001b[0;32m<ipython-input-33-3ed3ab54e25f>\u001b[0m in \u001b[0;36m<module>\u001b[0;34m\u001b[0m\n\u001b[1;32m      1\u001b[0m \u001b[0mstart\u001b[0m \u001b[0;34m=\u001b[0m \u001b[0mtimeit\u001b[0m\u001b[0;34m.\u001b[0m\u001b[0mtimeit\u001b[0m\u001b[0;34m(\u001b[0m\u001b[0;34m)\u001b[0m\u001b[0;34m\u001b[0m\u001b[0;34m\u001b[0m\u001b[0m\n\u001b[1;32m      2\u001b[0m \u001b[0;34m\u001b[0m\u001b[0m\n\u001b[0;32m----> 3\u001b[0;31m \u001b[0mproblem_approx\u001b[0m \u001b[0;34m=\u001b[0m \u001b[0mminz\u001b[0m\u001b[0;34m(\u001b[0m\u001b[0mtableau\u001b[0m\u001b[0;34m)\u001b[0m\u001b[0;34m\u001b[0m\u001b[0;34m\u001b[0m\u001b[0m\n\u001b[0m\u001b[1;32m      4\u001b[0m \u001b[0;34m\u001b[0m\u001b[0m\n\u001b[1;32m      5\u001b[0m \u001b[0mend\u001b[0m \u001b[0;34m=\u001b[0m \u001b[0mtimeit\u001b[0m\u001b[0;34m.\u001b[0m\u001b[0mtimeit\u001b[0m\u001b[0;34m(\u001b[0m\u001b[0;34m)\u001b[0m\u001b[0;34m\u001b[0m\u001b[0;34m\u001b[0m\u001b[0m\n",
      "\u001b[0;32m/Library/Frameworks/Python.framework/Versions/3.7/lib/python3.7/site-packages/mex/simplex/problem_definition.py\u001b[0m in \u001b[0;36mminz\u001b[0;34m(matrix)\u001b[0m\n\u001b[1;32m    257\u001b[0m     \u001b[0;32mwhile\u001b[0m \u001b[0mpivots_col\u001b[0m\u001b[0;34m(\u001b[0m\u001b[0mmatrix\u001b[0m\u001b[0;34m)\u001b[0m\u001b[0;34m:\u001b[0m\u001b[0;34m\u001b[0m\u001b[0;34m\u001b[0m\u001b[0m\n\u001b[1;32m    258\u001b[0m         \u001b[0mmatrix\u001b[0m \u001b[0;34m=\u001b[0m \u001b[0mpivot\u001b[0m\u001b[0;34m(\u001b[0m\u001b[0mfind_pivot_col\u001b[0m\u001b[0;34m(\u001b[0m\u001b[0mmatrix\u001b[0m\u001b[0;34m)\u001b[0m\u001b[0;34m[\u001b[0m\u001b[0;36m0\u001b[0m\u001b[0;34m]\u001b[0m\u001b[0;34m,\u001b[0m \u001b[0mfind_pivot_col\u001b[0m\u001b[0;34m(\u001b[0m\u001b[0mmatrix\u001b[0m\u001b[0;34m)\u001b[0m\u001b[0;34m[\u001b[0m\u001b[0;36m1\u001b[0m\u001b[0;34m]\u001b[0m\u001b[0;34m,\u001b[0m \u001b[0mmatrix\u001b[0m\u001b[0;34m)\u001b[0m\u001b[0;34m\u001b[0m\u001b[0;34m\u001b[0m\u001b[0m\n\u001b[0;32m--> 259\u001b[0;31m     \u001b[0;32mwhile\u001b[0m \u001b[0mpivots_row\u001b[0m\u001b[0;34m(\u001b[0m\u001b[0mmatrix\u001b[0m\u001b[0;34m)\u001b[0m\u001b[0;34m:\u001b[0m\u001b[0;34m\u001b[0m\u001b[0;34m\u001b[0m\u001b[0m\n\u001b[0m\u001b[1;32m    260\u001b[0m         \u001b[0mmatrix\u001b[0m \u001b[0;34m=\u001b[0m \u001b[0mpivot\u001b[0m\u001b[0;34m(\u001b[0m\u001b[0mfind_pivot_row\u001b[0m\u001b[0;34m(\u001b[0m\u001b[0mmatrix\u001b[0m\u001b[0;34m)\u001b[0m\u001b[0;34m[\u001b[0m\u001b[0;36m0\u001b[0m\u001b[0;34m]\u001b[0m\u001b[0;34m,\u001b[0m \u001b[0mfind_pivot_row\u001b[0m\u001b[0;34m(\u001b[0m\u001b[0mmatrix\u001b[0m\u001b[0;34m)\u001b[0m\u001b[0;34m[\u001b[0m\u001b[0;36m1\u001b[0m\u001b[0;34m]\u001b[0m\u001b[0;34m,\u001b[0m \u001b[0mmatrix\u001b[0m\u001b[0;34m)\u001b[0m\u001b[0;34m\u001b[0m\u001b[0;34m\u001b[0m\u001b[0m\n\u001b[1;32m    261\u001b[0m \u001b[0;34m\u001b[0m\u001b[0m\n",
      "\u001b[0;32m/Library/Frameworks/Python.framework/Versions/3.7/lib/python3.7/site-packages/mex/simplex/simplex_networks.py\u001b[0m in \u001b[0;36mpivots_row\u001b[0;34m(matrix)\u001b[0m\n\u001b[1;32m     59\u001b[0m     \"\"\"\n\u001b[1;32m     60\u001b[0m \u001b[0;34m\u001b[0m\u001b[0m\n\u001b[0;32m---> 61\u001b[0;31m     \u001b[0ml\u001b[0m \u001b[0;34m=\u001b[0m \u001b[0mlen\u001b[0m\u001b[0;34m(\u001b[0m\u001b[0mmatrix\u001b[0m\u001b[0;34m[\u001b[0m\u001b[0;34m:\u001b[0m\u001b[0;34m,\u001b[0m \u001b[0;36m0\u001b[0m\u001b[0;34m]\u001b[0m\u001b[0;34m)\u001b[0m\u001b[0;34m\u001b[0m\u001b[0;34m\u001b[0m\u001b[0m\n\u001b[0m\u001b[1;32m     62\u001b[0m     \u001b[0mm\u001b[0m \u001b[0;34m=\u001b[0m \u001b[0mmin\u001b[0m\u001b[0;34m(\u001b[0m\u001b[0mmatrix\u001b[0m\u001b[0;34m[\u001b[0m\u001b[0ml\u001b[0m\u001b[0;34m-\u001b[0m\u001b[0;36m1\u001b[0m\u001b[0;34m,\u001b[0m \u001b[0;34m:\u001b[0m\u001b[0;34m-\u001b[0m\u001b[0;36m1\u001b[0m\u001b[0;34m]\u001b[0m\u001b[0;34m)\u001b[0m\u001b[0;34m\u001b[0m\u001b[0;34m\u001b[0m\u001b[0m\n\u001b[1;32m     63\u001b[0m     \u001b[0;32mif\u001b[0m \u001b[0mm\u001b[0m \u001b[0;34m>=\u001b[0m \u001b[0;36m0\u001b[0m\u001b[0;34m:\u001b[0m\u001b[0;34m\u001b[0m\u001b[0;34m\u001b[0m\u001b[0m\n",
      "\u001b[0;31mTypeError\u001b[0m: 'NoneType' object is not subscriptable"
     ]
    }
   ],
   "source": [
    "start = timeit.timeit()\n",
    "\n",
    "problem_approx = minz(tableau)\n",
    "\n",
    "end = timeit.timeit()\n",
    "print(end - start)\n"
   ]
  },
  {
   "cell_type": "code",
   "execution_count": 34,
   "id": "rubber-native",
   "metadata": {},
   "outputs": [
    {
     "data": {
      "text/plain": [
       "-10.0"
      ]
     },
     "execution_count": 34,
     "metadata": {},
     "output_type": "execute_result"
    }
   ],
   "source": [
    "l = len(tableau[:, 0])\n",
    "min(tableau[l-1, :-1])"
   ]
  },
  {
   "cell_type": "code",
   "execution_count": 35,
   "id": "lovely-prediction",
   "metadata": {},
   "outputs": [
    {
     "data": {
      "text/plain": [
       "(130, 182)"
      ]
     },
     "execution_count": 35,
     "metadata": {},
     "output_type": "execute_result"
    }
   ],
   "source": [
    "tableau.shape"
   ]
  },
  {
   "cell_type": "code",
   "execution_count": null,
   "id": "impaired-beverage",
   "metadata": {},
   "outputs": [],
   "source": []
  }
 ],
 "metadata": {
  "kernelspec": {
   "display_name": "Python 3",
   "language": "python",
   "name": "python3"
  },
  "language_info": {
   "codemirror_mode": {
    "name": "ipython",
    "version": 3
   },
   "file_extension": ".py",
   "mimetype": "text/x-python",
   "name": "python",
   "nbconvert_exporter": "python",
   "pygments_lexer": "ipython3",
   "version": "3.7.3"
  }
 },
 "nbformat": 4,
 "nbformat_minor": 5
}
