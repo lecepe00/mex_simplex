{
 "cells": [
  {
   "cell_type": "code",
   "execution_count": 2,
   "id": "listed-witness",
   "metadata": {},
   "outputs": [],
   "source": [
    "#pip install \"git+https://github.com/optimizacion-2-2021-1-gh-classroom/practica-2-segunda-parte-caroacostatovany.git#egg=mex&subdirectory=src\""
   ]
  },
  {
   "cell_type": "code",
   "execution_count": 3,
   "id": "subtle-jewelry",
   "metadata": {},
   "outputs": [],
   "source": [
    "#pip uninstall mex -y"
   ]
  },
  {
   "cell_type": "code",
   "execution_count": 164,
   "id": "greek-cutting",
   "metadata": {},
   "outputs": [],
   "source": [
    "import numpy as np\n",
    "import timeit\n",
    "import scipy.io as sio\n",
    "import datetime\n",
    "\n",
    "# mex\n",
    "from mex.simplex.simplex_networks import create_matrix, pivots_col, pivots_row, \\\n",
    "find_negative_col, find_negative_row, find_pivot_col, find_pivot_row, pivot\n",
    "from mex.simplex.problem_definition import add_cons, \\\n",
    "constrain, add_obj, obj, maxz, minz\n",
    "\n",
    "# scipy\n",
    "from pytest import approx\n",
    "from scipy.optimize import linprog"
   ]
  },
  {
   "cell_type": "code",
   "execution_count": 8,
   "id": "wicked-spice",
   "metadata": {},
   "outputs": [],
   "source": [
    "from mex.simplex.simplex_networks import create_matrix, pivots_col, pivots_row, \\\n",
    "find_negative_col, find_negative_row, find_pivot_col, find_pivot_row, pivot\n",
    "from mex.simplex.problem_definition import add_cons, \\\n",
    "constrain, add_obj, obj, maxz, minz"
   ]
  },
  {
   "cell_type": "code",
   "execution_count": 5,
   "id": "environmental-respondent",
   "metadata": {},
   "outputs": [],
   "source": [
    "def generate_tableau(A, b, blow, bupp, c, compr = True):\n",
    "    \"\"\"\n",
    "    Genera la matriz bajo el supuesto de que se tiene ya capturado los datos de entrada. Bajo el problema del tipo:\n",
    "    min/max c^Tx\n",
    "    Ax = b\n",
    "    Concantenando renglones de A y juntando los limites de las restricciones (multiplicando por -1 donde sea necesario)\n",
    "    \"\"\"\n",
    "    \n",
    "    if compr:\n",
    "        A = A.todense()\n",
    "        A = np.array(A)\n",
    "    \n",
    "    n_restr, n_vars = A.shape\n",
    "\n",
    "    # Concatenar A con matrices identidades de variables sinteticas de forma rbind\n",
    "    identidad_vars_sint = np.eye(n_vars, n_vars)\n",
    "    c = c.T\n",
    "    A_new = np.concatenate((A, identidad_vars_sint, -identidad_vars_sint, c), axis=0)\n",
    "\n",
    "    # Concatenar variables coeficientes sinteticas\n",
    "    A_sint = np.eye(n_restr + 2*n_vars + 1, n_restr + 2*n_vars + 1)\n",
    "    A_sint[0:n_restr,:] = A_sint[0:n_restr,:]*0\n",
    "    \n",
    "    # Concatenar A_new con A_sint de formca rbind\n",
    "    A_new = np.c_[A_new, A_sint]\n",
    "    \n",
    "    # Juntar cotas de restricciones\n",
    "    b_new = np.concatenate((b, bupp, -blow, np.array([[0]])), axis=0)\n",
    "    \n",
    "    # Concatenar A_new, b_new de forma cbind\n",
    "    A_new = np.c_[A_new, b_new]\n",
    "    \n",
    "    return A_new"
   ]
  },
  {
   "cell_type": "code",
   "execution_count": 144,
   "id": "periodic-briefs",
   "metadata": {},
   "outputs": [],
   "source": [
    "def generate_tableau(A, b, blow, bupp, c, compr = True):\n",
    "    \"\"\"\n",
    "    Genera la matriz bajo el supuesto de que se tiene ya capturado los datos de entrada. Bajo el problema del tipo:\n",
    "    min/max c^Tx\n",
    "    Ax = b\n",
    "    Concantenando renglones de A y juntando los limites de las restricciones (multiplicando por -1 donde sea necesario)\n",
    "    \"\"\"\n",
    "    \n",
    "    if compr:\n",
    "        A = A.todense()\n",
    "        A = np.array(A)\n",
    "    \n",
    "    n_restr, n_vars = A.shape\n",
    "    \n",
    "    \n",
    "    # Caso en que blow = 0, esto es, no es ninguna restriccion bajo los supuestos de simplex\n",
    "    if (blow.sum() == 0) and (min(blow)==0) and False:\n",
    "        # Concatenar A con matrices identidades de variables sinteticas de forma rbind\n",
    "        identidad_vars_sint = np.eye(n_vars, n_vars)\n",
    "        c = c.T\n",
    "        A_new = np.concatenate((A, identidad_vars_sint, c), axis=0)\n",
    "    \n",
    "        # Concatenar variables coeficientes sinteticas\n",
    "        A_sint = np.eye(n_restr + 1*n_vars + 1, n_restr + 1*n_vars + 1)\n",
    "        A_sint[0:n_restr,:] = A_sint[0:n_restr,:]*0\n",
    "        \n",
    "        # Concatenar A_new con A_sint de formca rbind\n",
    "        A_new = np.c_[A_new, A_sint]\n",
    "        \n",
    "        # Juntar cotas de restricciones\n",
    "        b_new = np.concatenate((b, bupp, np.array([[0]])), axis=0)\n",
    "        \n",
    "        # Concatenar A_new, b_new de forma cbind\n",
    "        A_new = np.c_[A_new, b_new]\n",
    "    \n",
    "    else:\n",
    "        # Concatenar A con matrices identidades de variables sinteticas de forma rbind\n",
    "        identidad_vars_sint = np.eye(n_vars, n_vars)\n",
    "        c = c.T\n",
    "        A_new = np.concatenate((A, identidad_vars_sint, -identidad_vars_sint, c), axis=0)\n",
    "    \n",
    "        # Concatenar variables coeficientes sinteticas\n",
    "        A_sint = np.eye(n_restr + 2*n_vars + 1, n_restr + 2*n_vars + 1)\n",
    "        A_sint[0:n_restr,:] = A_sint[0:n_restr,:]*0\n",
    "        \n",
    "        # Concatenar A_new con A_sint de formca rbind\n",
    "        A_new = np.c_[A_new, A_sint]\n",
    "        \n",
    "        # Juntar cotas de restricciones\n",
    "        b_new = np.concatenate((b, bupp, -blow, np.array([[0]])), axis=0)\n",
    "        \n",
    "        # Concatenar A_new, b_new de forma cbind\n",
    "        A_new = np.c_[A_new, b_new]\n",
    "    \n",
    "    return A_new"
   ]
  },
  {
   "cell_type": "markdown",
   "id": "statewide-queensland",
   "metadata": {},
   "source": [
    "# Prueba de función `generate_tableau`"
   ]
  },
  {
   "cell_type": "code",
   "execution_count": 145,
   "id": "colonial-powder",
   "metadata": {},
   "outputs": [
    {
     "data": {
      "text/plain": [
       "array([[0., 0., 0., 0., 0., 0., 0., 0., 0., 0., 0.],\n",
       "       [0., 0., 0., 0., 0., 0., 0., 0., 0., 0., 0.],\n",
       "       [0., 0., 0., 0., 0., 0., 0., 0., 0., 0., 0.],\n",
       "       [0., 0., 0., 0., 0., 0., 0., 0., 0., 0., 0.],\n",
       "       [0., 0., 0., 0., 0., 0., 0., 0., 0., 0., 0.],\n",
       "       [0., 0., 0., 0., 0., 0., 0., 0., 0., 0., 0.],\n",
       "       [0., 0., 0., 0., 0., 0., 0., 0., 0., 0., 0.],\n",
       "       [0., 0., 0., 0., 0., 0., 0., 0., 0., 0., 0.]])"
      ]
     },
     "execution_count": 145,
     "metadata": {},
     "output_type": "execute_result"
    }
   ],
   "source": [
    "matrix_min_approx = create_matrix(2,7)\n",
    "matrix_min_approx"
   ]
  },
  {
   "cell_type": "code",
   "execution_count": 146,
   "id": "bridal-evaluation",
   "metadata": {},
   "outputs": [
    {
     "data": {
      "text/plain": [
       "array([[ 1.,  1.,  0.,  0.,  0.,  0.,  0.,  0.,  0.,  0.,  6.],\n",
       "       [-1.,  2.,  0.,  0.,  0.,  0.,  0.,  0.,  0.,  0.,  6.],\n",
       "       [ 4.,  3.,  0.,  0.,  0.,  0.,  0.,  0.,  0.,  0.,  6.],\n",
       "       [-1., -0.,  0.,  0.,  0.,  1.,  0.,  0.,  0.,  0., -0.],\n",
       "       [-0., -1.,  0.,  0.,  0.,  0.,  1.,  0.,  0.,  0., -0.],\n",
       "       [ 1.,  0.,  0.,  0.,  0.,  0.,  0.,  1.,  0.,  0., 18.],\n",
       "       [ 0.,  1.,  0.,  0.,  0.,  0.,  0.,  0.,  1.,  0., 18.],\n",
       "       [ 1.,  3.,  0.,  0.,  0.,  0.,  0.,  0.,  0.,  1.,  0.]])"
      ]
     },
     "execution_count": 146,
     "metadata": {},
     "output_type": "execute_result"
    }
   ],
   "source": [
    "constrain(matrix_min_approx,'1,1,E,6')\n",
    "constrain(matrix_min_approx,'-1,2,E,6')\n",
    "constrain(matrix_min_approx,'4,3,E,6')\n",
    "constrain(matrix_min_approx,'1,0,G,0')\n",
    "constrain(matrix_min_approx,'0,1,G,0')\n",
    "constrain(matrix_min_approx,'1,0,L,18')\n",
    "constrain(matrix_min_approx,'0,1,L,18')\n",
    "obj(matrix_min_approx,'-1,-3,0')\n",
    "matrix_min_approx"
   ]
  },
  {
   "cell_type": "code",
   "execution_count": 147,
   "id": "spatial-lighting",
   "metadata": {},
   "outputs": [],
   "source": [
    "A_prueba = np.array([[1,1], [-1,2], [4,3]])\n",
    "b_prueba = np.array([[6,6,6]]).T\n",
    "c_prueba = np.array([[1,3]]).T\n",
    "blow_prueba = np.array([[0,0]]).T\n",
    "bupp_prueba = np.array([[18,18]]).T"
   ]
  },
  {
   "cell_type": "code",
   "execution_count": 179,
   "id": "impossible-recipe",
   "metadata": {},
   "outputs": [
    {
     "data": {
      "text/plain": [
       "array([[ 1.,  1.,  0.,  0.,  0.,  0.,  0.,  0.,  0.,  0.,  6.],\n",
       "       [-1.,  2.,  0.,  0.,  0.,  0.,  0.,  0.,  0.,  0.,  6.],\n",
       "       [ 4.,  3.,  0.,  0.,  0.,  0.,  0.,  0.,  0.,  0.,  6.],\n",
       "       [ 1.,  0.,  0.,  0.,  0.,  1.,  0.,  0.,  0.,  0., 18.],\n",
       "       [ 0.,  1.,  0.,  0.,  0.,  0.,  1.,  0.,  0.,  0., 18.],\n",
       "       [-1., -0.,  0.,  0.,  0.,  0.,  0.,  1.,  0.,  0.,  0.],\n",
       "       [-0., -1.,  0.,  0.,  0.,  0.,  0.,  0.,  1.,  0.,  0.],\n",
       "       [ 1.,  3.,  0.,  0.,  0.,  0.,  0.,  0.,  0.,  1.,  0.]])"
      ]
     },
     "execution_count": 179,
     "metadata": {},
     "output_type": "execute_result"
    }
   ],
   "source": [
    "tableau_prueba = generate_tableau(A_prueba, b_prueba, blow_prueba, bupp_prueba, c_prueba, False)\n",
    "tableau_prueba"
   ]
  },
  {
   "cell_type": "markdown",
   "id": "promising-celtic",
   "metadata": {},
   "source": [
    "# Prueba del paquete `mex`"
   ]
  },
  {
   "cell_type": "code",
   "execution_count": 149,
   "id": "patient-pipeline",
   "metadata": {},
   "outputs": [],
   "source": [
    "#mat = sio.loadmat('../data/AFIRO.mat')\n",
    "mat = sio.loadmat('../data/25fv47.mat')"
   ]
  },
  {
   "cell_type": "code",
   "execution_count": 150,
   "id": "familiar-listing",
   "metadata": {},
   "outputs": [],
   "source": [
    "A = mat['A']\n",
    "b = mat['b']\n",
    "lbounds = mat['lbounds']\n",
    "ubounds = mat['ubounds']\n",
    "c = mat['c']"
   ]
  },
  {
   "cell_type": "code",
   "execution_count": 151,
   "id": "median-hunger",
   "metadata": {},
   "outputs": [
    {
     "data": {
      "text/plain": [
       "array([-160.])"
      ]
     },
     "execution_count": 151,
     "metadata": {},
     "output_type": "execute_result"
    }
   ],
   "source": [
    "min(b)"
   ]
  },
  {
   "cell_type": "code",
   "execution_count": 152,
   "id": "static-patent",
   "metadata": {},
   "outputs": [
    {
     "data": {
      "text/plain": [
       "30235.929816999997"
      ]
     },
     "execution_count": 152,
     "metadata": {},
     "output_type": "execute_result"
    }
   ],
   "source": [
    "b.sum()"
   ]
  },
  {
   "cell_type": "code",
   "execution_count": 153,
   "id": "obvious-radiation",
   "metadata": {},
   "outputs": [
    {
     "data": {
      "text/plain": [
       "1.8759999999999997e+35"
      ]
     },
     "execution_count": 153,
     "metadata": {},
     "output_type": "execute_result"
    }
   ],
   "source": [
    "ubounds.sum()"
   ]
  },
  {
   "cell_type": "code",
   "execution_count": 154,
   "id": "burning-selection",
   "metadata": {},
   "outputs": [
    {
     "data": {
      "text/plain": [
       "0"
      ]
     },
     "execution_count": 154,
     "metadata": {},
     "output_type": "execute_result"
    }
   ],
   "source": [
    "lbounds.sum()"
   ]
  },
  {
   "cell_type": "code",
   "execution_count": 155,
   "id": "automatic-momentum",
   "metadata": {},
   "outputs": [
    {
     "data": {
      "text/plain": [
       "array([0], dtype=uint8)"
      ]
     },
     "execution_count": 155,
     "metadata": {},
     "output_type": "execute_result"
    }
   ],
   "source": [
    "min(lbounds)"
   ]
  },
  {
   "cell_type": "code",
   "execution_count": 156,
   "id": "phantom-contents",
   "metadata": {},
   "outputs": [
    {
     "name": "stdout",
     "output_type": "stream",
     "text": [
      "(821, 1876)\n"
     ]
    }
   ],
   "source": [
    "print(A.shape)"
   ]
  },
  {
   "cell_type": "code",
   "execution_count": 157,
   "id": "spanish-needle",
   "metadata": {},
   "outputs": [],
   "source": [
    "tableau = generate_tableau(A, b, lbounds, ubounds, c)"
   ]
  },
  {
   "cell_type": "code",
   "execution_count": 158,
   "id": "typical-amateur",
   "metadata": {},
   "outputs": [
    {
     "name": "stdout",
     "output_type": "stream",
     "text": [
      "Inicio a correr a las: \n",
      "2021 - 5 - 15 :\\_o_/ Hora \\_o_/: 13 : 5 : 47\n"
     ]
    }
   ],
   "source": [
    "print(\"Inicio a correr a las: \")\n",
    "now = datetime.datetime.now()\n",
    "print(now.year,\"-\", now.month,\"-\", now.day,\":\\_o_/ Hora \\_o_/:\", now.hour,\":\", now.minute,\":\", now.second)"
   ]
  },
  {
   "cell_type": "code",
   "execution_count": 160,
   "id": "increasing-coffee",
   "metadata": {},
   "outputs": [
    {
     "name": "stdout",
     "output_type": "stream",
     "text": [
      "Valor objetivo 0.0\n",
      "##################################\n",
      " Terminó pivoteo de columnas\n",
      "\n",
      "Valor objetivo 19.2\n",
      "Valor objetivo 919.2\n",
      "Valor objetivo 1719.2\n",
      "Valor objetivo 1959.2\n",
      "Valor objetivo 2309.2\n",
      "Valor objetivo 2959.2\n",
      "Valor objetivo 3559.2\n",
      "Valor objetivo 3699.6454999999996\n",
      "Valor objetivo 3773.3614999999995\n",
      "Valor objetivo 3850.1489999999994\n",
      "Valor objetivo 3874.7209999999995\n",
      "Valor objetivo 3890.0784999999996\n",
      "Valor objetivo 3892.358591954023\n",
      "Valor objetivo 3898.0855062972587\n",
      "Valor objetivo 3899.4827078823587\n",
      "##################################\n",
      " Terminó pivoteo de renglones\n",
      "\n",
      "Tiempo de codigo:  -0.02381351300005008\n"
     ]
    }
   ],
   "source": [
    "problem_approx = minz(tableau)"
   ]
  },
  {
   "cell_type": "code",
   "execution_count": 162,
   "id": "parliamentary-level",
   "metadata": {},
   "outputs": [
    {
     "data": {
      "text/plain": [
       "-3899.4827078823587"
      ]
     },
     "execution_count": 162,
     "metadata": {},
     "output_type": "execute_result"
    }
   ],
   "source": [
    "problem_approx['min']"
   ]
  },
  {
   "cell_type": "code",
   "execution_count": 196,
   "id": "alike-travel",
   "metadata": {},
   "outputs": [],
   "source": [
    "tableau_prueba = tableau"
   ]
  },
  {
   "cell_type": "code",
   "execution_count": 200,
   "id": "exterior-swaziland",
   "metadata": {},
   "outputs": [],
   "source": [
    "n_restr = tableau_prueba.shape[0]-1\n",
    "n_vars = A.shape[1]"
   ]
  },
  {
   "cell_type": "code",
   "execution_count": 201,
   "id": "instructional-narrative",
   "metadata": {},
   "outputs": [
    {
     "data": {
      "text/plain": [
       "4573"
      ]
     },
     "execution_count": 201,
     "metadata": {},
     "output_type": "execute_result"
    }
   ],
   "source": [
    "n_restr"
   ]
  },
  {
   "cell_type": "code",
   "execution_count": 202,
   "id": "copyrighted-suicide",
   "metadata": {},
   "outputs": [
    {
     "name": "stdout",
     "output_type": "stream",
     "text": [
      "[0.     0.     0.     ... 0.     0.     1.5313]\n"
     ]
    }
   ],
   "source": [
    "c_min_obj = tableau_prueba[-1,0:n_vars]\n",
    "print(c_min_obj)"
   ]
  },
  {
   "cell_type": "code",
   "execution_count": 203,
   "id": "dated-seafood",
   "metadata": {},
   "outputs": [
    {
     "name": "stdout",
     "output_type": "stream",
     "text": [
      "[[ 0.  0.  0. ...  0.  0.  0.]\n",
      " [ 0.  0.  0. ...  0.  0.  0.]\n",
      " [ 0.  0.  0. ...  0.  0.  0.]\n",
      " ...\n",
      " [-0. -0. -0. ... -1. -0. -0.]\n",
      " [-0. -0. -0. ... -0. -1. -0.]\n",
      " [-0. -0. -0. ... -0. -0. -1.]]\n"
     ]
    }
   ],
   "source": [
    "A_min_obj = tableau_prueba[0:n_restr, 0:n_vars]\n",
    "print(A_min_obj)"
   ]
  },
  {
   "cell_type": "code",
   "execution_count": 204,
   "id": "spare-retirement",
   "metadata": {},
   "outputs": [
    {
     "name": "stdout",
     "output_type": "stream",
     "text": [
      "[ 0. 29. 60. ...  0.  0.  0.]\n"
     ]
    }
   ],
   "source": [
    "b_min_obj = tableau_prueba[0:n_restr, -1]\n",
    "print(b_min_obj)"
   ]
  },
  {
   "cell_type": "code",
   "execution_count": 205,
   "id": "possible-berry",
   "metadata": {},
   "outputs": [
    {
     "data": {
      "text/plain": [
       "(1876,)"
      ]
     },
     "execution_count": 205,
     "metadata": {},
     "output_type": "execute_result"
    }
   ],
   "source": [
    "c_min_obj.shape"
   ]
  },
  {
   "cell_type": "code",
   "execution_count": 206,
   "id": "equal-ecology",
   "metadata": {},
   "outputs": [
    {
     "data": {
      "text/plain": [
       "(4573, 1876)"
      ]
     },
     "execution_count": 206,
     "metadata": {},
     "output_type": "execute_result"
    }
   ],
   "source": [
    "A_min_obj.shape"
   ]
  },
  {
   "cell_type": "code",
   "execution_count": 207,
   "id": "lasting-inspiration",
   "metadata": {},
   "outputs": [
    {
     "data": {
      "text/plain": [
       "(4573,)"
      ]
     },
     "execution_count": 207,
     "metadata": {},
     "output_type": "execute_result"
    }
   ],
   "source": [
    "b_min_obj.shape"
   ]
  },
  {
   "cell_type": "code",
   "execution_count": 208,
   "id": "noted-tomorrow",
   "metadata": {},
   "outputs": [
    {
     "ename": "KeyboardInterrupt",
     "evalue": "",
     "output_type": "error",
     "traceback": [
      "\u001b[0;31m---------------------------------------------------------------------------\u001b[0m",
      "\u001b[0;31mKeyboardInterrupt\u001b[0m                         Traceback (most recent call last)",
      "\u001b[0;32m<ipython-input-208-438f89da2ede>\u001b[0m in \u001b[0;36m<module>\u001b[0;34m\u001b[0m\n\u001b[0;32m----> 1\u001b[0;31m \u001b[0mmin_obj\u001b[0m \u001b[0;34m=\u001b[0m \u001b[0mlinprog\u001b[0m\u001b[0;34m(\u001b[0m\u001b[0mc_min_obj\u001b[0m\u001b[0;34m,\u001b[0m \u001b[0mA_ub\u001b[0m \u001b[0;34m=\u001b[0m \u001b[0mA_min_obj\u001b[0m\u001b[0;34m,\u001b[0m \u001b[0mb_ub\u001b[0m \u001b[0;34m=\u001b[0m \u001b[0mb_min_obj\u001b[0m\u001b[0;34m)\u001b[0m\u001b[0;34m.\u001b[0m\u001b[0mfun\u001b[0m\u001b[0;34m\u001b[0m\u001b[0;34m\u001b[0m\u001b[0m\n\u001b[0m\u001b[1;32m      2\u001b[0m \u001b[0mcoeff_obj\u001b[0m \u001b[0;34m=\u001b[0m \u001b[0mlinprog\u001b[0m\u001b[0;34m(\u001b[0m\u001b[0mc_min_obj\u001b[0m\u001b[0;34m,\u001b[0m \u001b[0mA_ub\u001b[0m \u001b[0;34m=\u001b[0m \u001b[0mA_min_obj\u001b[0m\u001b[0;34m,\u001b[0m \u001b[0mb_ub\u001b[0m \u001b[0;34m=\u001b[0m \u001b[0mb_min_obj\u001b[0m\u001b[0;34m)\u001b[0m\u001b[0;34m.\u001b[0m\u001b[0mx\u001b[0m\u001b[0;34m\u001b[0m\u001b[0;34m\u001b[0m\u001b[0m\n",
      "\u001b[0;32m/Library/Frameworks/Python.framework/Versions/3.7/lib/python3.7/site-packages/scipy/optimize/_linprog.py\u001b[0m in \u001b[0;36mlinprog\u001b[0;34m(c, A_ub, b_ub, A_eq, b_eq, bounds, method, callback, options, x0)\u001b[0m\n\u001b[1;32m    641\u001b[0m             x, status, message, iteration = _linprog_ip(\n\u001b[1;32m    642\u001b[0m                 \u001b[0mc\u001b[0m\u001b[0;34m,\u001b[0m \u001b[0mc0\u001b[0m\u001b[0;34m=\u001b[0m\u001b[0mc0\u001b[0m\u001b[0;34m,\u001b[0m \u001b[0mA\u001b[0m\u001b[0;34m=\u001b[0m\u001b[0mA\u001b[0m\u001b[0;34m,\u001b[0m \u001b[0mb\u001b[0m\u001b[0;34m=\u001b[0m\u001b[0mb\u001b[0m\u001b[0;34m,\u001b[0m \u001b[0mcallback\u001b[0m\u001b[0;34m=\u001b[0m\u001b[0mcallback\u001b[0m\u001b[0;34m,\u001b[0m\u001b[0;34m\u001b[0m\u001b[0;34m\u001b[0m\u001b[0m\n\u001b[0;32m--> 643\u001b[0;31m                 postsolve_args=postsolve_args, **solver_options)\n\u001b[0m\u001b[1;32m    644\u001b[0m         \u001b[0;32melif\u001b[0m \u001b[0mmeth\u001b[0m \u001b[0;34m==\u001b[0m \u001b[0;34m'revised simplex'\u001b[0m\u001b[0;34m:\u001b[0m\u001b[0;34m\u001b[0m\u001b[0;34m\u001b[0m\u001b[0m\n\u001b[1;32m    645\u001b[0m             x, status, message, iteration = _linprog_rs(\n",
      "\u001b[0;32m/Library/Frameworks/Python.framework/Versions/3.7/lib/python3.7/site-packages/scipy/optimize/_linprog_ip.py\u001b[0m in \u001b[0;36m_linprog_ip\u001b[0;34m(c, c0, A, b, callback, postsolve_args, maxiter, tol, disp, alpha0, beta, sparse, lstsq, sym_pos, cholesky, pc, ip, permc_spec, **unknown_options)\u001b[0m\n\u001b[1;32m   1121\u001b[0m                                             \u001b[0mlstsq\u001b[0m\u001b[0;34m,\u001b[0m \u001b[0msym_pos\u001b[0m\u001b[0;34m,\u001b[0m \u001b[0mcholesky\u001b[0m\u001b[0;34m,\u001b[0m\u001b[0;34m\u001b[0m\u001b[0;34m\u001b[0m\u001b[0m\n\u001b[1;32m   1122\u001b[0m                                             \u001b[0mpc\u001b[0m\u001b[0;34m,\u001b[0m \u001b[0mip\u001b[0m\u001b[0;34m,\u001b[0m \u001b[0mpermc_spec\u001b[0m\u001b[0;34m,\u001b[0m \u001b[0mcallback\u001b[0m\u001b[0;34m,\u001b[0m\u001b[0;34m\u001b[0m\u001b[0;34m\u001b[0m\u001b[0m\n\u001b[0;32m-> 1123\u001b[0;31m                                             postsolve_args)\n\u001b[0m\u001b[1;32m   1124\u001b[0m \u001b[0;34m\u001b[0m\u001b[0m\n\u001b[1;32m   1125\u001b[0m     \u001b[0;32mreturn\u001b[0m \u001b[0mx\u001b[0m\u001b[0;34m,\u001b[0m \u001b[0mstatus\u001b[0m\u001b[0;34m,\u001b[0m \u001b[0mmessage\u001b[0m\u001b[0;34m,\u001b[0m \u001b[0miteration\u001b[0m\u001b[0;34m\u001b[0m\u001b[0;34m\u001b[0m\u001b[0m\n",
      "\u001b[0;32m/Library/Frameworks/Python.framework/Versions/3.7/lib/python3.7/site-packages/scipy/optimize/_linprog_ip.py\u001b[0m in \u001b[0;36m_ip_hsd\u001b[0;34m(A, b, c, c0, alpha0, beta, maxiter, disp, tol, sparse, lstsq, sym_pos, cholesky, pc, ip, permc_spec, callback, postsolve_args)\u001b[0m\n\u001b[1;32m    750\u001b[0m             d_x, d_y, d_z, d_tau, d_kappa = _get_delta(\n\u001b[1;32m    751\u001b[0m                 \u001b[0mA\u001b[0m\u001b[0;34m,\u001b[0m \u001b[0mb\u001b[0m\u001b[0;34m,\u001b[0m \u001b[0mc\u001b[0m\u001b[0;34m,\u001b[0m \u001b[0mx\u001b[0m\u001b[0;34m,\u001b[0m \u001b[0my\u001b[0m\u001b[0;34m,\u001b[0m \u001b[0mz\u001b[0m\u001b[0;34m,\u001b[0m \u001b[0mtau\u001b[0m\u001b[0;34m,\u001b[0m \u001b[0mkappa\u001b[0m\u001b[0;34m,\u001b[0m \u001b[0mgamma\u001b[0m\u001b[0;34m,\u001b[0m \u001b[0meta\u001b[0m\u001b[0;34m,\u001b[0m\u001b[0;34m\u001b[0m\u001b[0;34m\u001b[0m\u001b[0m\n\u001b[0;32m--> 752\u001b[0;31m                 sparse, lstsq, sym_pos, cholesky, pc, ip, permc_spec)\n\u001b[0m\u001b[1;32m    753\u001b[0m \u001b[0;34m\u001b[0m\u001b[0m\n\u001b[1;32m    754\u001b[0m             \u001b[0;32mif\u001b[0m \u001b[0mip\u001b[0m\u001b[0;34m:\u001b[0m  \u001b[0;31m# initial point\u001b[0m\u001b[0;34m\u001b[0m\u001b[0;34m\u001b[0m\u001b[0m\n",
      "\u001b[0;32m/Library/Frameworks/Python.framework/Versions/3.7/lib/python3.7/site-packages/scipy/optimize/_linprog_ip.py\u001b[0m in \u001b[0;36m_get_delta\u001b[0;34m(A, b, c, x, y, z, tau, kappa, gamma, eta, sparse, lstsq, sym_pos, cholesky, pc, ip, permc_spec)\u001b[0m\n\u001b[1;32m    212\u001b[0m         \u001b[0mM\u001b[0m \u001b[0;34m=\u001b[0m \u001b[0mA\u001b[0m\u001b[0;34m.\u001b[0m\u001b[0mdot\u001b[0m\u001b[0;34m(\u001b[0m\u001b[0msps\u001b[0m\u001b[0;34m.\u001b[0m\u001b[0mdiags\u001b[0m\u001b[0;34m(\u001b[0m\u001b[0mDinv\u001b[0m\u001b[0;34m,\u001b[0m \u001b[0;36m0\u001b[0m\u001b[0;34m,\u001b[0m \u001b[0mformat\u001b[0m\u001b[0;34m=\u001b[0m\u001b[0;34m\"csc\"\u001b[0m\u001b[0;34m)\u001b[0m\u001b[0;34m.\u001b[0m\u001b[0mdot\u001b[0m\u001b[0;34m(\u001b[0m\u001b[0mA\u001b[0m\u001b[0;34m.\u001b[0m\u001b[0mT\u001b[0m\u001b[0;34m)\u001b[0m\u001b[0;34m)\u001b[0m\u001b[0;34m\u001b[0m\u001b[0;34m\u001b[0m\u001b[0m\n\u001b[1;32m    213\u001b[0m     \u001b[0;32melse\u001b[0m\u001b[0;34m:\u001b[0m\u001b[0;34m\u001b[0m\u001b[0;34m\u001b[0m\u001b[0m\n\u001b[0;32m--> 214\u001b[0;31m         \u001b[0mM\u001b[0m \u001b[0;34m=\u001b[0m \u001b[0mA\u001b[0m\u001b[0;34m.\u001b[0m\u001b[0mdot\u001b[0m\u001b[0;34m(\u001b[0m\u001b[0mDinv\u001b[0m\u001b[0;34m.\u001b[0m\u001b[0mreshape\u001b[0m\u001b[0;34m(\u001b[0m\u001b[0;34m-\u001b[0m\u001b[0;36m1\u001b[0m\u001b[0;34m,\u001b[0m \u001b[0;36m1\u001b[0m\u001b[0;34m)\u001b[0m \u001b[0;34m*\u001b[0m \u001b[0mA\u001b[0m\u001b[0;34m.\u001b[0m\u001b[0mT\u001b[0m\u001b[0;34m)\u001b[0m\u001b[0;34m\u001b[0m\u001b[0;34m\u001b[0m\u001b[0m\n\u001b[0m\u001b[1;32m    215\u001b[0m     \u001b[0msolve\u001b[0m \u001b[0;34m=\u001b[0m \u001b[0m_get_solver\u001b[0m\u001b[0;34m(\u001b[0m\u001b[0mM\u001b[0m\u001b[0;34m,\u001b[0m \u001b[0msparse\u001b[0m\u001b[0;34m,\u001b[0m \u001b[0mlstsq\u001b[0m\u001b[0;34m,\u001b[0m \u001b[0msym_pos\u001b[0m\u001b[0;34m,\u001b[0m \u001b[0mcholesky\u001b[0m\u001b[0;34m,\u001b[0m \u001b[0mpermc_spec\u001b[0m\u001b[0;34m)\u001b[0m\u001b[0;34m\u001b[0m\u001b[0;34m\u001b[0m\u001b[0m\n\u001b[1;32m    216\u001b[0m \u001b[0;34m\u001b[0m\u001b[0m\n",
      "\u001b[0;31mKeyboardInterrupt\u001b[0m: "
     ]
    }
   ],
   "source": [
    "min_obj = linprog(c_min_obj, A_ub = A_min_obj, b_ub = b_min_obj).fun\n",
    "coeff_obj = linprog(c_min_obj, A_ub = A_min_obj, b_ub = b_min_obj).x"
   ]
  },
  {
   "cell_type": "code",
   "execution_count": null,
   "id": "functioning-budapest",
   "metadata": {},
   "outputs": [],
   "source": []
  }
 ],
 "metadata": {
  "kernelspec": {
   "display_name": "Python 3",
   "language": "python",
   "name": "python3"
  },
  "language_info": {
   "codemirror_mode": {
    "name": "ipython",
    "version": 3
   },
   "file_extension": ".py",
   "mimetype": "text/x-python",
   "name": "python",
   "nbconvert_exporter": "python",
   "pygments_lexer": "ipython3",
   "version": "3.7.3"
  }
 },
 "nbformat": 4,
 "nbformat_minor": 5
}
