{
 "cells": [
  {
   "cell_type": "code",
   "execution_count": 1,
   "id": "listed-witness",
   "metadata": {},
   "outputs": [],
   "source": [
    "#pip install \"git+https://github.com/optimizacion-2-2021-1-gh-classroom/practica-2-segunda-parte-caroacostatovany.git#egg=mex&subdirectory=src\""
   ]
  },
  {
   "cell_type": "code",
   "execution_count": 2,
   "id": "greek-cutting",
   "metadata": {},
   "outputs": [],
   "source": [
    "import numpy as np\n",
    "import timeit"
   ]
  },
  {
   "cell_type": "code",
   "execution_count": 3,
   "id": "seasonal-visiting",
   "metadata": {},
   "outputs": [],
   "source": [
    "import scipy.io as sio"
   ]
  },
  {
   "cell_type": "code",
   "execution_count": 4,
   "id": "exempt-projector",
   "metadata": {},
   "outputs": [],
   "source": [
    "mat = sio.loadmat('../data/AFIRO.mat')\n",
    "#mat = sio.loadmat('../data/80BAU3B.mat')"
   ]
  },
  {
   "cell_type": "code",
   "execution_count": 5,
   "id": "assumed-reverse",
   "metadata": {},
   "outputs": [
    {
     "data": {
      "text/plain": [
       "(27, 51)"
      ]
     },
     "execution_count": 5,
     "metadata": {},
     "output_type": "execute_result"
    }
   ],
   "source": [
    "A=mat['A']\n",
    "A.shape"
   ]
  },
  {
   "cell_type": "code",
   "execution_count": 6,
   "id": "sophisticated-constant",
   "metadata": {},
   "outputs": [
    {
     "data": {
      "text/plain": [
       "27"
      ]
     },
     "execution_count": 6,
     "metadata": {},
     "output_type": "execute_result"
    }
   ],
   "source": [
    "b=mat['b']\n",
    "len(b)"
   ]
  },
  {
   "cell_type": "code",
   "execution_count": 7,
   "id": "seasonal-valve",
   "metadata": {},
   "outputs": [
    {
     "data": {
      "text/plain": [
       "51"
      ]
     },
     "execution_count": 7,
     "metadata": {},
     "output_type": "execute_result"
    }
   ],
   "source": [
    "c=mat['c']\n",
    "len(c)"
   ]
  },
  {
   "cell_type": "code",
   "execution_count": 8,
   "id": "applicable-mason",
   "metadata": {},
   "outputs": [
    {
     "name": "stdout",
     "output_type": "stream",
     "text": [
      "51\n",
      "51\n"
     ]
    }
   ],
   "source": [
    "lbounds=mat['lbounds']\n",
    "ubounds=mat['ubounds']\n",
    "print(len(lbounds))\n",
    "print(len(ubounds))"
   ]
  },
  {
   "cell_type": "code",
   "execution_count": 40,
   "id": "careful-indiana",
   "metadata": {},
   "outputs": [],
   "source": [
    "def generates_matrix(A, b, blow, bupp, c, compr = True):\n",
    "    \"\"\"\n",
    "    Genera la matriz bajo el supuesto de que se tiene ya capturado los datos de entrada. Genera el problema del tipo:\n",
    "    `\n",
    "    Al tipo\n",
    "    Ax <= b\n",
    "    Concantenando renglones de A y juntando los limites de las restricciones (multiplicando por -1 donde sea necesario)\n",
    "    \"\"\"\n",
    "    \n",
    "    if compr:\n",
    "        A = A.todense()\n",
    "    \n",
    "    nrow, ncol = A.shape\n",
    "\n",
    "    # Concatenar A con matrices identidades de variables sinteticas de forma rbind\n",
    "    identidad_vars_sint = np.eye(ncol, ncol)\n",
    "    c = c.T\n",
    "    pos_ini = len(blow)\n",
    "    identidad_vars_sint[pos_ini:,:] = -identidad_vars_sint[pos_ini:,:]\n",
    "    A_new = np.concatenate((A, identidad_vars_sint, c), axis=0)\n",
    "\n",
    "    # Concatenar variables coeficientes sinteticas\n",
    "    A_sint = np.eye(nrow + len(blow)*2+1, nrow + len(blow)*2+1)\n",
    "    pos_row = nrow+1\n",
    "    pos_col = ncol+1\n",
    "    A_sint[0:pos_row,0:pos_col] = A_sint[0:pos_row,0:pos_col]*0\n",
    "    \n",
    "    # Concatenar A_new con A_sint de formca rbind\n",
    "    print(A_new.shape)\n",
    "    print(A_sint.shape)\n",
    "    A_new = np.c_[A_new, A_sint]\n",
    "    \n",
    "    # Juntar cotas de restricciones\n",
    "    b_new = np.concatenate((b, bupp, -blow, np.array([[0]])), axis=0)\n",
    "    \n",
    "    # Concatenar A_new, b_new de forma cbind\n",
    "    A_new = np.c_[A_new, b_new]\n",
    "    \n",
    "    return A_new"
   ]
  },
  {
   "cell_type": "markdown",
   "id": "statewide-queensland",
   "metadata": {},
   "source": [
    "# Prueba de paquetería `mex`"
   ]
  },
  {
   "cell_type": "code",
   "execution_count": 41,
   "id": "automatic-equity",
   "metadata": {},
   "outputs": [],
   "source": [
    "from mex.simplex.simplex_networks import create_matrix, pivots_col, pivots_row, \\\n",
    "find_negative_col, find_negative_row, find_pivot_col, find_pivot_row, pivot\n",
    "\n",
    "from mex.simplex.problem_definition import add_cons, \\\n",
    "constrain, add_obj, obj, maxz, minz"
   ]
  },
  {
   "cell_type": "code",
   "execution_count": 42,
   "id": "colonial-powder",
   "metadata": {},
   "outputs": [
    {
     "data": {
      "text/plain": [
       "array([[0., 0., 0., 0., 0., 0., 0., 0., 0.],\n",
       "       [0., 0., 0., 0., 0., 0., 0., 0., 0.],\n",
       "       [0., 0., 0., 0., 0., 0., 0., 0., 0.],\n",
       "       [0., 0., 0., 0., 0., 0., 0., 0., 0.],\n",
       "       [0., 0., 0., 0., 0., 0., 0., 0., 0.],\n",
       "       [0., 0., 0., 0., 0., 0., 0., 0., 0.]])"
      ]
     },
     "execution_count": 42,
     "metadata": {},
     "output_type": "execute_result"
    }
   ],
   "source": [
    "matrix_min_approx = create_matrix(2,5)\n",
    "matrix_min_approx"
   ]
  },
  {
   "cell_type": "code",
   "execution_count": 43,
   "id": "bridal-evaluation",
   "metadata": {},
   "outputs": [
    {
     "data": {
      "text/plain": [
       "array([[ 1.,  1.,  0.,  0.,  0.,  0.,  0.,  0.,  6.],\n",
       "       [-1.,  2.,  0.,  0.,  0.,  0.,  0.,  0.,  8.],\n",
       "       [ 4.,  3.,  0.,  0.,  0.,  0.,  0.,  0.,  8.],\n",
       "       [ 1.,  0.,  0.,  0.,  0.,  1.,  0.,  0.,  8.],\n",
       "       [-0., -1.,  0.,  0.,  0.,  0.,  1.,  0., -8.],\n",
       "       [ 1.,  3.,  0.,  0.,  0.,  0.,  0.,  1.,  0.]])"
      ]
     },
     "execution_count": 43,
     "metadata": {},
     "output_type": "execute_result"
    }
   ],
   "source": [
    "constrain(matrix_min_approx,'1,1,E,6')\n",
    "constrain(matrix_min_approx,'-1,2,E,8')\n",
    "constrain(matrix_min_approx,'4,3,E,8')\n",
    "constrain(matrix_min_approx,'1,0,L,8')\n",
    "constrain(matrix_min_approx,'0,1,G,8')\n",
    "obj(matrix_min_approx,'-1,-3,0')\n",
    "matrix_min_approx"
   ]
  },
  {
   "cell_type": "code",
   "execution_count": 44,
   "id": "spatial-lighting",
   "metadata": {},
   "outputs": [],
   "source": [
    "A_prueba = np.array([[1,1], [-1,2], [4,3]])\n",
    "b_prueba = np.array([[6,8,8]]).T\n",
    "c_prueba = np.array([[1,3]]).T\n",
    "blow_prueba = np.array([[8]]).T\n",
    "bupp_prueba = np.array([[8]]).T"
   ]
  },
  {
   "cell_type": "code",
   "execution_count": 45,
   "id": "impossible-recipe",
   "metadata": {},
   "outputs": [
    {
     "name": "stdout",
     "output_type": "stream",
     "text": [
      "(6, 2)\n",
      "(6, 6)\n"
     ]
    },
    {
     "data": {
      "text/plain": [
       "array([[ 1.,  1.,  0.,  0.,  0.,  0.,  0.,  0.,  6.],\n",
       "       [-1.,  2.,  0.,  0.,  0.,  0.,  0.,  0.,  8.],\n",
       "       [ 4.,  3.,  0.,  0.,  0.,  0.,  0.,  0.,  8.],\n",
       "       [ 1.,  0.,  0.,  0.,  0.,  1.,  0.,  0.,  8.],\n",
       "       [-0., -1.,  0.,  0.,  0.,  0.,  1.,  0., -8.],\n",
       "       [ 1.,  3.,  0.,  0.,  0.,  0.,  0.,  1.,  0.]])"
      ]
     },
     "execution_count": 45,
     "metadata": {},
     "output_type": "execute_result"
    }
   ],
   "source": [
    "generates_matrix(A_prueba, b_prueba, blow_prueba, bupp_prueba, c_prueba, False)"
   ]
  },
  {
   "cell_type": "markdown",
   "id": "promising-celtic",
   "metadata": {},
   "source": [
    "### Prueba del paquete `mex`"
   ]
  },
  {
   "cell_type": "code",
   "execution_count": 46,
   "id": "patient-pipeline",
   "metadata": {},
   "outputs": [],
   "source": [
    "mat = sio.loadmat('../data/AFIRO.mat')\n",
    "#mat = sio.loadmat('../data/80BAU3B.mat')"
   ]
  },
  {
   "cell_type": "code",
   "execution_count": 47,
   "id": "familiar-listing",
   "metadata": {},
   "outputs": [],
   "source": [
    "A = mat['A']\n",
    "b = mat['b']\n",
    "lbounds = mat['lbounds']\n",
    "ubounds = mat['ubounds']\n",
    "c = mat['c']"
   ]
  },
  {
   "cell_type": "code",
   "execution_count": 49,
   "id": "phantom-contents",
   "metadata": {},
   "outputs": [
    {
     "name": "stdout",
     "output_type": "stream",
     "text": [
      "(27, 51)\n"
     ]
    }
   ],
   "source": [
    "print(A.shape)"
   ]
  },
  {
   "cell_type": "code",
   "execution_count": 48,
   "id": "spanish-needle",
   "metadata": {},
   "outputs": [
    {
     "name": "stdout",
     "output_type": "stream",
     "text": [
      "(79, 51)\n",
      "(130, 130)\n"
     ]
    },
    {
     "ename": "ValueError",
     "evalue": "all the input array dimensions for the concatenation axis must match exactly, but along dimension 0, the array at index 0 has size 79 and the array at index 1 has size 130",
     "output_type": "error",
     "traceback": [
      "\u001b[0;31m---------------------------------------------------------------------------\u001b[0m",
      "\u001b[0;31mValueError\u001b[0m                                Traceback (most recent call last)",
      "\u001b[0;32m<ipython-input-48-9bec0caf4724>\u001b[0m in \u001b[0;36m<module>\u001b[0;34m\u001b[0m\n\u001b[0;32m----> 1\u001b[0;31m \u001b[0mtableau\u001b[0m \u001b[0;34m=\u001b[0m \u001b[0mgenerates_matrix\u001b[0m\u001b[0;34m(\u001b[0m\u001b[0mA\u001b[0m\u001b[0;34m,\u001b[0m \u001b[0mb\u001b[0m\u001b[0;34m,\u001b[0m \u001b[0mlbounds\u001b[0m\u001b[0;34m,\u001b[0m \u001b[0mubounds\u001b[0m\u001b[0;34m,\u001b[0m \u001b[0mc\u001b[0m\u001b[0;34m)\u001b[0m\u001b[0;34m\u001b[0m\u001b[0;34m\u001b[0m\u001b[0m\n\u001b[0m",
      "\u001b[0;32m<ipython-input-40-c1f6912f2cad>\u001b[0m in \u001b[0;36mgenerates_matrix\u001b[0;34m(A, b, blow, bupp, c, compr)\u001b[0m\n\u001b[1;32m     29\u001b[0m     \u001b[0mprint\u001b[0m\u001b[0;34m(\u001b[0m\u001b[0mA_new\u001b[0m\u001b[0;34m.\u001b[0m\u001b[0mshape\u001b[0m\u001b[0;34m)\u001b[0m\u001b[0;34m\u001b[0m\u001b[0;34m\u001b[0m\u001b[0m\n\u001b[1;32m     30\u001b[0m     \u001b[0mprint\u001b[0m\u001b[0;34m(\u001b[0m\u001b[0mA_sint\u001b[0m\u001b[0;34m.\u001b[0m\u001b[0mshape\u001b[0m\u001b[0;34m)\u001b[0m\u001b[0;34m\u001b[0m\u001b[0;34m\u001b[0m\u001b[0m\n\u001b[0;32m---> 31\u001b[0;31m     \u001b[0mA_new\u001b[0m \u001b[0;34m=\u001b[0m \u001b[0mnp\u001b[0m\u001b[0;34m.\u001b[0m\u001b[0mc_\u001b[0m\u001b[0;34m[\u001b[0m\u001b[0mA_new\u001b[0m\u001b[0;34m,\u001b[0m \u001b[0mA_sint\u001b[0m\u001b[0;34m]\u001b[0m\u001b[0;34m\u001b[0m\u001b[0;34m\u001b[0m\u001b[0m\n\u001b[0m\u001b[1;32m     32\u001b[0m \u001b[0;34m\u001b[0m\u001b[0m\n\u001b[1;32m     33\u001b[0m     \u001b[0;31m# Juntar cotas de restricciones\u001b[0m\u001b[0;34m\u001b[0m\u001b[0;34m\u001b[0m\u001b[0;34m\u001b[0m\u001b[0m\n",
      "\u001b[0;32m~/.local/lib/python3.8/site-packages/numpy/lib/index_tricks.py\u001b[0m in \u001b[0;36m__getitem__\u001b[0;34m(self, key)\u001b[0m\n\u001b[1;32m    405\u001b[0m                 \u001b[0mobjs\u001b[0m\u001b[0;34m[\u001b[0m\u001b[0mk\u001b[0m\u001b[0;34m]\u001b[0m \u001b[0;34m=\u001b[0m \u001b[0mobjs\u001b[0m\u001b[0;34m[\u001b[0m\u001b[0mk\u001b[0m\u001b[0;34m]\u001b[0m\u001b[0;34m.\u001b[0m\u001b[0mastype\u001b[0m\u001b[0;34m(\u001b[0m\u001b[0mfinal_dtype\u001b[0m\u001b[0;34m)\u001b[0m\u001b[0;34m\u001b[0m\u001b[0;34m\u001b[0m\u001b[0m\n\u001b[1;32m    406\u001b[0m \u001b[0;34m\u001b[0m\u001b[0m\n\u001b[0;32m--> 407\u001b[0;31m         \u001b[0mres\u001b[0m \u001b[0;34m=\u001b[0m \u001b[0mself\u001b[0m\u001b[0;34m.\u001b[0m\u001b[0mconcatenate\u001b[0m\u001b[0;34m(\u001b[0m\u001b[0mtuple\u001b[0m\u001b[0;34m(\u001b[0m\u001b[0mobjs\u001b[0m\u001b[0;34m)\u001b[0m\u001b[0;34m,\u001b[0m \u001b[0maxis\u001b[0m\u001b[0;34m=\u001b[0m\u001b[0maxis\u001b[0m\u001b[0;34m)\u001b[0m\u001b[0;34m\u001b[0m\u001b[0;34m\u001b[0m\u001b[0m\n\u001b[0m\u001b[1;32m    408\u001b[0m \u001b[0;34m\u001b[0m\u001b[0m\n\u001b[1;32m    409\u001b[0m         \u001b[0;32mif\u001b[0m \u001b[0mmatrix\u001b[0m\u001b[0;34m:\u001b[0m\u001b[0;34m\u001b[0m\u001b[0;34m\u001b[0m\u001b[0m\n",
      "\u001b[0;32m<__array_function__ internals>\u001b[0m in \u001b[0;36mconcatenate\u001b[0;34m(*args, **kwargs)\u001b[0m\n",
      "\u001b[0;31mValueError\u001b[0m: all the input array dimensions for the concatenation axis must match exactly, but along dimension 0, the array at index 0 has size 79 and the array at index 1 has size 130"
     ]
    }
   ],
   "source": [
    "tableau = generates_matrix(A, b, lbounds, ubounds, c)"
   ]
  },
  {
   "cell_type": "code",
   "execution_count": 19,
   "id": "competent-matter",
   "metadata": {},
   "outputs": [
    {
     "data": {
      "text/plain": [
       "-160.0"
      ]
     },
     "execution_count": 19,
     "metadata": {},
     "output_type": "execute_result"
    }
   ],
   "source": [
    "min(matrix[:-1, -1])"
   ]
  },
  {
   "cell_type": "code",
   "execution_count": 20,
   "id": "conventional-april",
   "metadata": {},
   "outputs": [
    {
     "ename": "KeyboardInterrupt",
     "evalue": "",
     "output_type": "error",
     "traceback": [
      "\u001b[0;31m---------------------------------------------------------------------------\u001b[0m",
      "\u001b[0;31mKeyboardInterrupt\u001b[0m                         Traceback (most recent call last)",
      "\u001b[0;32m<ipython-input-20-8ae3779b96d7>\u001b[0m in \u001b[0;36m<module>\u001b[0;34m\u001b[0m\n\u001b[1;32m      1\u001b[0m \u001b[0mstart\u001b[0m \u001b[0;34m=\u001b[0m \u001b[0mtimeit\u001b[0m\u001b[0;34m.\u001b[0m\u001b[0mtimeit\u001b[0m\u001b[0;34m(\u001b[0m\u001b[0;34m)\u001b[0m\u001b[0;34m\u001b[0m\u001b[0;34m\u001b[0m\u001b[0m\n\u001b[1;32m      2\u001b[0m \u001b[0;34m\u001b[0m\u001b[0m\n\u001b[0;32m----> 3\u001b[0;31m \u001b[0mproblem_approx\u001b[0m \u001b[0;34m=\u001b[0m \u001b[0mmaxz\u001b[0m\u001b[0;34m(\u001b[0m\u001b[0mmatrix\u001b[0m\u001b[0;34m)\u001b[0m\u001b[0;34m\u001b[0m\u001b[0;34m\u001b[0m\u001b[0m\n\u001b[0m\u001b[1;32m      4\u001b[0m \u001b[0;34m\u001b[0m\u001b[0m\n\u001b[1;32m      5\u001b[0m \u001b[0mend\u001b[0m \u001b[0;34m=\u001b[0m \u001b[0mtimeit\u001b[0m\u001b[0;34m.\u001b[0m\u001b[0mtimeit\u001b[0m\u001b[0;34m(\u001b[0m\u001b[0;34m)\u001b[0m\u001b[0;34m\u001b[0m\u001b[0;34m\u001b[0m\u001b[0m\n",
      "\u001b[0;32m~/Desktop/MaestriaCD/Semestres/Semestre2/venv/lib/python3.7/site-packages/mex/simplex/problem_definition.py\u001b[0m in \u001b[0;36mmaxz\u001b[0;34m(matrix, aux)\u001b[0m\n\u001b[1;32m    207\u001b[0m \u001b[0;34m\u001b[0m\u001b[0m\n\u001b[1;32m    208\u001b[0m     \u001b[0;32mwhile\u001b[0m \u001b[0mpivots_col\u001b[0m\u001b[0;34m(\u001b[0m\u001b[0mmatrix\u001b[0m\u001b[0;34m)\u001b[0m\u001b[0;34m:\u001b[0m\u001b[0;34m\u001b[0m\u001b[0;34m\u001b[0m\u001b[0m\n\u001b[0;32m--> 209\u001b[0;31m         \u001b[0mmatrix\u001b[0m \u001b[0;34m=\u001b[0m \u001b[0mpivot\u001b[0m\u001b[0;34m(\u001b[0m\u001b[0mfind_pivot_col\u001b[0m\u001b[0;34m(\u001b[0m\u001b[0mmatrix\u001b[0m\u001b[0;34m)\u001b[0m\u001b[0;34m[\u001b[0m\u001b[0;36m0\u001b[0m\u001b[0;34m]\u001b[0m\u001b[0;34m,\u001b[0m \u001b[0mfind_pivot_col\u001b[0m\u001b[0;34m(\u001b[0m\u001b[0mmatrix\u001b[0m\u001b[0;34m)\u001b[0m\u001b[0;34m[\u001b[0m\u001b[0;36m1\u001b[0m\u001b[0;34m]\u001b[0m\u001b[0;34m,\u001b[0m \u001b[0mmatrix\u001b[0m\u001b[0;34m)\u001b[0m\u001b[0;34m\u001b[0m\u001b[0;34m\u001b[0m\u001b[0m\n\u001b[0m\u001b[1;32m    210\u001b[0m     \u001b[0;32mwhile\u001b[0m \u001b[0mpivots_row\u001b[0m\u001b[0;34m(\u001b[0m\u001b[0mmatrix\u001b[0m\u001b[0;34m)\u001b[0m\u001b[0;34m:\u001b[0m\u001b[0;34m\u001b[0m\u001b[0;34m\u001b[0m\u001b[0m\n\u001b[1;32m    211\u001b[0m         \u001b[0mmatrix\u001b[0m \u001b[0;34m=\u001b[0m \u001b[0mpivot\u001b[0m\u001b[0;34m(\u001b[0m\u001b[0mfind_pivot_row\u001b[0m\u001b[0;34m(\u001b[0m\u001b[0mmatrix\u001b[0m\u001b[0;34m)\u001b[0m\u001b[0;34m[\u001b[0m\u001b[0;36m0\u001b[0m\u001b[0;34m]\u001b[0m\u001b[0;34m,\u001b[0m \u001b[0mfind_pivot_row\u001b[0m\u001b[0;34m(\u001b[0m\u001b[0mmatrix\u001b[0m\u001b[0;34m)\u001b[0m\u001b[0;34m[\u001b[0m\u001b[0;36m1\u001b[0m\u001b[0;34m]\u001b[0m\u001b[0;34m,\u001b[0m \u001b[0mmatrix\u001b[0m\u001b[0;34m)\u001b[0m\u001b[0;34m\u001b[0m\u001b[0;34m\u001b[0m\u001b[0m\n",
      "\u001b[0;32m~/Desktop/MaestriaCD/Semestres/Semestre2/venv/lib/python3.7/site-packages/mex/simplex/simplex_networks.py\u001b[0m in \u001b[0;36mpivot\u001b[0;34m(row, col, matrix)\u001b[0m\n\u001b[1;32m    199\u001b[0m             \u001b[0mk\u001b[0m \u001b[0;34m=\u001b[0m \u001b[0mmatrix\u001b[0m\u001b[0;34m[\u001b[0m\u001b[0mi\u001b[0m\u001b[0;34m,\u001b[0m \u001b[0;34m:\u001b[0m\u001b[0;34m]\u001b[0m\u001b[0;34m\u001b[0m\u001b[0;34m\u001b[0m\u001b[0m\n\u001b[1;32m    200\u001b[0m             \u001b[0mc\u001b[0m \u001b[0;34m=\u001b[0m \u001b[0mmatrix\u001b[0m\u001b[0;34m[\u001b[0m\u001b[0mi\u001b[0m\u001b[0;34m,\u001b[0m \u001b[0mcol\u001b[0m\u001b[0;34m]\u001b[0m\u001b[0;34m\u001b[0m\u001b[0;34m\u001b[0m\u001b[0m\n\u001b[0;32m--> 201\u001b[0;31m             \u001b[0;32mif\u001b[0m \u001b[0mlist\u001b[0m\u001b[0;34m(\u001b[0m\u001b[0mk\u001b[0m\u001b[0;34m)\u001b[0m \u001b[0;34m==\u001b[0m \u001b[0mlist\u001b[0m\u001b[0;34m(\u001b[0m\u001b[0mpr\u001b[0m\u001b[0;34m)\u001b[0m\u001b[0;34m:\u001b[0m\u001b[0;34m\u001b[0m\u001b[0;34m\u001b[0m\u001b[0m\n\u001b[0m\u001b[1;32m    202\u001b[0m                 \u001b[0;32mcontinue\u001b[0m\u001b[0;34m\u001b[0m\u001b[0;34m\u001b[0m\u001b[0m\n\u001b[1;32m    203\u001b[0m             \u001b[0;32melse\u001b[0m\u001b[0;34m:\u001b[0m\u001b[0;34m\u001b[0m\u001b[0;34m\u001b[0m\u001b[0m\n",
      "\u001b[0;31mKeyboardInterrupt\u001b[0m: "
     ]
    }
   ],
   "source": [
    "start = timeit.timeit()\n",
    "\n",
    "problem_approx = maxz(matrix)\n",
    "\n",
    "end = timeit.timeit()\n",
    "print(end - start)\n"
   ]
  },
  {
   "cell_type": "markdown",
   "id": "analyzed-swing",
   "metadata": {},
   "source": [
    "Comenzó a correr a las $3:11:00$"
   ]
  },
  {
   "cell_type": "code",
   "execution_count": null,
   "id": "increasing-coffee",
   "metadata": {},
   "outputs": [],
   "source": [
    "start = timeit.timeit()\n",
    "\n",
    "problem_approx = minz(matrix)\n",
    "\n",
    "end = timeit.timeit()\n",
    "print(end - start)\n"
   ]
  }
 ],
 "metadata": {
  "kernelspec": {
   "display_name": "Python 3",
   "language": "python",
   "name": "python3"
  },
  "language_info": {
   "codemirror_mode": {
    "name": "ipython",
    "version": 3
   },
   "file_extension": ".py",
   "mimetype": "text/x-python",
   "name": "python",
   "nbconvert_exporter": "python",
   "pygments_lexer": "ipython3",
   "version": "3.8.5"
  }
 },
 "nbformat": 4,
 "nbformat_minor": 5
}
